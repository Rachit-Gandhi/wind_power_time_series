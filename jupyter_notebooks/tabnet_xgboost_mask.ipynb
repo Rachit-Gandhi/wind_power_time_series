{
 "cells": [
  {
   "cell_type": "code",
   "execution_count": 27,
   "metadata": {},
   "outputs": [],
   "source": [
    "import pickle\n",
    "import pandas as pd\n",
    "import numpy as np"
   ]
  },
  {
   "cell_type": "code",
   "execution_count": 28,
   "metadata": {},
   "outputs": [],
   "source": [
    "df = pd.read_pickle('turbine1_df_final.pkl')\n",
    "\n"
   ]
  },
  {
   "cell_type": "code",
   "execution_count": 29,
   "metadata": {},
   "outputs": [],
   "source": [
    "df['# Date and time'] = pd.to_datetime(df['# Date and time'])\n",
    "# Perform cyclic encoding for month and hour\n",
    "df['month_sin'] = np.sin(2 * np.pi * df['# Date and time'].dt.month / 12)\n",
    "df['month_cos'] = np.cos(2 * np.pi * df['# Date and time'].dt.month / 12)\n",
    "\n",
    "df['hour_sin'] = np.sin(2 * np.pi * df['# Date and time'].dt.hour / 24)\n",
    "df['hour_cos'] = np.cos(2 * np.pi * df['# Date and time'].dt.hour / 24)\n",
    "\n",
    "# Drop the original 'Date and time' column\n",
    "df.drop('# Date and time', axis=1, inplace=True)"
   ]
  },
  {
   "cell_type": "code",
   "execution_count": 30,
   "metadata": {},
   "outputs": [
    {
     "name": "stdout",
     "output_type": "stream",
     "text": [
      "Training set shape: (78436, 66)\n",
      "Validation set shape: (26146, 66)\n",
      "Testing set shape: (26146, 66)\n"
     ]
    }
   ],
   "source": [
    "from sklearn.model_selection import train_test_split\n",
    "\n",
    "# Split the dataset into training, validation, and testing sets\n",
    "train_df, test_df = train_test_split(df, test_size=0.2, random_state=42, shuffle=False)\n",
    "train_df, val_df = train_test_split(train_df, test_size=0.25, random_state=42, shuffle=False)\n",
    "\n",
    "# Print the shape of each split\n",
    "print('Training set shape:', train_df.shape)\n",
    "print('Validation set shape:', val_df.shape)\n",
    "print('Testing set shape:', test_df.shape)\n",
    "test_df.reset_index(drop=True, inplace=True)\n",
    "val_df.reset_index(drop=True, inplace=True)"
   ]
  },
  {
   "cell_type": "code",
   "execution_count": 31,
   "metadata": {},
   "outputs": [
    {
     "name": "stdout",
     "output_type": "stream",
     "text": [
      "Requirement already satisfied: pytorch-tabnet in c:\\users\\rachitgandhi1\\appdata\\local\\anaconda3\\lib\\site-packages (4.1.0)\n",
      "Requirement already satisfied: numpy>=1.17 in c:\\users\\rachitgandhi1\\appdata\\local\\anaconda3\\lib\\site-packages (from pytorch-tabnet) (1.23.5)\n",
      "Requirement already satisfied: scipy>1.4 in c:\\users\\rachitgandhi1\\appdata\\local\\anaconda3\\lib\\site-packages (from pytorch-tabnet) (1.10.0)\n",
      "Requirement already satisfied: scikit_learn>0.21 in c:\\users\\rachitgandhi1\\appdata\\local\\anaconda3\\lib\\site-packages (from pytorch-tabnet) (1.2.1)\n",
      "Requirement already satisfied: torch>=1.3 in c:\\users\\rachitgandhi1\\appdata\\local\\anaconda3\\lib\\site-packages (from pytorch-tabnet) (1.12.1)\n",
      "Requirement already satisfied: tqdm>=4.36 in c:\\users\\rachitgandhi1\\appdata\\local\\anaconda3\\lib\\site-packages (from pytorch-tabnet) (4.64.1)\n",
      "Requirement already satisfied: threadpoolctl>=2.0.0 in c:\\users\\rachitgandhi1\\appdata\\local\\anaconda3\\lib\\site-packages (from scikit_learn>0.21->pytorch-tabnet) (2.2.0)\n",
      "Requirement already satisfied: joblib>=1.1.1 in c:\\users\\rachitgandhi1\\appdata\\local\\anaconda3\\lib\\site-packages (from scikit_learn>0.21->pytorch-tabnet) (1.1.1)\n",
      "Requirement already satisfied: typing_extensions in c:\\users\\rachitgandhi1\\appdata\\local\\anaconda3\\lib\\site-packages (from torch>=1.3->pytorch-tabnet) (4.4.0)\n",
      "Requirement already satisfied: colorama in c:\\users\\rachitgandhi1\\appdata\\local\\anaconda3\\lib\\site-packages (from tqdm>=4.36->pytorch-tabnet) (0.4.6)\n"
     ]
    }
   ],
   "source": [
    "!pip install pytorch-tabnet\n",
    "from pytorch_tabnet.tab_model import TabNetRegressor\n",
    "import torch\n",
    "from sklearn.preprocessing import LabelEncoder\n",
    "from sklearn.metrics import mean_squared_error\n",
    "\n",
    "import pandas as pd\n",
    "import numpy as np\n",
    "np.random.seed(0)\n",
    "\n",
    "\n",
    "import os\n"
   ]
  },
  {
   "cell_type": "code",
   "execution_count": 32,
   "metadata": {},
   "outputs": [
    {
     "name": "stdout",
     "output_type": "stream",
     "text": [
      "RangeIndex(start=0, stop=26146, step=1)\n"
     ]
    }
   ],
   "source": [
    "train_indices = train_df.index\n",
    "valid_indices = val_df.index\n",
    "test_indices = test_df.index\n",
    "print(valid_indices)"
   ]
  },
  {
   "cell_type": "code",
   "execution_count": 33,
   "metadata": {},
   "outputs": [],
   "source": [
    "target = 'Power (kW)'\n",
    "features = [ col for col in train_df.columns if col not in target] \n",
    "\n",
    "X_train = train_df[features].values[train_indices]\n",
    "y_train = train_df[target].values[train_indices].reshape(-1, 1)\n",
    "\n",
    "X_valid = val_df[features].values[valid_indices]\n",
    "y_valid = val_df[target].values[valid_indices].reshape(-1, 1)\n",
    "\n",
    "X_test = test_df[features].values[test_indices]\n",
    "y_test = test_df[target].values[test_indices].reshape(-1, 1)\n"
   ]
  },
  {
   "cell_type": "code",
   "execution_count": 34,
   "metadata": {},
   "outputs": [],
   "source": [
    "max_epochs = 40 if not os.getenv(\"CI\", False) else 2"
   ]
  },
  {
   "cell_type": "code",
   "execution_count": 35,
   "metadata": {},
   "outputs": [],
   "source": [
    "from pytorch_tabnet.augmentations import RegressionSMOTE\n",
    "aug = RegressionSMOTE(p=0.2)\n"
   ]
  },
  {
   "cell_type": "code",
   "execution_count": 25,
   "metadata": {},
   "outputs": [
    {
     "name": "stderr",
     "output_type": "stream",
     "text": [
      "c:\\Users\\rachitgandhi1\\AppData\\Local\\anaconda3\\lib\\site-packages\\pytorch_tabnet\\abstract_model.py:82: UserWarning: Device used : cpu\n",
      "  warnings.warn(f\"Device used : {self.device}\")\n"
     ]
    }
   ],
   "source": [
    "\n",
    "clf = TabNetRegressor(n_d=8, n_a=8, n_steps=16 ,gamma=1.95)\n"
   ]
  },
  {
   "cell_type": "code",
   "execution_count": 26,
   "metadata": {},
   "outputs": [
    {
     "name": "stdout",
     "output_type": "stream",
     "text": [
      "epoch 0  | loss: 1.76904 | train_rmsle: 0.18202 | train_mae: 0.21117 | train_rmse: 0.25996 | train_mse: 0.06758 | valid_rmsle: 0.16384 | valid_mae: 0.185   | valid_rmse: 0.22626 | valid_mse: 0.05119 |  0:01:12s\n",
      "epoch 1  | loss: 0.13267 | train_rmsle: 0.13949 | train_mae: 0.14952 | train_rmse: 0.21941 | train_mse: 0.04814 | valid_rmsle: 0.12634 | valid_mae: 0.13337 | valid_rmse: 0.19433 | valid_mse: 0.03776 |  0:02:48s\n",
      "epoch 2  | loss: 0.02175 | train_rmsle: 0.13933 | train_mae: 0.14596 | train_rmse: 0.22098 | train_mse: 0.04883 | valid_rmsle: 0.1299  | valid_mae: 0.13479 | valid_rmse: 0.20061 | valid_mse: 0.04024 |  0:04:25s\n",
      "epoch 3  | loss: 0.01553 | train_rmsle: 0.09007 | train_mae: 0.09885 | train_rmse: 0.14113 | train_mse: 0.01992 | valid_rmsle: 0.08639 | valid_mae: 0.09414 | valid_rmse: 0.12971 | valid_mse: 0.01682 |  0:05:59s\n",
      "epoch 4  | loss: 0.01232 | train_rmsle: 0.07845 | train_mae: 0.08565 | train_rmse: 0.1213  | train_mse: 0.01471 | valid_rmsle: 0.07721 | valid_mae: 0.08175 | valid_rmse: 0.10883 | valid_mse: 0.01184 |  0:07:45s\n",
      "epoch 5  | loss: 0.01058 | train_rmsle: 0.063   | train_mae: 0.06585 | train_rmse: 0.09745 | train_mse: 0.0095  | valid_rmsle: 0.06485 | valid_mae: 0.06801 | valid_rmse: 0.09432 | valid_mse: 0.0089  |  0:09:50s\n",
      "epoch 6  | loss: 0.01118 | train_rmsle: 0.07353 | train_mae: 0.08407 | train_rmse: 0.12109 | train_mse: 0.01466 | valid_rmsle: 0.08165 | valid_mae: 0.08479 | valid_rmse: 0.12295 | valid_mse: 0.01512 |  0:11:55s\n",
      "epoch 7  | loss: 0.00902 | train_rmsle: 0.06136 | train_mae: 0.06381 | train_rmse: 0.10097 | train_mse: 0.0102  | valid_rmsle: 0.06224 | valid_mae: 0.0623  | valid_rmse: 0.0976  | valid_mse: 0.00953 |  0:14:06s\n",
      "epoch 8  | loss: 0.00784 | train_rmsle: 0.05042 | train_mae: 0.05137 | train_rmse: 0.07645 | train_mse: 0.00584 | valid_rmsle: 0.06491 | valid_mae: 0.06241 | valid_rmse: 0.09054 | valid_mse: 0.0082  |  0:15:55s\n",
      "epoch 9  | loss: 0.00736 | train_rmsle: 0.05091 | train_mae: 0.04958 | train_rmse: 0.07506 | train_mse: 0.00563 | valid_rmsle: 0.0689  | valid_mae: 0.06611 | valid_rmse: 0.09546 | valid_mse: 0.00911 |  0:17:50s\n",
      "epoch 10 | loss: 0.00673 | train_rmsle: 0.0439  | train_mae: 0.03994 | train_rmse: 0.06656 | train_mse: 0.00443 | valid_rmsle: 0.05909 | valid_mae: 0.05332 | valid_rmse: 0.07991 | valid_mse: 0.00638 |  0:19:41s\n",
      "epoch 11 | loss: 0.00667 | train_rmsle: 0.03679 | train_mae: 0.03363 | train_rmse: 0.05733 | train_mse: 0.00329 | valid_rmsle: 0.05149 | valid_mae: 0.04381 | valid_rmse: 0.07062 | valid_mse: 0.00499 |  0:21:19s\n",
      "epoch 12 | loss: 0.00498 | train_rmsle: 0.03779 | train_mae: 0.03521 | train_rmse: 0.05803 | train_mse: 0.00337 | valid_rmsle: 0.05436 | valid_mae: 0.05075 | valid_rmse: 0.0688  | valid_mse: 0.00473 |  0:22:56s\n",
      "epoch 13 | loss: 0.00444 | train_rmsle: 0.0377  | train_mae: 0.03879 | train_rmse: 0.06285 | train_mse: 0.00395 | valid_rmsle: 0.03926 | valid_mae: 0.04072 | valid_rmse: 0.06236 | valid_mse: 0.00389 |  0:25:03s\n",
      "epoch 14 | loss: 0.00478 | train_rmsle: 0.03478 | train_mae: 0.03352 | train_rmse: 0.05076 | train_mse: 0.00258 | valid_rmsle: 0.05004 | valid_mae: 0.04595 | valid_rmse: 0.06488 | valid_mse: 0.00421 |  0:26:40s\n",
      "epoch 15 | loss: 0.00416 | train_rmsle: 0.03832 | train_mae: 0.04011 | train_rmse: 0.0611  | train_mse: 0.00373 | valid_rmsle: 0.09148 | valid_mae: 0.07917 | valid_rmse: 0.16754 | valid_mse: 0.02807 |  0:28:32s\n",
      "epoch 16 | loss: 0.00444 | train_rmsle: 0.03709 | train_mae: 0.03864 | train_rmse: 0.06059 | train_mse: 0.00367 | valid_rmsle: 0.0561  | valid_mae: 0.04737 | valid_rmse: 0.07291 | valid_mse: 0.00532 |  0:30:11s\n",
      "epoch 17 | loss: 0.00405 | train_rmsle: 0.03333 | train_mae: 0.03381 | train_rmse: 0.04828 | train_mse: 0.00233 | valid_rmsle: 0.04985 | valid_mae: 0.04698 | valid_rmse: 0.06415 | valid_mse: 0.00411 |  0:31:37s\n",
      "epoch 18 | loss: 0.00386 | train_rmsle: 0.02724 | train_mae: 0.02914 | train_rmse: 0.04286 | train_mse: 0.00184 | valid_rmsle: 0.05169 | valid_mae: 0.04368 | valid_rmse: 0.06533 | valid_mse: 0.00427 |  0:33:00s\n",
      "epoch 19 | loss: 0.00359 | train_rmsle: 0.03003 | train_mae: 0.02892 | train_rmse: 0.04543 | train_mse: 0.00206 | valid_rmsle: 0.04401 | valid_mae: 0.03975 | valid_rmse: 0.05864 | valid_mse: 0.00344 |  0:34:03s\n",
      "epoch 20 | loss: 0.00344 | train_rmsle: 0.02928 | train_mae: 0.02898 | train_rmse: 0.04351 | train_mse: 0.00189 | valid_rmsle: 0.04334 | valid_mae: 0.0436  | valid_rmse: 0.05898 | valid_mse: 0.00348 |  0:35:04s\n",
      "epoch 21 | loss: 0.00337 | train_rmsle: 0.02972 | train_mae: 0.03106 | train_rmse: 0.04747 | train_mse: 0.00225 | valid_rmsle: 0.0384  | valid_mae: 0.03844 | valid_rmse: 0.05605 | valid_mse: 0.00314 |  0:36:08s\n",
      "epoch 22 | loss: 0.003   | train_rmsle: 0.0273  | train_mae: 0.02805 | train_rmse: 0.06037 | train_mse: 0.00364 | valid_rmsle: 0.03705 | valid_mae: 0.03473 | valid_rmse: 0.05158 | valid_mse: 0.00266 |  0:37:10s\n",
      "epoch 23 | loss: 0.00326 | train_rmsle: 0.02933 | train_mae: 0.02997 | train_rmse: 0.09285 | train_mse: 0.00862 | valid_rmsle: 0.03384 | valid_mae: 0.03034 | valid_rmse: 0.04511 | valid_mse: 0.00203 |  0:38:13s\n",
      "epoch 24 | loss: 0.00284 | train_rmsle: 0.02904 | train_mae: 0.02818 | train_rmse: 0.06388 | train_mse: 0.00408 | valid_rmsle: 0.04258 | valid_mae: 0.0406  | valid_rmse: 0.06117 | valid_mse: 0.00374 |  0:39:17s\n",
      "epoch 25 | loss: 0.00333 | train_rmsle: 0.03009 | train_mae: 0.0291  | train_rmse: 0.04164 | train_mse: 0.00173 | valid_rmsle: 0.05837 | valid_mae: 0.05384 | valid_rmse: 0.07964 | valid_mse: 0.00634 |  0:40:19s\n",
      "epoch 26 | loss: 0.00281 | train_rmsle: 0.02428 | train_mae: 0.02388 | train_rmse: 0.03678 | train_mse: 0.00135 | valid_rmsle: 0.0444  | valid_mae: 0.0363  | valid_rmse: 0.05802 | valid_mse: 0.00337 |  0:41:31s\n",
      "epoch 27 | loss: 0.00268 | train_rmsle: 0.02889 | train_mae: 0.03009 | train_rmse: 0.05009 | train_mse: 0.00251 | valid_rmsle: 0.03262 | valid_mae: 0.03122 | valid_rmse: 0.05054 | valid_mse: 0.00255 |  0:42:35s\n",
      "epoch 28 | loss: 0.0034  | train_rmsle: 0.03136 | train_mae: 0.02748 | train_rmse: 0.04749 | train_mse: 0.00226 | valid_rmsle: 0.04499 | valid_mae: 0.03612 | valid_rmse: 0.05984 | valid_mse: 0.00358 |  0:43:36s\n",
      "epoch 29 | loss: 0.0029  | train_rmsle: 0.02855 | train_mae: 0.02829 | train_rmse: 0.04654 | train_mse: 0.00217 | valid_rmsle: 0.03506 | valid_mae: 0.0305  | valid_rmse: 0.05116 | valid_mse: 0.00262 |  0:44:39s\n",
      "epoch 30 | loss: 0.00308 | train_rmsle: 0.02861 | train_mae: 0.0273  | train_rmse: 0.04213 | train_mse: 0.00177 | valid_rmsle: 0.0469  | valid_mae: 0.04075 | valid_rmse: 0.06832 | valid_mse: 0.00467 |  0:45:40s\n",
      "epoch 31 | loss: 0.00278 | train_rmsle: 0.0319  | train_mae: 0.0287  | train_rmse: 0.04521 | train_mse: 0.00204 | valid_rmsle: 0.03875 | valid_mae: 0.03493 | valid_rmse: 0.05551 | valid_mse: 0.00308 |  0:46:41s\n",
      "epoch 32 | loss: 0.00295 | train_rmsle: 0.02813 | train_mae: 0.02672 | train_rmse: 0.04099 | train_mse: 0.00168 | valid_rmsle: 0.03407 | valid_mae: 0.03019 | valid_rmse: 0.04737 | valid_mse: 0.00224 |  0:47:41s\n",
      "epoch 33 | loss: 0.00281 | train_rmsle: 0.02965 | train_mae: 0.02876 | train_rmse: 0.04373 | train_mse: 0.00191 | valid_rmsle: 0.04163 | valid_mae: 0.03608 | valid_rmse: 0.0588  | valid_mse: 0.00346 |  0:48:42s\n",
      "epoch 34 | loss: 0.00274 | train_rmsle: 0.03274 | train_mae: 0.03504 | train_rmse: 0.05471 | train_mse: 0.00299 | valid_rmsle: 0.03546 | valid_mae: 0.03193 | valid_rmse: 0.05314 | valid_mse: 0.00282 |  0:49:43s\n",
      "epoch 35 | loss: 0.00292 | train_rmsle: 0.02845 | train_mae: 0.02889 | train_rmse: 0.04353 | train_mse: 0.00189 | valid_rmsle: 0.0365  | valid_mae: 0.03332 | valid_rmse: 0.05088 | valid_mse: 0.00259 |  0:50:43s\n",
      "epoch 36 | loss: 0.00276 | train_rmsle: 0.02789 | train_mae: 0.02655 | train_rmse: 0.04383 | train_mse: 0.00192 | valid_rmsle: 0.04547 | valid_mae: 0.04498 | valid_rmse: 0.06877 | valid_mse: 0.00473 |  0:51:45s\n",
      "epoch 37 | loss: 0.00269 | train_rmsle: 0.03012 | train_mae: 0.03092 | train_rmse: 0.04996 | train_mse: 0.0025  | valid_rmsle: 0.03447 | valid_mae: 0.03215 | valid_rmse: 0.05009 | valid_mse: 0.00251 |  0:52:49s\n",
      "epoch 38 | loss: 0.00251 | train_rmsle: 0.02801 | train_mae: 0.02902 | train_rmse: 0.05083 | train_mse: 0.00258 | valid_rmsle: 0.02852 | valid_mae: 0.02709 | valid_rmse: 0.04174 | valid_mse: 0.00174 |  0:53:54s\n",
      "epoch 39 | loss: 0.00268 | train_rmsle: 0.02797 | train_mae: 0.02761 | train_rmse: 0.042   | train_mse: 0.00176 | valid_rmsle: 0.04572 | valid_mae: 0.04145 | valid_rmse: 0.05822 | valid_mse: 0.00339 |  0:54:55s\n",
      "epoch 40 | loss: 0.00249 | train_rmsle: 0.02822 | train_mae: 0.02892 | train_rmse: 0.06291 | train_mse: 0.00396 | valid_rmsle: 0.03707 | valid_mae: 0.03335 | valid_rmse: 0.05516 | valid_mse: 0.00304 |  0:55:55s\n",
      "epoch 41 | loss: 0.00265 | train_rmsle: 0.0275  | train_mae: 0.02694 | train_rmse: 0.05438 | train_mse: 0.00296 | valid_rmsle: 0.04336 | valid_mae: 0.05034 | valid_rmse: 0.0944  | valid_mse: 0.00891 |  0:56:56s\n",
      "epoch 42 | loss: 0.00258 | train_rmsle: 0.03319 | train_mae: 0.03161 | train_rmse: 0.05498 | train_mse: 0.00302 | valid_rmsle: 0.04457 | valid_mae: 0.04512 | valid_rmse: 0.0682  | valid_mse: 0.00465 |  0:57:58s\n",
      "epoch 43 | loss: 0.00248 | train_rmsle: 0.04548 | train_mae: 0.04928 | train_rmse: 0.08612 | train_mse: 0.00742 | valid_rmsle: 0.04573 | valid_mae: 0.0516  | valid_rmse: 0.08971 | valid_mse: 0.00805 |  0:59:00s\n",
      "epoch 44 | loss: 0.00263 | train_rmsle: 0.03834 | train_mae: 0.04267 | train_rmse: 0.1072  | train_mse: 0.01149 | valid_rmsle: 0.03649 | valid_mae: 0.0515  | valid_rmse: 0.12538 | valid_mse: 0.01572 |  1:00:02s\n"
     ]
    },
    {
     "ename": "KeyboardInterrupt",
     "evalue": "",
     "output_type": "error",
     "traceback": [
      "\u001b[1;31m---------------------------------------------------------------------------\u001b[0m",
      "\u001b[1;31mKeyboardInterrupt\u001b[0m                         Traceback (most recent call last)",
      "Cell \u001b[1;32mIn[26], line 1\u001b[0m\n\u001b[1;32m----> 1\u001b[0m clf\u001b[39m.\u001b[39;49mfit(\n\u001b[0;32m      2\u001b[0m     X_train\u001b[39m=\u001b[39;49mX_train, y_train\u001b[39m=\u001b[39;49my_train,\n\u001b[0;32m      3\u001b[0m     eval_set\u001b[39m=\u001b[39;49m[(X_train, y_train), (X_valid, y_valid)],\n\u001b[0;32m      4\u001b[0m     eval_name\u001b[39m=\u001b[39;49m[\u001b[39m'\u001b[39;49m\u001b[39mtrain\u001b[39;49m\u001b[39m'\u001b[39;49m, \u001b[39m'\u001b[39;49m\u001b[39mvalid\u001b[39;49m\u001b[39m'\u001b[39;49m],\n\u001b[0;32m      5\u001b[0m     eval_metric\u001b[39m=\u001b[39;49m[\u001b[39m'\u001b[39;49m\u001b[39mrmsle\u001b[39;49m\u001b[39m'\u001b[39;49m, \u001b[39m'\u001b[39;49m\u001b[39mmae\u001b[39;49m\u001b[39m'\u001b[39;49m, \u001b[39m'\u001b[39;49m\u001b[39mrmse\u001b[39;49m\u001b[39m'\u001b[39;49m, \u001b[39m'\u001b[39;49m\u001b[39mmse\u001b[39;49m\u001b[39m'\u001b[39;49m],\n\u001b[0;32m      6\u001b[0m     max_epochs\u001b[39m=\u001b[39;49mmax_epochs,\n\u001b[0;32m      7\u001b[0m     patience\u001b[39m=\u001b[39;49m\u001b[39m50\u001b[39;49m,\n\u001b[0;32m      8\u001b[0m     batch_size\u001b[39m=\u001b[39;49m\u001b[39m1024\u001b[39;49m, virtual_batch_size\u001b[39m=\u001b[39;49m\u001b[39m128\u001b[39;49m,\n\u001b[0;32m      9\u001b[0m     num_workers\u001b[39m=\u001b[39;49m\u001b[39m0\u001b[39;49m,\n\u001b[0;32m     10\u001b[0m     drop_last\u001b[39m=\u001b[39;49m\u001b[39mFalse\u001b[39;49;00m,\n\u001b[0;32m     11\u001b[0m     augmentations\u001b[39m=\u001b[39;49maug, \u001b[39m#aug\u001b[39;49;00m\n\u001b[0;32m     12\u001b[0m )\n",
      "File \u001b[1;32mc:\\Users\\rachitgandhi1\\AppData\\Local\\anaconda3\\lib\\site-packages\\pytorch_tabnet\\abstract_model.py:258\u001b[0m, in \u001b[0;36mTabModel.fit\u001b[1;34m(self, X_train, y_train, eval_set, eval_name, eval_metric, loss_fn, weights, max_epochs, patience, batch_size, virtual_batch_size, num_workers, drop_last, callbacks, pin_memory, from_unsupervised, warm_start, augmentations, compute_importance)\u001b[0m\n\u001b[0;32m    253\u001b[0m \u001b[39mfor\u001b[39;00m epoch_idx \u001b[39min\u001b[39;00m \u001b[39mrange\u001b[39m(\u001b[39mself\u001b[39m\u001b[39m.\u001b[39mmax_epochs):\n\u001b[0;32m    254\u001b[0m \n\u001b[0;32m    255\u001b[0m     \u001b[39m# Call method on_epoch_begin for all callbacks\u001b[39;00m\n\u001b[0;32m    256\u001b[0m     \u001b[39mself\u001b[39m\u001b[39m.\u001b[39m_callback_container\u001b[39m.\u001b[39mon_epoch_begin(epoch_idx)\n\u001b[1;32m--> 258\u001b[0m     \u001b[39mself\u001b[39;49m\u001b[39m.\u001b[39;49m_train_epoch(train_dataloader)\n\u001b[0;32m    260\u001b[0m     \u001b[39m# Apply predict epoch to all eval sets\u001b[39;00m\n\u001b[0;32m    261\u001b[0m     \u001b[39mfor\u001b[39;00m eval_name, valid_dataloader \u001b[39min\u001b[39;00m \u001b[39mzip\u001b[39m(eval_names, valid_dataloaders):\n",
      "File \u001b[1;32mc:\\Users\\rachitgandhi1\\AppData\\Local\\anaconda3\\lib\\site-packages\\pytorch_tabnet\\abstract_model.py:489\u001b[0m, in \u001b[0;36mTabModel._train_epoch\u001b[1;34m(self, train_loader)\u001b[0m\n\u001b[0;32m    486\u001b[0m \u001b[39mfor\u001b[39;00m batch_idx, (X, y) \u001b[39min\u001b[39;00m \u001b[39menumerate\u001b[39m(train_loader):\n\u001b[0;32m    487\u001b[0m     \u001b[39mself\u001b[39m\u001b[39m.\u001b[39m_callback_container\u001b[39m.\u001b[39mon_batch_begin(batch_idx)\n\u001b[1;32m--> 489\u001b[0m     batch_logs \u001b[39m=\u001b[39m \u001b[39mself\u001b[39;49m\u001b[39m.\u001b[39;49m_train_batch(X, y)\n\u001b[0;32m    491\u001b[0m     \u001b[39mself\u001b[39m\u001b[39m.\u001b[39m_callback_container\u001b[39m.\u001b[39mon_batch_end(batch_idx, batch_logs)\n\u001b[0;32m    493\u001b[0m epoch_logs \u001b[39m=\u001b[39m {\u001b[39m\"\u001b[39m\u001b[39mlr\u001b[39m\u001b[39m\"\u001b[39m: \u001b[39mself\u001b[39m\u001b[39m.\u001b[39m_optimizer\u001b[39m.\u001b[39mparam_groups[\u001b[39m-\u001b[39m\u001b[39m1\u001b[39m][\u001b[39m\"\u001b[39m\u001b[39mlr\u001b[39m\u001b[39m\"\u001b[39m]}\n",
      "File \u001b[1;32mc:\\Users\\rachitgandhi1\\AppData\\Local\\anaconda3\\lib\\site-packages\\pytorch_tabnet\\abstract_model.py:527\u001b[0m, in \u001b[0;36mTabModel._train_batch\u001b[1;34m(self, X, y)\u001b[0m\n\u001b[0;32m    524\u001b[0m \u001b[39mfor\u001b[39;00m param \u001b[39min\u001b[39;00m \u001b[39mself\u001b[39m\u001b[39m.\u001b[39mnetwork\u001b[39m.\u001b[39mparameters():\n\u001b[0;32m    525\u001b[0m     param\u001b[39m.\u001b[39mgrad \u001b[39m=\u001b[39m \u001b[39mNone\u001b[39;00m\n\u001b[1;32m--> 527\u001b[0m output, M_loss \u001b[39m=\u001b[39m \u001b[39mself\u001b[39;49m\u001b[39m.\u001b[39;49mnetwork(X)\n\u001b[0;32m    529\u001b[0m loss \u001b[39m=\u001b[39m \u001b[39mself\u001b[39m\u001b[39m.\u001b[39mcompute_loss(output, y)\n\u001b[0;32m    530\u001b[0m \u001b[39m# Add the overall sparsity loss\u001b[39;00m\n",
      "File \u001b[1;32mc:\\Users\\rachitgandhi1\\AppData\\Local\\anaconda3\\lib\\site-packages\\torch\\nn\\modules\\module.py:1130\u001b[0m, in \u001b[0;36mModule._call_impl\u001b[1;34m(self, *input, **kwargs)\u001b[0m\n\u001b[0;32m   1126\u001b[0m \u001b[39m# If we don't have any hooks, we want to skip the rest of the logic in\u001b[39;00m\n\u001b[0;32m   1127\u001b[0m \u001b[39m# this function, and just call forward.\u001b[39;00m\n\u001b[0;32m   1128\u001b[0m \u001b[39mif\u001b[39;00m \u001b[39mnot\u001b[39;00m (\u001b[39mself\u001b[39m\u001b[39m.\u001b[39m_backward_hooks \u001b[39mor\u001b[39;00m \u001b[39mself\u001b[39m\u001b[39m.\u001b[39m_forward_hooks \u001b[39mor\u001b[39;00m \u001b[39mself\u001b[39m\u001b[39m.\u001b[39m_forward_pre_hooks \u001b[39mor\u001b[39;00m _global_backward_hooks\n\u001b[0;32m   1129\u001b[0m         \u001b[39mor\u001b[39;00m _global_forward_hooks \u001b[39mor\u001b[39;00m _global_forward_pre_hooks):\n\u001b[1;32m-> 1130\u001b[0m     \u001b[39mreturn\u001b[39;00m forward_call(\u001b[39m*\u001b[39m\u001b[39minput\u001b[39m, \u001b[39m*\u001b[39m\u001b[39m*\u001b[39mkwargs)\n\u001b[0;32m   1131\u001b[0m \u001b[39m# Do not call functions when jit is used\u001b[39;00m\n\u001b[0;32m   1132\u001b[0m full_backward_hooks, non_full_backward_hooks \u001b[39m=\u001b[39m [], []\n",
      "File \u001b[1;32mc:\\Users\\rachitgandhi1\\AppData\\Local\\anaconda3\\lib\\site-packages\\pytorch_tabnet\\tab_network.py:616\u001b[0m, in \u001b[0;36mTabNet.forward\u001b[1;34m(self, x)\u001b[0m\n\u001b[0;32m    614\u001b[0m \u001b[39mdef\u001b[39;00m \u001b[39mforward\u001b[39m(\u001b[39mself\u001b[39m, x):\n\u001b[0;32m    615\u001b[0m     x \u001b[39m=\u001b[39m \u001b[39mself\u001b[39m\u001b[39m.\u001b[39membedder(x)\n\u001b[1;32m--> 616\u001b[0m     \u001b[39mreturn\u001b[39;00m \u001b[39mself\u001b[39;49m\u001b[39m.\u001b[39;49mtabnet(x)\n",
      "File \u001b[1;32mc:\\Users\\rachitgandhi1\\AppData\\Local\\anaconda3\\lib\\site-packages\\torch\\nn\\modules\\module.py:1130\u001b[0m, in \u001b[0;36mModule._call_impl\u001b[1;34m(self, *input, **kwargs)\u001b[0m\n\u001b[0;32m   1126\u001b[0m \u001b[39m# If we don't have any hooks, we want to skip the rest of the logic in\u001b[39;00m\n\u001b[0;32m   1127\u001b[0m \u001b[39m# this function, and just call forward.\u001b[39;00m\n\u001b[0;32m   1128\u001b[0m \u001b[39mif\u001b[39;00m \u001b[39mnot\u001b[39;00m (\u001b[39mself\u001b[39m\u001b[39m.\u001b[39m_backward_hooks \u001b[39mor\u001b[39;00m \u001b[39mself\u001b[39m\u001b[39m.\u001b[39m_forward_hooks \u001b[39mor\u001b[39;00m \u001b[39mself\u001b[39m\u001b[39m.\u001b[39m_forward_pre_hooks \u001b[39mor\u001b[39;00m _global_backward_hooks\n\u001b[0;32m   1129\u001b[0m         \u001b[39mor\u001b[39;00m _global_forward_hooks \u001b[39mor\u001b[39;00m _global_forward_pre_hooks):\n\u001b[1;32m-> 1130\u001b[0m     \u001b[39mreturn\u001b[39;00m forward_call(\u001b[39m*\u001b[39m\u001b[39minput\u001b[39m, \u001b[39m*\u001b[39m\u001b[39m*\u001b[39mkwargs)\n\u001b[0;32m   1131\u001b[0m \u001b[39m# Do not call functions when jit is used\u001b[39;00m\n\u001b[0;32m   1132\u001b[0m full_backward_hooks, non_full_backward_hooks \u001b[39m=\u001b[39m [], []\n",
      "File \u001b[1;32mc:\\Users\\rachitgandhi1\\AppData\\Local\\anaconda3\\lib\\site-packages\\pytorch_tabnet\\tab_network.py:492\u001b[0m, in \u001b[0;36mTabNetNoEmbeddings.forward\u001b[1;34m(self, x)\u001b[0m\n\u001b[0;32m    490\u001b[0m \u001b[39mdef\u001b[39;00m \u001b[39mforward\u001b[39m(\u001b[39mself\u001b[39m, x):\n\u001b[0;32m    491\u001b[0m     res \u001b[39m=\u001b[39m \u001b[39m0\u001b[39m\n\u001b[1;32m--> 492\u001b[0m     steps_output, M_loss \u001b[39m=\u001b[39m \u001b[39mself\u001b[39;49m\u001b[39m.\u001b[39;49mencoder(x)\n\u001b[0;32m    493\u001b[0m     res \u001b[39m=\u001b[39m torch\u001b[39m.\u001b[39msum(torch\u001b[39m.\u001b[39mstack(steps_output, dim\u001b[39m=\u001b[39m\u001b[39m0\u001b[39m), dim\u001b[39m=\u001b[39m\u001b[39m0\u001b[39m)\n\u001b[0;32m    495\u001b[0m     \u001b[39mif\u001b[39;00m \u001b[39mself\u001b[39m\u001b[39m.\u001b[39mis_multi_task:\n\u001b[0;32m    496\u001b[0m         \u001b[39m# Result will be in list format\u001b[39;00m\n",
      "File \u001b[1;32mc:\\Users\\rachitgandhi1\\AppData\\Local\\anaconda3\\lib\\site-packages\\torch\\nn\\modules\\module.py:1130\u001b[0m, in \u001b[0;36mModule._call_impl\u001b[1;34m(self, *input, **kwargs)\u001b[0m\n\u001b[0;32m   1126\u001b[0m \u001b[39m# If we don't have any hooks, we want to skip the rest of the logic in\u001b[39;00m\n\u001b[0;32m   1127\u001b[0m \u001b[39m# this function, and just call forward.\u001b[39;00m\n\u001b[0;32m   1128\u001b[0m \u001b[39mif\u001b[39;00m \u001b[39mnot\u001b[39;00m (\u001b[39mself\u001b[39m\u001b[39m.\u001b[39m_backward_hooks \u001b[39mor\u001b[39;00m \u001b[39mself\u001b[39m\u001b[39m.\u001b[39m_forward_hooks \u001b[39mor\u001b[39;00m \u001b[39mself\u001b[39m\u001b[39m.\u001b[39m_forward_pre_hooks \u001b[39mor\u001b[39;00m _global_backward_hooks\n\u001b[0;32m   1129\u001b[0m         \u001b[39mor\u001b[39;00m _global_forward_hooks \u001b[39mor\u001b[39;00m _global_forward_pre_hooks):\n\u001b[1;32m-> 1130\u001b[0m     \u001b[39mreturn\u001b[39;00m forward_call(\u001b[39m*\u001b[39m\u001b[39minput\u001b[39m, \u001b[39m*\u001b[39m\u001b[39m*\u001b[39mkwargs)\n\u001b[0;32m   1131\u001b[0m \u001b[39m# Do not call functions when jit is used\u001b[39;00m\n\u001b[0;32m   1132\u001b[0m full_backward_hooks, non_full_backward_hooks \u001b[39m=\u001b[39m [], []\n",
      "File \u001b[1;32mc:\\Users\\rachitgandhi1\\AppData\\Local\\anaconda3\\lib\\site-packages\\pytorch_tabnet\\tab_network.py:181\u001b[0m, in \u001b[0;36mTabNetEncoder.forward\u001b[1;34m(self, x, prior)\u001b[0m\n\u001b[0;32m    179\u001b[0m M_feature_level \u001b[39m=\u001b[39m torch\u001b[39m.\u001b[39mmatmul(M, \u001b[39mself\u001b[39m\u001b[39m.\u001b[39mgroup_attention_matrix)\n\u001b[0;32m    180\u001b[0m masked_x \u001b[39m=\u001b[39m torch\u001b[39m.\u001b[39mmul(M_feature_level, x)\n\u001b[1;32m--> 181\u001b[0m out \u001b[39m=\u001b[39m \u001b[39mself\u001b[39;49m\u001b[39m.\u001b[39;49mfeat_transformers[step](masked_x)\n\u001b[0;32m    182\u001b[0m d \u001b[39m=\u001b[39m ReLU()(out[:, : \u001b[39mself\u001b[39m\u001b[39m.\u001b[39mn_d])\n\u001b[0;32m    183\u001b[0m steps_output\u001b[39m.\u001b[39mappend(d)\n",
      "File \u001b[1;32mc:\\Users\\rachitgandhi1\\AppData\\Local\\anaconda3\\lib\\site-packages\\torch\\nn\\modules\\module.py:1130\u001b[0m, in \u001b[0;36mModule._call_impl\u001b[1;34m(self, *input, **kwargs)\u001b[0m\n\u001b[0;32m   1126\u001b[0m \u001b[39m# If we don't have any hooks, we want to skip the rest of the logic in\u001b[39;00m\n\u001b[0;32m   1127\u001b[0m \u001b[39m# this function, and just call forward.\u001b[39;00m\n\u001b[0;32m   1128\u001b[0m \u001b[39mif\u001b[39;00m \u001b[39mnot\u001b[39;00m (\u001b[39mself\u001b[39m\u001b[39m.\u001b[39m_backward_hooks \u001b[39mor\u001b[39;00m \u001b[39mself\u001b[39m\u001b[39m.\u001b[39m_forward_hooks \u001b[39mor\u001b[39;00m \u001b[39mself\u001b[39m\u001b[39m.\u001b[39m_forward_pre_hooks \u001b[39mor\u001b[39;00m _global_backward_hooks\n\u001b[0;32m   1129\u001b[0m         \u001b[39mor\u001b[39;00m _global_forward_hooks \u001b[39mor\u001b[39;00m _global_forward_pre_hooks):\n\u001b[1;32m-> 1130\u001b[0m     \u001b[39mreturn\u001b[39;00m forward_call(\u001b[39m*\u001b[39m\u001b[39minput\u001b[39m, \u001b[39m*\u001b[39m\u001b[39m*\u001b[39mkwargs)\n\u001b[0;32m   1131\u001b[0m \u001b[39m# Do not call functions when jit is used\u001b[39;00m\n\u001b[0;32m   1132\u001b[0m full_backward_hooks, non_full_backward_hooks \u001b[39m=\u001b[39m [], []\n",
      "File \u001b[1;32mc:\\Users\\rachitgandhi1\\AppData\\Local\\anaconda3\\lib\\site-packages\\pytorch_tabnet\\tab_network.py:737\u001b[0m, in \u001b[0;36mFeatTransformer.forward\u001b[1;34m(self, x)\u001b[0m\n\u001b[0;32m    736\u001b[0m \u001b[39mdef\u001b[39;00m \u001b[39mforward\u001b[39m(\u001b[39mself\u001b[39m, x):\n\u001b[1;32m--> 737\u001b[0m     x \u001b[39m=\u001b[39m \u001b[39mself\u001b[39;49m\u001b[39m.\u001b[39;49mshared(x)\n\u001b[0;32m    738\u001b[0m     x \u001b[39m=\u001b[39m \u001b[39mself\u001b[39m\u001b[39m.\u001b[39mspecifics(x)\n\u001b[0;32m    739\u001b[0m     \u001b[39mreturn\u001b[39;00m x\n",
      "File \u001b[1;32mc:\\Users\\rachitgandhi1\\AppData\\Local\\anaconda3\\lib\\site-packages\\torch\\nn\\modules\\module.py:1130\u001b[0m, in \u001b[0;36mModule._call_impl\u001b[1;34m(self, *input, **kwargs)\u001b[0m\n\u001b[0;32m   1126\u001b[0m \u001b[39m# If we don't have any hooks, we want to skip the rest of the logic in\u001b[39;00m\n\u001b[0;32m   1127\u001b[0m \u001b[39m# this function, and just call forward.\u001b[39;00m\n\u001b[0;32m   1128\u001b[0m \u001b[39mif\u001b[39;00m \u001b[39mnot\u001b[39;00m (\u001b[39mself\u001b[39m\u001b[39m.\u001b[39m_backward_hooks \u001b[39mor\u001b[39;00m \u001b[39mself\u001b[39m\u001b[39m.\u001b[39m_forward_hooks \u001b[39mor\u001b[39;00m \u001b[39mself\u001b[39m\u001b[39m.\u001b[39m_forward_pre_hooks \u001b[39mor\u001b[39;00m _global_backward_hooks\n\u001b[0;32m   1129\u001b[0m         \u001b[39mor\u001b[39;00m _global_forward_hooks \u001b[39mor\u001b[39;00m _global_forward_pre_hooks):\n\u001b[1;32m-> 1130\u001b[0m     \u001b[39mreturn\u001b[39;00m forward_call(\u001b[39m*\u001b[39m\u001b[39minput\u001b[39m, \u001b[39m*\u001b[39m\u001b[39m*\u001b[39mkwargs)\n\u001b[0;32m   1131\u001b[0m \u001b[39m# Do not call functions when jit is used\u001b[39;00m\n\u001b[0;32m   1132\u001b[0m full_backward_hooks, non_full_backward_hooks \u001b[39m=\u001b[39m [], []\n",
      "File \u001b[1;32mc:\\Users\\rachitgandhi1\\AppData\\Local\\anaconda3\\lib\\site-packages\\pytorch_tabnet\\tab_network.py:774\u001b[0m, in \u001b[0;36mGLU_Block.forward\u001b[1;34m(self, x)\u001b[0m\n\u001b[0;32m    772\u001b[0m scale \u001b[39m=\u001b[39m torch\u001b[39m.\u001b[39msqrt(torch\u001b[39m.\u001b[39mFloatTensor([\u001b[39m0.5\u001b[39m])\u001b[39m.\u001b[39mto(x\u001b[39m.\u001b[39mdevice))\n\u001b[0;32m    773\u001b[0m \u001b[39mif\u001b[39;00m \u001b[39mself\u001b[39m\u001b[39m.\u001b[39mfirst:  \u001b[39m# the first layer of the block has no scale multiplication\u001b[39;00m\n\u001b[1;32m--> 774\u001b[0m     x \u001b[39m=\u001b[39m \u001b[39mself\u001b[39;49m\u001b[39m.\u001b[39;49mglu_layers[\u001b[39m0\u001b[39;49m](x)\n\u001b[0;32m    775\u001b[0m     layers_left \u001b[39m=\u001b[39m \u001b[39mrange\u001b[39m(\u001b[39m1\u001b[39m, \u001b[39mself\u001b[39m\u001b[39m.\u001b[39mn_glu)\n\u001b[0;32m    776\u001b[0m \u001b[39melse\u001b[39;00m:\n",
      "File \u001b[1;32mc:\\Users\\rachitgandhi1\\AppData\\Local\\anaconda3\\lib\\site-packages\\torch\\nn\\modules\\module.py:1130\u001b[0m, in \u001b[0;36mModule._call_impl\u001b[1;34m(self, *input, **kwargs)\u001b[0m\n\u001b[0;32m   1126\u001b[0m \u001b[39m# If we don't have any hooks, we want to skip the rest of the logic in\u001b[39;00m\n\u001b[0;32m   1127\u001b[0m \u001b[39m# this function, and just call forward.\u001b[39;00m\n\u001b[0;32m   1128\u001b[0m \u001b[39mif\u001b[39;00m \u001b[39mnot\u001b[39;00m (\u001b[39mself\u001b[39m\u001b[39m.\u001b[39m_backward_hooks \u001b[39mor\u001b[39;00m \u001b[39mself\u001b[39m\u001b[39m.\u001b[39m_forward_hooks \u001b[39mor\u001b[39;00m \u001b[39mself\u001b[39m\u001b[39m.\u001b[39m_forward_pre_hooks \u001b[39mor\u001b[39;00m _global_backward_hooks\n\u001b[0;32m   1129\u001b[0m         \u001b[39mor\u001b[39;00m _global_forward_hooks \u001b[39mor\u001b[39;00m _global_forward_pre_hooks):\n\u001b[1;32m-> 1130\u001b[0m     \u001b[39mreturn\u001b[39;00m forward_call(\u001b[39m*\u001b[39m\u001b[39minput\u001b[39m, \u001b[39m*\u001b[39m\u001b[39m*\u001b[39mkwargs)\n\u001b[0;32m   1131\u001b[0m \u001b[39m# Do not call functions when jit is used\u001b[39;00m\n\u001b[0;32m   1132\u001b[0m full_backward_hooks, non_full_backward_hooks \u001b[39m=\u001b[39m [], []\n",
      "File \u001b[1;32mc:\\Users\\rachitgandhi1\\AppData\\Local\\anaconda3\\lib\\site-packages\\pytorch_tabnet\\tab_network.py:803\u001b[0m, in \u001b[0;36mGLU_Layer.forward\u001b[1;34m(self, x)\u001b[0m\n\u001b[0;32m    802\u001b[0m \u001b[39mdef\u001b[39;00m \u001b[39mforward\u001b[39m(\u001b[39mself\u001b[39m, x):\n\u001b[1;32m--> 803\u001b[0m     x \u001b[39m=\u001b[39m \u001b[39mself\u001b[39;49m\u001b[39m.\u001b[39;49mfc(x)\n\u001b[0;32m    804\u001b[0m     x \u001b[39m=\u001b[39m \u001b[39mself\u001b[39m\u001b[39m.\u001b[39mbn(x)\n\u001b[0;32m    805\u001b[0m     out \u001b[39m=\u001b[39m torch\u001b[39m.\u001b[39mmul(x[:, : \u001b[39mself\u001b[39m\u001b[39m.\u001b[39moutput_dim], torch\u001b[39m.\u001b[39msigmoid(x[:, \u001b[39mself\u001b[39m\u001b[39m.\u001b[39moutput_dim :]))\n",
      "File \u001b[1;32mc:\\Users\\rachitgandhi1\\AppData\\Local\\anaconda3\\lib\\site-packages\\torch\\nn\\modules\\module.py:1130\u001b[0m, in \u001b[0;36mModule._call_impl\u001b[1;34m(self, *input, **kwargs)\u001b[0m\n\u001b[0;32m   1126\u001b[0m \u001b[39m# If we don't have any hooks, we want to skip the rest of the logic in\u001b[39;00m\n\u001b[0;32m   1127\u001b[0m \u001b[39m# this function, and just call forward.\u001b[39;00m\n\u001b[0;32m   1128\u001b[0m \u001b[39mif\u001b[39;00m \u001b[39mnot\u001b[39;00m (\u001b[39mself\u001b[39m\u001b[39m.\u001b[39m_backward_hooks \u001b[39mor\u001b[39;00m \u001b[39mself\u001b[39m\u001b[39m.\u001b[39m_forward_hooks \u001b[39mor\u001b[39;00m \u001b[39mself\u001b[39m\u001b[39m.\u001b[39m_forward_pre_hooks \u001b[39mor\u001b[39;00m _global_backward_hooks\n\u001b[0;32m   1129\u001b[0m         \u001b[39mor\u001b[39;00m _global_forward_hooks \u001b[39mor\u001b[39;00m _global_forward_pre_hooks):\n\u001b[1;32m-> 1130\u001b[0m     \u001b[39mreturn\u001b[39;00m forward_call(\u001b[39m*\u001b[39m\u001b[39minput\u001b[39m, \u001b[39m*\u001b[39m\u001b[39m*\u001b[39mkwargs)\n\u001b[0;32m   1131\u001b[0m \u001b[39m# Do not call functions when jit is used\u001b[39;00m\n\u001b[0;32m   1132\u001b[0m full_backward_hooks, non_full_backward_hooks \u001b[39m=\u001b[39m [], []\n",
      "File \u001b[1;32mc:\\Users\\rachitgandhi1\\AppData\\Local\\anaconda3\\lib\\site-packages\\torch\\nn\\modules\\linear.py:114\u001b[0m, in \u001b[0;36mLinear.forward\u001b[1;34m(self, input)\u001b[0m\n\u001b[0;32m    113\u001b[0m \u001b[39mdef\u001b[39;00m \u001b[39mforward\u001b[39m(\u001b[39mself\u001b[39m, \u001b[39minput\u001b[39m: Tensor) \u001b[39m-\u001b[39m\u001b[39m>\u001b[39m Tensor:\n\u001b[1;32m--> 114\u001b[0m     \u001b[39mreturn\u001b[39;00m F\u001b[39m.\u001b[39;49mlinear(\u001b[39minput\u001b[39;49m, \u001b[39mself\u001b[39;49m\u001b[39m.\u001b[39;49mweight, \u001b[39mself\u001b[39;49m\u001b[39m.\u001b[39;49mbias)\n",
      "\u001b[1;31mKeyboardInterrupt\u001b[0m: "
     ]
    }
   ],
   "source": [
    "clf.fit(\n",
    "    X_train=X_train, y_train=y_train,\n",
    "    eval_set=[(X_train, y_train), (X_valid, y_valid)],\n",
    "    eval_name=['train', 'valid'],\n",
    "    eval_metric=['rmsle', 'mae', 'rmse', 'mse'],\n",
    "    max_epochs=max_epochs,\n",
    "    patience=50,\n",
    "    batch_size=1024, virtual_batch_size=128,\n",
    "    num_workers=0,\n",
    "    drop_last=False,\n",
    "    augmentations=aug, #aug\n",
    ") "
   ]
  },
  {
   "cell_type": "code",
   "execution_count": null,
   "metadata": {},
   "outputs": [],
   "source": [
    "preds = clf.predict(X_test)\n",
    "\n",
    "y_true = y_test\n",
    "print(preds)\n",
    "test_score = mean_squared_error(y_pred=preds, y_true=y_true)\n"
   ]
  },
  {
   "cell_type": "code",
   "execution_count": null,
   "metadata": {},
   "outputs": [],
   "source": [
    "print(y_true)"
   ]
  },
  {
   "cell_type": "code",
   "execution_count": 16,
   "metadata": {},
   "outputs": [
    {
     "name": "stdout",
     "output_type": "stream",
     "text": [
      "0.001333700082824566\n"
     ]
    }
   ],
   "source": [
    "print(test_score)"
   ]
  },
  {
   "cell_type": "code",
   "execution_count": 17,
   "metadata": {},
   "outputs": [
    {
     "data": {
      "text/plain": [
       "array([0.00000000e+00, 5.11124114e-03, 3.80652580e-04, 0.00000000e+00,\n",
       "       3.31431688e-04, 0.00000000e+00, 4.45754137e-01, 4.31947773e-06,\n",
       "       1.70431749e-04, 8.02985657e-05, 3.72400595e-02, 1.87241533e-03,\n",
       "       0.00000000e+00, 1.36163448e-02, 0.00000000e+00, 0.00000000e+00,\n",
       "       0.00000000e+00, 0.00000000e+00, 9.37330384e-06, 1.19780351e-01,\n",
       "       0.00000000e+00, 0.00000000e+00, 0.00000000e+00, 0.00000000e+00,\n",
       "       0.00000000e+00, 1.03806236e-06, 0.00000000e+00, 0.00000000e+00,\n",
       "       0.00000000e+00, 1.70625119e-07, 0.00000000e+00, 0.00000000e+00,\n",
       "       0.00000000e+00, 4.69831362e-02, 3.48946452e-05, 0.00000000e+00,\n",
       "       0.00000000e+00, 1.61254035e-04, 3.79030200e-06, 1.15724141e-02,\n",
       "       1.47628134e-02, 3.44903127e-05, 2.71419109e-01, 1.79096377e-06,\n",
       "       0.00000000e+00, 3.52144809e-03, 6.91953969e-07, 1.38525489e-02,\n",
       "       0.00000000e+00, 1.08800646e-02, 0.00000000e+00, 0.00000000e+00,\n",
       "       0.00000000e+00, 2.85830426e-05, 0.00000000e+00, 0.00000000e+00,\n",
       "       6.77065259e-05, 1.99469931e-03, 0.00000000e+00, 0.00000000e+00,\n",
       "       0.00000000e+00, 3.23926090e-04, 0.00000000e+00, 4.37360474e-06,\n",
       "       0.00000000e+00])"
      ]
     },
     "execution_count": 17,
     "metadata": {},
     "output_type": "execute_result"
    }
   ],
   "source": [
    "clf.feature_importances_"
   ]
  },
  {
   "cell_type": "code",
   "execution_count": 18,
   "metadata": {},
   "outputs": [
    {
     "data": {
      "image/png": "[encoded data removed]",
      "text/plain": [
       "<Figure size 2000x2000 with 3 Axes>"
      ]
     },
     "metadata": {},
     "output_type": "display_data"
    }
   ],
   "source": [
    "explain_matrix, masks = clf.explain(X_test)\n",
    "from matplotlib import pyplot as plt\n",
    "fig, axs = plt.subplots(1, 3, figsize=(20,20))\n",
    "\n",
    "for i in range(3):\n",
    "    axs[i].imshow(masks[i][:50])\n",
    "    axs[i].set_title(f\"mask {i}\")"
   ]
  },
  {
   "cell_type": "code",
   "execution_count": 21,
   "metadata": {},
   "outputs": [
    {
     "name": "stdout",
     "output_type": "stream",
     "text": [
      "[0]\tvalidation_0-rmse:0.35922\n",
      "[10]\tvalidation_0-rmse:0.35569\n",
      "[20]\tvalidation_0-rmse:0.35219\n",
      "[30]\tvalidation_0-rmse:0.34872\n",
      "[40]\tvalidation_0-rmse:0.34529\n",
      "[50]\tvalidation_0-rmse:0.34190\n",
      "[60]\tvalidation_0-rmse:0.33854\n",
      "[70]\tvalidation_0-rmse:0.33521\n",
      "[80]\tvalidation_0-rmse:0.33191\n",
      "[90]\tvalidation_0-rmse:0.32864\n",
      "[100]\tvalidation_0-rmse:0.32542\n",
      "[110]\tvalidation_0-rmse:0.32221\n",
      "[120]\tvalidation_0-rmse:0.31905\n",
      "[130]\tvalidation_0-rmse:0.31592\n",
      "[140]\tvalidation_0-rmse:0.31281\n",
      "[150]\tvalidation_0-rmse:0.30974\n",
      "[160]\tvalidation_0-rmse:0.30670\n",
      "[170]\tvalidation_0-rmse:0.30369\n",
      "[180]\tvalidation_0-rmse:0.30071\n",
      "[190]\tvalidation_0-rmse:0.29776\n",
      "[200]\tvalidation_0-rmse:0.29483\n",
      "[210]\tvalidation_0-rmse:0.29194\n",
      "[220]\tvalidation_0-rmse:0.28908\n",
      "[230]\tvalidation_0-rmse:0.28624\n",
      "[240]\tvalidation_0-rmse:0.28343\n",
      "[250]\tvalidation_0-rmse:0.28065\n",
      "[260]\tvalidation_0-rmse:0.27789\n",
      "[270]\tvalidation_0-rmse:0.27517\n",
      "[280]\tvalidation_0-rmse:0.27248\n",
      "[290]\tvalidation_0-rmse:0.26980\n",
      "[300]\tvalidation_0-rmse:0.26716\n",
      "[310]\tvalidation_0-rmse:0.26454\n",
      "[320]\tvalidation_0-rmse:0.26194\n",
      "[330]\tvalidation_0-rmse:0.25937\n",
      "[340]\tvalidation_0-rmse:0.25684\n",
      "[350]\tvalidation_0-rmse:0.25432\n",
      "[360]\tvalidation_0-rmse:0.25184\n",
      "[370]\tvalidation_0-rmse:0.24938\n",
      "[380]\tvalidation_0-rmse:0.24693\n",
      "[390]\tvalidation_0-rmse:0.24452\n",
      "[400]\tvalidation_0-rmse:0.24213\n",
      "[410]\tvalidation_0-rmse:0.23975\n",
      "[420]\tvalidation_0-rmse:0.23741\n",
      "[430]\tvalidation_0-rmse:0.23509\n",
      "[440]\tvalidation_0-rmse:0.23279\n",
      "[450]\tvalidation_0-rmse:0.23051\n",
      "[460]\tvalidation_0-rmse:0.22826\n",
      "[470]\tvalidation_0-rmse:0.22603\n",
      "[480]\tvalidation_0-rmse:0.22382\n",
      "[490]\tvalidation_0-rmse:0.22164\n",
      "[500]\tvalidation_0-rmse:0.21948\n",
      "[510]\tvalidation_0-rmse:0.21734\n",
      "[520]\tvalidation_0-rmse:0.21522\n",
      "[530]\tvalidation_0-rmse:0.21312\n",
      "[540]\tvalidation_0-rmse:0.21104\n",
      "[550]\tvalidation_0-rmse:0.20899\n",
      "[560]\tvalidation_0-rmse:0.20695\n",
      "[570]\tvalidation_0-rmse:0.20493\n",
      "[580]\tvalidation_0-rmse:0.20294\n",
      "[590]\tvalidation_0-rmse:0.20097\n",
      "[600]\tvalidation_0-rmse:0.19901\n",
      "[610]\tvalidation_0-rmse:0.19708\n",
      "[620]\tvalidation_0-rmse:0.19517\n",
      "[630]\tvalidation_0-rmse:0.19328\n",
      "[640]\tvalidation_0-rmse:0.19140\n",
      "[650]\tvalidation_0-rmse:0.18955\n",
      "[660]\tvalidation_0-rmse:0.18771\n",
      "[670]\tvalidation_0-rmse:0.18589\n",
      "[680]\tvalidation_0-rmse:0.18409\n",
      "[690]\tvalidation_0-rmse:0.18231\n",
      "[700]\tvalidation_0-rmse:0.18056\n",
      "[710]\tvalidation_0-rmse:0.17882\n",
      "[720]\tvalidation_0-rmse:0.17710\n",
      "[730]\tvalidation_0-rmse:0.17539\n",
      "[740]\tvalidation_0-rmse:0.17371\n",
      "[750]\tvalidation_0-rmse:0.17204\n",
      "[760]\tvalidation_0-rmse:0.17038\n",
      "[770]\tvalidation_0-rmse:0.16874\n",
      "[780]\tvalidation_0-rmse:0.16712\n",
      "[790]\tvalidation_0-rmse:0.16552\n",
      "[800]\tvalidation_0-rmse:0.16393\n",
      "[810]\tvalidation_0-rmse:0.16236\n",
      "[820]\tvalidation_0-rmse:0.16080\n",
      "[830]\tvalidation_0-rmse:0.15926\n",
      "[840]\tvalidation_0-rmse:0.15773\n",
      "[850]\tvalidation_0-rmse:0.15623\n",
      "[860]\tvalidation_0-rmse:0.15473\n",
      "[870]\tvalidation_0-rmse:0.15324\n",
      "[880]\tvalidation_0-rmse:0.15178\n",
      "[890]\tvalidation_0-rmse:0.15033\n",
      "[900]\tvalidation_0-rmse:0.14889\n",
      "[910]\tvalidation_0-rmse:0.14746\n",
      "[920]\tvalidation_0-rmse:0.14605\n",
      "[930]\tvalidation_0-rmse:0.14465\n",
      "[940]\tvalidation_0-rmse:0.14327\n",
      "[950]\tvalidation_0-rmse:0.14190\n",
      "[960]\tvalidation_0-rmse:0.14054\n",
      "[970]\tvalidation_0-rmse:0.13920\n",
      "[980]\tvalidation_0-rmse:0.13787\n",
      "[990]\tvalidation_0-rmse:0.13655\n",
      "[999]\tvalidation_0-rmse:0.13538\n"
     ]
    },
    {
     "data": {
      "text/html": [
       "<style>#sk-container-id-1 {color: black;background-color: white;}#sk-container-id-1 pre{padding: 0;}#sk-container-id-1 div.sk-toggleable {background-color: white;}#sk-container-id-1 label.sk-toggleable__label {cursor: pointer;display: block;width: 100%;margin-bottom: 0;padding: 0.3em;box-sizing: border-box;text-align: center;}#sk-container-id-1 label.sk-toggleable__label-arrow:before {content: \"▸\";float: left;margin-right: 0.25em;color: #696969;}#sk-container-id-1 label.sk-toggleable__label-arrow:hover:before {color: black;}#sk-container-id-1 div.sk-estimator:hover label.sk-toggleable__label-arrow:before {color: black;}#sk-container-id-1 div.sk-toggleable__content {max-height: 0;max-width: 0;overflow: hidden;text-align: left;background-color: #f0f8ff;}#sk-container-id-1 div.sk-toggleable__content pre {margin: 0.2em;color: black;border-radius: 0.25em;background-color: #f0f8ff;}#sk-container-id-1 input.sk-toggleable__control:checked~div.sk-toggleable__content {max-height: 200px;max-width: 100%;overflow: auto;}#sk-container-id-1 input.sk-toggleable__control:checked~label.sk-toggleable__label-arrow:before {content: \"▾\";}#sk-container-id-1 div.sk-estimator input.sk-toggleable__control:checked~label.sk-toggleable__label {background-color: #d4ebff;}#sk-container-id-1 div.sk-label input.sk-toggleable__control:checked~label.sk-toggleable__label {background-color: #d4ebff;}#sk-container-id-1 input.sk-hidden--visually {border: 0;clip: rect(1px 1px 1px 1px);clip: rect(1px, 1px, 1px, 1px);height: 1px;margin: -1px;overflow: hidden;padding: 0;position: absolute;width: 1px;}#sk-container-id-1 div.sk-estimator {font-family: monospace;background-color: #f0f8ff;border: 1px dotted black;border-radius: 0.25em;box-sizing: border-box;margin-bottom: 0.5em;}#sk-container-id-1 div.sk-estimator:hover {background-color: #d4ebff;}#sk-container-id-1 div.sk-parallel-item::after {content: \"\";width: 100%;border-bottom: 1px solid gray;flex-grow: 1;}#sk-container-id-1 div.sk-label:hover label.sk-toggleable__label {background-color: #d4ebff;}#sk-container-id-1 div.sk-serial::before {content: \"\";position: absolute;border-left: 1px solid gray;box-sizing: border-box;top: 0;bottom: 0;left: 50%;z-index: 0;}#sk-container-id-1 div.sk-serial {display: flex;flex-direction: column;align-items: center;background-color: white;padding-right: 0.2em;padding-left: 0.2em;position: relative;}#sk-container-id-1 div.sk-item {position: relative;z-index: 1;}#sk-container-id-1 div.sk-parallel {display: flex;align-items: stretch;justify-content: center;background-color: white;position: relative;}#sk-container-id-1 div.sk-item::before, #sk-container-id-1 div.sk-parallel-item::before {content: \"\";position: absolute;border-left: 1px solid gray;box-sizing: border-box;top: 0;bottom: 0;left: 50%;z-index: -1;}#sk-container-id-1 div.sk-parallel-item {display: flex;flex-direction: column;z-index: 1;position: relative;background-color: white;}#sk-container-id-1 div.sk-parallel-item:first-child::after {align-self: flex-end;width: 50%;}#sk-container-id-1 div.sk-parallel-item:last-child::after {align-self: flex-start;width: 50%;}#sk-container-id-1 div.sk-parallel-item:only-child::after {width: 0;}#sk-container-id-1 div.sk-dashed-wrapped {border: 1px dashed gray;margin: 0 0.4em 0.5em 0.4em;box-sizing: border-box;padding-bottom: 0.4em;background-color: white;}#sk-container-id-1 div.sk-label label {font-family: monospace;font-weight: bold;display: inline-block;line-height: 1.2em;}#sk-container-id-1 div.sk-label-container {text-align: center;}#sk-container-id-1 div.sk-container {/* jupyter's `normalize.less` sets `[hidden] { display: none; }` but bootstrap.min.css set `[hidden] { display: none !important; }` so we also need the `!important` here to be able to override the default hidden behavior on the sphinx rendered scikit-learn.org. See: https://github.com/scikit-learn/scikit-learn/issues/21755 */display: inline-block !important;position: relative;}#sk-container-id-1 div.sk-text-repr-fallback {display: none;}</style><div id=\"sk-container-id-1\" class=\"sk-top-container\"><div class=\"sk-text-repr-fallback\"><pre>XGBRegressor(base_score=0.5, booster=&#x27;gbtree&#x27;, callbacks=None,\n",
       "             colsample_bylevel=1, colsample_bynode=1, colsample_bytree=1,\n",
       "             early_stopping_rounds=None, enable_categorical=False,\n",
       "             eval_metric=None, feature_types=None, gamma=2, gpu_id=None,\n",
       "             grow_policy=None, importance_type=None,\n",
       "             interaction_constraints=None, learning_rate=0.001, max_bin=None,\n",
       "             max_cat_threshold=None, max_cat_to_onehot=None, max_delta_step=0,\n",
       "             max_depth=8, max_leaves=None, min_child_weight=20, missing=nan,\n",
       "             monotone_constraints=None, n_estimators=1000, n_jobs=-1,\n",
       "             nthread=None, num_parallel_tree=None, predictor=None, ...)</pre><b>In a Jupyter environment, please rerun this cell to show the HTML representation or trust the notebook. <br />On GitHub, the HTML representation is unable to render, please try loading this page with nbviewer.org.</b></div><div class=\"sk-container\" hidden><div class=\"sk-item\"><div class=\"sk-estimator sk-toggleable\"><input class=\"sk-toggleable__control sk-hidden--visually\" id=\"sk-estimator-id-1\" type=\"checkbox\" checked><label for=\"sk-estimator-id-1\" class=\"sk-toggleable__label sk-toggleable__label-arrow\">XGBRegressor</label><div class=\"sk-toggleable__content\"><pre>XGBRegressor(base_score=0.5, booster=&#x27;gbtree&#x27;, callbacks=None,\n",
       "             colsample_bylevel=1, colsample_bynode=1, colsample_bytree=1,\n",
       "             early_stopping_rounds=None, enable_categorical=False,\n",
       "             eval_metric=None, feature_types=None, gamma=2, gpu_id=None,\n",
       "             grow_policy=None, importance_type=None,\n",
       "             interaction_constraints=None, learning_rate=0.001, max_bin=None,\n",
       "             max_cat_threshold=None, max_cat_to_onehot=None, max_delta_step=0,\n",
       "             max_depth=8, max_leaves=None, min_child_weight=20, missing=nan,\n",
       "             monotone_constraints=None, n_estimators=1000, n_jobs=-1,\n",
       "             nthread=None, num_parallel_tree=None, predictor=None, ...)</pre></div></div></div></div></div>"
      ],
      "text/plain": [
       "XGBRegressor(base_score=0.5, booster='gbtree', callbacks=None,\n",
       "             colsample_bylevel=1, colsample_bynode=1, colsample_bytree=1,\n",
       "             early_stopping_rounds=None, enable_categorical=False,\n",
       "             eval_metric=None, feature_types=None, gamma=2, gpu_id=None,\n",
       "             grow_policy=None, importance_type=None,\n",
       "             interaction_constraints=None, learning_rate=0.001, max_bin=None,\n",
       "             max_cat_threshold=None, max_cat_to_onehot=None, max_delta_step=0,\n",
       "             max_depth=8, max_leaves=None, min_child_weight=20, missing=nan,\n",
       "             monotone_constraints=None, n_estimators=1000, n_jobs=-1,\n",
       "             nthread=None, num_parallel_tree=None, predictor=None, ...)"
      ]
     },
     "execution_count": 21,
     "metadata": {},
     "output_type": "execute_result"
    }
   ],
   "source": [
    "from xgboost import XGBRegressor\n",
    "\n",
    "reg_xgb = XGBRegressor(max_depth=8,\n",
    "    learning_rate=0.001,\n",
    "    n_estimators=1000,\n",
    "    verbosity=0,\n",
    "    silent=None,\n",
    "    objective='reg:squarederror',\n",
    "    booster='gbtree',\n",
    "    n_jobs=-1,\n",
    "    nthread=None,\n",
    "    gamma=2,\n",
    "    min_child_weight=20,\n",
    "    max_delta_step=0,\n",
    "    subsample=0.7,\n",
    "    colsample_bytree=1,\n",
    "    colsample_bylevel=1,\n",
    "    colsample_bynode=1,\n",
    "    reg_alpha=3,\n",
    "    reg_lambda=3,\n",
    "    scale_pos_weight=1,\n",
    "    base_score=0.5,\n",
    "    random_state=0,\n",
    "    seed=None,)\n",
    "\n",
    "reg_xgb.fit(X_train, y_train,\n",
    "        eval_set=[(X_valid, y_valid)],\n",
    "        early_stopping_rounds=40,\n",
    "        verbose=10)"
   ]
  },
  {
   "cell_type": "code",
   "execution_count": 22,
   "metadata": {},
   "outputs": [
    {
     "name": "stdout",
     "output_type": "stream",
     "text": [
      "[0.0933632  0.         0.         0.         0.         0.\n",
      " 0.7011984  0.1938982  0.         0.         0.         0.01154026\n",
      " 0.         0.         0.         0.         0.         0.\n",
      " 0.         0.         0.         0.         0.         0.\n",
      " 0.         0.         0.         0.         0.         0.\n",
      " 0.         0.         0.         0.         0.         0.\n",
      " 0.         0.         0.         0.         0.         0.\n",
      " 0.         0.         0.         0.         0.         0.\n",
      " 0.         0.         0.         0.         0.         0.\n",
      " 0.         0.         0.         0.         0.         0.\n",
      " 0.         0.         0.         0.         0.        ]\n"
     ]
    }
   ],
   "source": [
    "print(reg_xgb.feature_importances_)\n"
   ]
  },
  {
   "cell_type": "code",
   "execution_count": 23,
   "metadata": {},
   "outputs": [
    {
     "data": {
      "image/png": "[encoded data removed]",
      "text/plain": [
       "<Figure size 640x480 with 1 Axes>"
      ]
     },
     "metadata": {},
     "output_type": "display_data"
    }
   ],
   "source": [
    "import matplotlib\n",
    "from matplotlib import pyplot as plt\n",
    "\n",
    "xgb_feature_importance_ = reg_xgb.feature_importances_\n",
    "# plotclf_xgb.feature_importances_\n",
    "plt.bar(range(len(xgb_feature_importance_)),xgb_feature_importance_)\n",
    "plt.show()"
   ]
  },
  {
   "cell_type": "code",
   "execution_count": 24,
   "metadata": {},
   "outputs": [
    {
     "name": "stdout",
     "output_type": "stream",
     "text": [
      "[0.0933632  0.         0.         0.         0.         0.\n",
      " 0.7011984  0.1938982  0.         0.         0.         0.01154026\n",
      " 0.         0.         0.         0.         0.         0.\n",
      " 0.         0.         0.         0.         0.         0.\n",
      " 0.         0.         0.         0.         0.         0.\n",
      " 0.         0.         0.         0.         0.         0.\n",
      " 0.         0.         0.         0.         0.         0.\n",
      " 0.         0.         0.         0.         0.         0.\n",
      " 0.         0.         0.         0.         0.         0.\n",
      " 0.         0.         0.         0.         0.         0.\n",
      " 0.         0.         0.         0.         0.        ]\n"
     ]
    }
   ],
   "source": [
    "print(reg_xgb.feature_importances_)"
   ]
  },
  {
   "cell_type": "code",
   "execution_count": null,
   "metadata": {},
   "outputs": [
    {
     "name": "stdout",
     "output_type": "stream",
     "text": [
      "0.00017644276280005152\n",
      "0.00014436806643773912\n"
     ]
    }
   ],
   "source": [
    "preds = np.array(reg_xgb.predict(X_valid))\n",
    "valid_auc = mean_squared_error(y_pred=preds, y_true=y_valid)\n",
    "print(valid_auc)\n",
    "\n",
    "preds = np.array(reg_xgb.predict(X_test))\n",
    "test_auc = mean_squared_error(y_pred=preds, y_true=y_test)\n",
    "print(test_auc)\n"
   ]
  },
  {
   "cell_type": "code",
   "execution_count": null,
   "metadata": {},
   "outputs": [
    {
     "name": "stdout",
     "output_type": "stream",
     "text": [
      "Successfully saved model at ./tabnet_model_test_1.zip\n"
     ]
    }
   ],
   "source": [
    "# save tabnet model\n",
    "saving_path_name = \"./tabnet_model_test_1\"\n",
    "saved_filepath = clf.save_model(saving_path_name)"
   ]
  },
  {
   "cell_type": "code",
   "execution_count": null,
   "metadata": {},
   "outputs": [
    {
     "name": "stderr",
     "output_type": "stream",
     "text": [
      "/home/krishna/miniconda3/envs/dl/lib/python3.11/site-packages/pytorch_tabnet/abstract_model.py:75: UserWarning: Device used : cuda\n",
      "  warnings.warn(f\"Device used : {self.device}\")\n"
     ]
    }
   ],
   "source": [
    "# define new model with basic parameters and load state dict weights\n",
    "loaded_clf = TabNetRegressor()\n",
    "loaded_clf.load_model(saved_filepath)"
   ]
  },
  {
   "cell_type": "code",
   "execution_count": null,
   "metadata": {},
   "outputs": [
    {
     "name": "stdout",
     "output_type": "stream",
     "text": [
      "FINAL TEST SCORE FOR dataset : 0.0017761602307688475\n"
     ]
    }
   ],
   "source": [
    "loaded_preds = loaded_clf.predict(X_test)\n",
    "loaded_test_mse = mean_squared_error(loaded_preds, y_test)\n",
    "\n",
    "print(f\"FINAL TEST SCORE FOR dataset : {loaded_test_mse}\")\n"
   ]
  },
  {
   "cell_type": "code",
   "execution_count": null,
   "metadata": {},
   "outputs": [],
   "source": [
    "assert(test_score == loaded_test_mse)\n"
   ]
  },
  {
   "cell_type": "code",
   "execution_count": null,
   "metadata": {},
   "outputs": [],
   "source": [
    "import pickle\n",
    "train_df.to_pickle('train.pkl')\n",
    "val_df.to_pickle('val.pkl')\n",
    "test_df.to_pickle('test.pkl')"
   ]
  }
 ],
 "metadata": {
  "kernelspec": {
   "display_name": "dl_conda",
   "language": "python",
   "name": "python3"
  },
  "language_info": {
   "codemirror_mode": {
    "name": "ipython",
    "version": 3
   },
   "file_extension": ".py",
   "mimetype": "text/x-python",
   "name": "python",
   "nbconvert_exporter": "python",
   "pygments_lexer": "ipython3",
   "version": "3.10.9"
  },
  "orig_nbformat": 4
 },
 "nbformat": 4,
 "nbformat_minor": 2
}
