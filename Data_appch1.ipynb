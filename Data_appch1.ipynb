{
 "cells": [
  {
   "cell_type": "markdown",
   "id": "e8470db6",
   "metadata": {},
   "source": [
    "# Dependencies"
   ]
  },
  {
   "cell_type": "code",
   "execution_count": null,
   "id": "309a8f5a",
   "metadata": {},
   "outputs": [],
   "source": [
    "#INSTALLING DEPENDENCIES\n",
    "import sys\n",
    "import pandas as pd\n",
    "import seaborn as sns\n",
    "import numpy as np\n",
    "import matplotlib.pyplot as plt\n",
    "%matplotlib inline\n",
    "from sklearn.preprocessing import StandardScaler\n",
    "\n",
    "pd.set_option('display.max_rows', None)\n",
    "pd.set_option('display.max_columns', None)"
   ]
  },
  {
   "cell_type": "markdown",
   "id": "8d3f6f1c",
   "metadata": {},
   "source": [
    "## Data Loading "
   ]
  },
  {
   "cell_type": "code",
   "execution_count": null,
   "id": "d95dac4c",
   "metadata": {},
   "outputs": [],
   "source": [
    "# Get CSV files list from a folder\n",
    "data1 = pd.read_csv(\"C:/Users/dell/Dataset/Kelmarsh Dataset/Kelmarsh_SCADA_2021_3087/Turbine_Data_Kelmarsh_1_2021-01-01_-_2021-07-01_228.csv\", sep=';')\n",
    "data2 = pd.read_csv(\"C:/Users/dell/Dataset/Kelmarsh Dataset/Kelmarsh_SCADA_2020_3086/Turbine_Data_Kelmarsh_1_2020-01-01_-_2021-01-01_228.csv\", sep=';')\n",
    "data3 = pd.read_csv(\"C:/Users/dell/Dataset/Kelmarsh Dataset/Kelmarsh_SCADA_2019_3085/Turbine_Data_Kelmarsh_1_2019-01-01_-_2020-01-01_228.csv\", sep=';')\n",
    "data4 = pd.read_csv(\"C:/Users/dell/Dataset/Kelmarsh Dataset/Kelmarsh_SCADA_2018_3084/Turbine_Data_Kelmarsh_1_2018-01-01_-_2019-01-01_228.csv\", sep=';')"
   ]
  },
  {
   "cell_type": "code",
   "execution_count": null,
   "id": "aedced78",
   "metadata": {
    "scrolled": false
   },
   "outputs": [],
   "source": [
    "plt.figure(figsize=(80, 48))\n",
    "# Calculate the percentage of missing values in each column\n",
    "missing_percentage = data.isnull().mean() * 100\n",
    "\n",
    "# Create a barplot of the missing percentages using seaborn\n",
    "sns.barplot(x=missing_percentage.index, y=missing_percentage, color='blue')\n",
    "plt.xticks(rotation=90)  # Rotate the x-axis labels for readability\n",
    "plt.ylabel('Percentage des valeurs manquantes')\n",
    "plt.xlabel('Colonnes')\n",
    "plt.title('Percentage des valeurs manquantes par Colonnes')\n",
    "plt.show()"
   ]
  },
  {
   "cell_type": "code",
   "execution_count": null,
   "id": "332690f4",
   "metadata": {},
   "outputs": [],
   "source": [
    "data.tail()"
   ]
  },
  {
   "cell_type": "code",
   "execution_count": null,
   "id": "7937a376",
   "metadata": {},
   "outputs": [],
   "source": [
    "data_filtered.shape"
   ]
  },
  {
   "cell_type": "markdown",
   "id": "7020c7c8",
   "metadata": {},
   "source": [
    "## Data Cleaning "
   ]
  },
  {
   "cell_type": "code",
   "execution_count": null,
   "id": "f86c2e40",
   "metadata": {},
   "outputs": [],
   "source": [
    "plt.figure(figsize=(20, 12))\n",
    "# Calculate the percentage of missing values in each column\n",
    "missing_percentage = data_filtered.isnull().mean() * 100\n",
    "\n",
    "# Create a barplot of the missing percentages using seaborn\n",
    "sns.barplot(x=missing_percentage.index, y=missing_percentage, color='blue')\n",
    "plt.xticks(rotation=90)  # Rotate the x-axis labels for readability\n",
    "plt.ylabel('Percentage des valeurs manquantes')\n",
    "plt.xlabel('Colonnes')\n",
    "plt.title('Percentage des valeurs manquantes par Colonnes')\n",
    "plt.show()"
   ]
  },
  {
   "cell_type": "code",
   "execution_count": null,
   "id": "e3a9cdaf",
   "metadata": {
    "scrolled": true
   },
   "outputs": [],
   "source": [
    "data_filtered.isnull().sum()"
   ]
  },
  {
   "cell_type": "code",
   "execution_count": null,
   "id": "f507eec4",
   "metadata": {},
   "outputs": [],
   "source": [
    "print('Number of duplicated data' ,data_filtered.duplicated().sum())\n",
    "data_filtered['# Date and time'] = pd.to_datetime(data_filtered['# Date and time'],format='mixed')\n",
    "data_filtered = data_filtered.sort_values('# Date and time')\n",
    "data_filtered.reset_index(drop=True, inplace=True)"
   ]
  },
  {
   "cell_type": "code",
   "execution_count": null,
   "id": "6aa2eac4",
   "metadata": {},
   "outputs": [],
   "source": [
    "sns.relplot(x='Wind speed (m/s)', y='Power (kW)',data=data_filtered)"
   ]
  },
  {
   "cell_type": "markdown",
   "id": "1838f12c",
   "metadata": {},
   "source": [
    "### Data Normalisation"
   ]
  },
  {
   "cell_type": "code",
   "execution_count": null,
   "id": "d6841105",
   "metadata": {
    "scrolled": true
   },
   "outputs": [],
   "source": [
    "data = data_filtered\n",
    "data=data.drop(['# Date and time'], axis=1)\n",
    "data.tail()"
   ]
  },
  {
   "cell_type": "code",
   "execution_count": null,
   "id": "81400cf9",
   "metadata": {
    "scrolled": true
   },
   "outputs": [],
   "source": [
    "# Create a scatterplot with sns.relplot\n",
    "sns.relplot(x='Wind speed (m/s)', y='Power (kW)', hue=anomaly_labels, data=data_filtered)"
   ]
  },
  {
   "cell_type": "markdown",
   "id": "9aafb672",
   "metadata": {},
   "source": [
    "### Data Labelisation"
   ]
  },
  {
   "cell_type": "code",
   "execution_count": null,
   "id": "5a1ae3da",
   "metadata": {},
   "outputs": [],
   "source": [
    "data_status21 = pd.read_csv(\"C:/Users/dell/Dataset/Kelmarsh Dataset/Kelmarsh_SCADA_2021_3087/Status_Kelmarsh_1_2021-01-01_-_2021-07-01_228.csv\", sep=';')\n",
    "data_status21 = data_status21.drop(data_status21[data_status21['Duration'] == '-'].index)\n",
    "data_status21.reset_index(drop=True, inplace=True)\n",
    "\n",
    "\n",
    "data_status20 = pd.read_csv(\"C:/Users/dell/Dataset/Kelmarsh Dataset/Kelmarsh_SCADA_2020_3086/Status_Kelmarsh_1_2020-01-01_-_2021-01-01_228.csv\", sep=';')\n",
    "data_status20 = data_status20.drop(data_status20[data_status20['Duration'] == '-'].index)\n",
    "data_status20.reset_index(drop=True, inplace=True)\n",
    "\n",
    "\n",
    "data_status19 = pd.read_csv(\"C:/Users/dell/Dataset/Kelmarsh Dataset/Kelmarsh_SCADA_2019_3085/Status_Kelmarsh_1_2019-01-01_-_2020-01-01_228.csv\", sep=';')\n",
    "data_status19 = data_status19.drop(data_status19[data_status19['Duration'] == '-'].index)\n",
    "data_status19.reset_index(drop=True, inplace=True)\n",
    "\n",
    "\n",
    "data_status18 = pd.read_csv(\"C:/Users/dell/Dataset/Kelmarsh Dataset/Kelmarsh_SCADA_2018_3084/Status_Kelmarsh_1_2018-01-01_-_2019-01-01_228.csv\", sep=';')\n",
    "data_status18 = data_status18.drop(data_status18[data_status18['Duration'] == '-'].index)\n",
    "data_status18.reset_index(drop=True, inplace=True)\n",
    "\n",
    "\n",
    "tempdata1 = pd.concat([data_status18, data_status19])\n",
    "tempdata2 = pd.concat([tempdata1, data_status20])\n",
    "ds = pd.concat([tempdata2, data_status21])\n",
    "#ds = data_status20\n",
    "print('Number of incidents',ds.shape)"
   ]
  },
  {
   "cell_type": "code",
   "execution_count": null,
   "id": "1b796c52",
   "metadata": {},
   "outputs": [],
   "source": [
    "# Convert fault start and end times to datetime objects\n",
    "ds['Timestamp start'] = pd.to_datetime(ds['Timestamp start'],format='mixed')\n",
    "ds['Timestamp end'] = pd.to_datetime(ds['Timestamp end'],format='mixed')\n",
    "\n",
    "# Create a list of all the time periods during which the turbine was in a fault state\n",
    "fault_periods = []\n",
    "for _, row in ds.iterrows():\n",
    "    start = row['Timestamp start']\n",
    "    end = row['Timestamp end']\n",
    "    fault_periods.append((start, end))\n",
    "\n",
    "# Create a list of anomaly labels for each row of the dataset\n",
    "anomaly_labels = []\n",
    "for _, row in data_filtered.iterrows():\n",
    "    timestamp = pd.to_datetime(row['# Date and time'],format='mixed')\n",
    "    anomaly = 0\n",
    "    for start, end in fault_periods:\n",
    "        if start <= timestamp <= end:\n",
    "            anomaly = 1\n",
    "            break\n",
    "    anomaly_labels.append(anomaly)\n",
    "\n",
    "# Convert the anomaly labels list to a NumPy array\n",
    "anomaly_labels = np.array(anomaly_labels)\n",
    "\n"
   ]
  },
  {
   "cell_type": "code",
   "execution_count": null,
   "id": "24eb50cb",
   "metadata": {},
   "outputs": [],
   "source": [
    "print('Number of anomalies in the dataset :',anomaly_labels.sum())"
   ]
  },
  {
   "cell_type": "markdown",
   "id": "267b81ae",
   "metadata": {},
   "source": [
    "### Saving the data "
   ]
  },
  {
   "cell_type": "code",
   "execution_count": null,
   "id": "aa83a90f",
   "metadata": {},
   "outputs": [],
   "source": [
    "# file for data from 2018-2021 : Kelmarsh_turbine1(2018-2021).csv\n",
    "# file for 2020 data Kelmarsh_turbine1-2020.csv\n",
    "\n",
    "turbine = data_scaled\n",
    "turbine['anomaly'] = anomaly_labels\n",
    "turbine.to_csv('Kelmarsh_turbine1(2018-2021).csv')"
   ]
  },
  {
   "cell_type": "code",
   "execution_count": null,
   "id": "4de27458",
   "metadata": {},
   "outputs": [],
   "source": []
  }
 ],
 "metadata": {
  "kernelspec": {
   "display_name": "Python 3 (ipykernel)",
   "language": "python",
   "name": "python3"
  },
  "language_info": {
   "codemirror_mode": {
    "name": "ipython",
    "version": 3
   },
   "file_extension": ".py",
   "mimetype": "text/x-python",
   "name": "python",
   "nbconvert_exporter": "python",
   "pygments_lexer": "ipython3",
   "version": "3.11.4"
  }
 },
 "nbformat": 4,
 "nbformat_minor": 5
}
