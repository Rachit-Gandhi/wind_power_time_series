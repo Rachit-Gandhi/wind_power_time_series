{
 "cells": [
  {
   "cell_type": "code",
   "execution_count": 31,
   "metadata": {},
   "outputs": [],
   "source": [
    "import os\n",
    "import pandas as pd\n",
    "\n",
    "\n",
    "directory = r\"C:\\Users\\rachitgandhi1\\OneDrive - KPMG\\Desktop\\Data\"\n",
    "#input('Please enter the folder directory path :')  # Replace with the actual directory path\n",
    "#year_repo = input('Please enter the year :')\n",
    "\n",
    "# List all files in the directory\n",
    "files = os.listdir(directory)\n",
    "\n",
    "turbine1_df = pd.DataFrame()\n",
    "turbine2_df = pd.DataFrame()\n",
    "turbine3_df = pd.DataFrame()\n",
    "turbine4_df = pd.DataFrame()\n",
    "turbine5_df = pd.DataFrame()\n",
    "turbine6_df = pd.DataFrame()\n",
    "\n",
    "turbines = [turbine1_df, turbine2_df, turbine3_df,turbine4_df, turbine5_df, turbine6_df ]\n",
    "\n",
    "\n",
    "csv_1_files = [file for file in files if file.endswith('.csv') and file.startswith('Turbine_Data_Kelmarsh_1')]\n",
    "csv_2_files = [file for file in files if file.endswith('.csv') and file.startswith('Turbine_Data_Kelmarsh_2')]\n",
    "csv_3_files = [file for file in files if file.endswith('.csv') and file.startswith('Turbine_Data_Kelmarsh_3')]\n",
    "csv_4_files = [file for file in files if file.endswith('.csv') and file.startswith('Turbine_Data_Kelmarsh_4')]\n",
    "csv_5_files = [file for file in files if file.endswith('.csv') and file.startswith('Turbine_Data_Kelmarsh_5')]\n",
    "csv_6_files = [file for file in files if file.endswith('.csv') and file.startswith('Turbine_Data_Kelmarsh_6')]\n",
    "\n",
    "csv_i_files  = [csv_1_files,csv_2_files,csv_3_files,csv_4_files,csv_5_files,csv_6_files]\n"
   ]
  },
  {
   "cell_type": "code",
   "execution_count": 32,
   "metadata": {},
   "outputs": [
    {
     "name": "stdout",
     "output_type": "stream",
     "text": [
      "15715440\n",
      "15715440\n",
      "15758496\n",
      "31473936\n",
      "7793136\n",
      "39267072\n"
     ]
    }
   ],
   "source": [
    "turbine1_df = pd.DataFrame()\n",
    "for csv_1_file in csv_1_files:\n",
    "    path = r'C:\\Users\\rachitgandhi1\\OneDrive - KPMG\\Desktop\\Data'\n",
    "    df = pd.read_csv(f'{path}\\{csv_1_file}',skiprows=8, header=1)\n",
    "    print(df.size)\n",
    "    turbine1_df = pd.concat([turbine1_df,df], axis=0)\n",
    "    print(turbine1_df.size)\n",
    "    "
   ]
  },
  {
   "cell_type": "code",
   "execution_count": 33,
   "metadata": {},
   "outputs": [],
   "source": [
    "import data_preprocess as dpf\n",
    "turbine1_df_fi = dpf.data_process(turbine1_df)\n",
    "\n",
    "turbine1_df_final = dpf.normalize_all(turbine1_df_fi)"
   ]
  },
  {
   "cell_type": "code",
   "execution_count": 34,
   "metadata": {},
   "outputs": [
    {
     "name": "stderr",
     "output_type": "stream",
     "text": [
      "C:\\Users\\rachitgandhi1\\AppData\\Local\\Temp\\ipykernel_20992\\1273828923.py:6: SettingWithCopyWarning: \n",
      "A value is trying to be set on a copy of a slice from a DataFrame\n",
      "\n",
      "See the caveats in the documentation: https://pandas.pydata.org/pandas-docs/stable/user_guide/indexing.html#returning-a-view-versus-a-copy\n",
      "  turbine1_df_final['Metal particle count counter'].fillna(method='ffill', inplace=True)\n",
      "C:\\Users\\rachitgandhi1\\AppData\\Local\\Temp\\ipykernel_20992\\1273828923.py:7: SettingWithCopyWarning: \n",
      "A value is trying to be set on a copy of a slice from a DataFrame\n",
      "\n",
      "See the caveats in the documentation: https://pandas.pydata.org/pandas-docs/stable/user_guide/indexing.html#returning-a-view-versus-a-copy\n",
      "  turbine1_df_final['Tower Acceleration y (mm/ss)'].fillna(method='ffill', inplace=True)\n",
      "C:\\Users\\rachitgandhi1\\AppData\\Local\\Temp\\ipykernel_20992\\1273828923.py:8: SettingWithCopyWarning: \n",
      "A value is trying to be set on a copy of a slice from a DataFrame\n",
      "\n",
      "See the caveats in the documentation: https://pandas.pydata.org/pandas-docs/stable/user_guide/indexing.html#returning-a-view-versus-a-copy\n",
      "  turbine1_df_final['Tower Acceleration X (mm/ss)'].fillna(method='ffill', inplace=True)\n",
      "C:\\Users\\rachitgandhi1\\AppData\\Local\\Temp\\ipykernel_20992\\1273828923.py:9: SettingWithCopyWarning: \n",
      "A value is trying to be set on a copy of a slice from a DataFrame\n",
      "\n",
      "See the caveats in the documentation: https://pandas.pydata.org/pandas-docs/stable/user_guide/indexing.html#returning-a-view-versus-a-copy\n",
      "  turbine1_df_final['blade_angle'].fillna(method='ffill', inplace=True)\n",
      "C:\\Users\\rachitgandhi1\\AppData\\Local\\Temp\\ipykernel_20992\\1273828923.py:10: SettingWithCopyWarning: \n",
      "A value is trying to be set on a copy of a slice from a DataFrame\n",
      "\n",
      "See the caveats in the documentation: https://pandas.pydata.org/pandas-docs/stable/user_guide/indexing.html#returning-a-view-versus-a-copy\n",
      "  turbine1_df_final['Front bearing temperature (°C)'].fillna(method='ffill', inplace=True)\n",
      "C:\\Users\\rachitgandhi1\\AppData\\Local\\Temp\\ipykernel_20992\\1273828923.py:11: SettingWithCopyWarning: \n",
      "A value is trying to be set on a copy of a slice from a DataFrame\n",
      "\n",
      "See the caveats in the documentation: https://pandas.pydata.org/pandas-docs/stable/user_guide/indexing.html#returning-a-view-versus-a-copy\n",
      "  turbine1_df_final['Rear bearing temperature (°C)'].fillna(method='ffill', inplace=True)\n",
      "C:\\Users\\rachitgandhi1\\AppData\\Local\\Temp\\ipykernel_20992\\1273828923.py:12: SettingWithCopyWarning: \n",
      "A value is trying to be set on a copy of a slice from a DataFrame\n",
      "\n",
      "See the caveats in the documentation: https://pandas.pydata.org/pandas-docs/stable/user_guide/indexing.html#returning-a-view-versus-a-copy\n",
      "  turbine1_df_final['Nacelle ambient temperature (°C)'].fillna(method='ffill', inplace=True)\n"
     ]
    }
   ],
   "source": [
    "# calculate the median of each column over the last 14 days, ignoring NaN values\n",
    "# Assuming 'df' is your DataFrame\n",
    "turbine1_df_final = turbine1_df_final.dropna(subset=['Wind speed (m/s)'])\n",
    "# Assuming 'df' is your DataFrame and the columns are ['column1', 'column2', 'column3']\n",
    "\n",
    "turbine1_df_final['Metal particle count counter'].fillna(method='ffill', inplace=True)\n",
    "turbine1_df_final['Tower Acceleration y (mm/ss)'].fillna(method='ffill', inplace=True)\n",
    "turbine1_df_final['Tower Acceleration X (mm/ss)'].fillna(method='ffill', inplace=True)\n",
    "turbine1_df_final['blade_angle'].fillna(method='ffill', inplace=True)\n",
    "turbine1_df_final['Front bearing temperature (°C)'].fillna(method='ffill', inplace=True)\n",
    "turbine1_df_final['Rear bearing temperature (°C)'].fillna(method='ffill', inplace=True)\n",
    "turbine1_df_final['Nacelle ambient temperature (°C)'].fillna(method='ffill', inplace=True)\n",
    "\n",
    "for i in (1,50):\n",
    "    means = turbine1_df_final.rolling(window=7, min_periods=1).mean(numeric_only=True)\n",
    "\n",
    "    # replace NaN values in each column with the corresponding median value, or 0 if there are no non-NaN values\n",
    "    turbine1_df_final = turbine1_df_final.fillna(means)\n",
    "\n",
    "\n",
    "\n"
   ]
  },
  {
   "cell_type": "code",
   "execution_count": 35,
   "metadata": {},
   "outputs": [],
   "source": [
    "turbine1_df_final = turbine1_df_final.reset_index()\n"
   ]
  },
  {
   "cell_type": "code",
   "execution_count": 36,
   "metadata": {},
   "outputs": [
    {
     "name": "stdout",
     "output_type": "stream",
     "text": [
      "Start\n"
     ]
    }
   ],
   "source": [
    "import pandas as pd\n",
    "\n",
    "\n",
    "# specify the list of features to lag\n",
    "diff_features = ['blade_angle','Nacelle ambient temperature (°C)','Tower Acceleration X (mm/ss)','Tower Acceleration y (mm/ss)']\n",
    "features_to_lag = ['Wind direction (°)','Rear bearing temperature (°C)',\n",
    "                'Rotor speed (RPM)','Generator RPM (RPM)',\n",
    "                'Front bearing temperature (°C)','Tower Acceleration X (mm/ss)','Wind speed (m/s)','Tower Acceleration y (mm/ss)','Metal particle count counter']\n",
    "print(\"Start\")\n",
    "# lag the specified features by 1, 2, 3, 4, and 5 timesteps\n",
    "for feature in features_to_lag:\n",
    "    for i in range(1, 6):\n",
    "        feature_n = f'{feature}_lagged_{i}'\n",
    "        turbine1_df_final[feature_n] = turbine1_df_final[feature].shift(i)\n",
    "\n",
    "for feature in diff_features:\n",
    "    feature_n = f'{feature}_diff'\n",
    "    turbine1_df_final[feature_n] = turbine1_df_final[feature].diff()\n",
    "               \n",
    "\n",
    "# fill missing values with the previous value\n",
    "turbine1_df_final.fillna(method='ffill', inplace=True)\n"
   ]
  },
  {
   "cell_type": "code",
   "execution_count": 37,
   "metadata": {},
   "outputs": [],
   "source": [
    "turbine1_df_final.fillna(0, inplace=True)\n",
    "\n"
   ]
  },
  {
   "cell_type": "code",
   "execution_count": 38,
   "metadata": {},
   "outputs": [
    {
     "name": "stdout",
     "output_type": "stream",
     "text": [
      "index                                    0\n",
      "# Date and time                          0\n",
      "Wind speed (m/s)                         0\n",
      "Wind direction (°)                       0\n",
      "Nacelle position (°)                     0\n",
      "                                        ..\n",
      "Metal particle count counter_lagged_5    0\n",
      "blade_angle_diff                         0\n",
      "Nacelle ambient temperature (°C)_diff    0\n",
      "Tower Acceleration X (mm/ss)_diff        0\n",
      "Tower Acceleration y (mm/ss)_diff        0\n",
      "Length: 64, dtype: int64\n"
     ]
    }
   ],
   "source": [
    "print(turbine1_df_final.isnull().sum())"
   ]
  },
  {
   "cell_type": "code",
   "execution_count": 42,
   "metadata": {},
   "outputs": [],
   "source": [
    "turbine1_df_final_numeric = turbine1_df_final.select_dtypes(include='int')\n",
    "turbine1_df_final_numeric.to_csv('nan.csv', na_rep='nan', index=False)\n",
    "\n"
   ]
  },
  {
   "cell_type": "code",
   "execution_count": 40,
   "metadata": {},
   "outputs": [],
   "source": [
    "turbine1_df_final.to_csv('input_data.csv', index_label=False)"
   ]
  },
  {
   "cell_type": "markdown",
   "metadata": {},
   "source": [
    "Start\n",
    "        index      # Date and time  Wind speed (m/s)  Wind direction (°)  \\\n",
    "0           0  2019-01-01 00:00:00          0.193842            0.790682   \n",
    "1           1  2019-01-01 00:10:00          0.188339            0.802161   \n",
    "2           2  2019-01-01 00:20:00          0.238407            0.811375   \n",
    "3           3  2019-01-01 00:30:00          0.239560            0.818464   \n",
    "4           4  2019-01-01 00:40:00          0.245320            0.830623   \n",
    "...       ...                  ...               ...                 ...   \n",
    "130723  26059  2021-06-30 23:10:00          0.166287            0.110955   \n",
    "130724  26060  2021-06-30 23:20:00          0.179300            0.110289   \n",
    "130725  26061  2021-06-30 23:30:00          0.163595            0.117261   \n",
    "130726  26062  2021-06-30 23:40:00          0.080132            0.115900   \n",
    "130727  26063  2021-06-30 23:50:00          0.084619            0.094233   \n",
    "\n",
    "        Nacelle position (°)  Power (kW)  Front bearing temperature (°C)  \\\n",
    "0                   0.769874    0.099892                        0.833237   \n",
    "1                   0.769874    0.098801                        0.811152   \n",
    "2                   0.769874    0.190098                        0.854967   \n",
    "3                   0.769874    0.209905                        0.898783   \n",
    "4                   0.822596    0.155019                        0.885980   \n",
    "...                      ...         ...                             ...   \n",
    "130723              0.096058    0.032630                        0.769861   \n",
    "130724              0.096058    0.054875                        0.769861   \n",
    "130725              0.096058    0.043631                        0.769861   \n",
    "130726              0.096058    0.004039                        0.769861   \n",
    "130727              0.096058    0.007984                        0.769861   \n",
    "...\n",
    "130726                           0.000000                           0.000000  \n",
    "130727                           0.000000                           0.000000  \n",
    "\n",
    "[130728 rows x 79 columns]\n",
    "Output is truncated. View as a scrollable element or open in a text editor. Adjust cell output settings...\n",
    "Index(['index', '# Date and time', 'Wind speed (m/s)', 'Wind direction (°)',\n",
    "       'Nacelle position (°)', 'Power (kW)', 'Front bearing temperature (°C)',\n",
    "       'Rear bearing temperature (°C)', 'Nacelle ambient temperature (°C)',\n",
    "       'Rotor speed (RPM)', 'Generator RPM (RPM)',\n",
    "       'Metal particle count counter', 'Tower Acceleration X (mm/ss)',\n",
    "       'Tower Acceleration y (mm/ss)', 'blade_angle',\n",
    "       'Wind direction (°)_lagged_1', 'Wind direction (°)_lagged_2',\n",
    "       'Wind direction (°)_lagged_3', 'Wind direction (°)_lagged_4',\n",
    "       'Wind direction (°)_lagged_5', 'Nacelle position (°)_lagged_1',\n",
    "       'Nacelle position (°)_lagged_2', 'Nacelle position (°)_lagged_3',\n",
    "       'Nacelle position (°)_lagged_4', 'Nacelle position (°)_lagged_5',\n",
    "       'blade_angle_lagged_1', 'blade_angle_lagged_2', 'blade_angle_lagged_3',\n",
    "       'blade_angle_lagged_4', 'blade_angle_lagged_5',\n",
    "       'Rear bearing temperature (°C)_lagged_1',\n",
    "       'Rear bearing temperature (°C)_lagged_2',\n",
    "       'Rear bearing temperature (°C)_lagged_3',\n",
    "       'Rear bearing temperature (°C)_lagged_4',\n",
    "       'Rear bearing temperature (°C)_lagged_5', 'Rotor speed (RPM)_lagged_1',\n",
    "       'Rotor speed (RPM)_lagged_2', 'Rotor speed (RPM)_lagged_3',\n",
    "       'Rotor speed (RPM)_lagged_4', 'Rotor speed (RPM)_lagged_5',\n",
    "       'Generator RPM (RPM)_lagged_1', 'Generator RPM (RPM)_lagged_2',\n",
    "       'Generator RPM (RPM)_lagged_3', 'Generator RPM (RPM)_lagged_4',\n",
    "       'Generator RPM (RPM)_lagged_5',\n",
    "       'Nacelle ambient temperature (°C)_lagged_1',\n",
    "       'Nacelle ambient temperature (°C)_lagged_2',\n",
    "...\n",
    "       'Nacelle ambient temperature (°C)_diff',\n",
    "       'Tower Acceleration X (mm/ss)_diff',\n",
    "       'Tower Acceleration y (mm/ss)_diff'],\n",
    "      dtype='object')\n",
    "Output is truncated. View as a scrollable element or open in a text editor. Adjust cell output settings..."
   ]
  }
 ],
 "metadata": {
  "kernelspec": {
   "display_name": "dl",
   "language": "python",
   "name": "python3"
  },
  "language_info": {
   "codemirror_mode": {
    "name": "ipython",
    "version": 3
   },
   "file_extension": ".py",
   "mimetype": "text/x-python",
   "name": "python",
   "nbconvert_exporter": "python",
   "pygments_lexer": "ipython3",
   "version": "3.10.9"
  },
  "orig_nbformat": 4
 },
 "nbformat": 4,
 "nbformat_minor": 2
}
