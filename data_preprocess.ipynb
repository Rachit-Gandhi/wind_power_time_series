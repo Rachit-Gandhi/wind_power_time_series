{
 "cells": [
  {
   "cell_type": "code",
   "execution_count": 80,
   "metadata": {},
   "outputs": [],
   "source": [
    "import os\n",
    "import pandas as pd\n",
    "\n",
    "\n",
    "directory = r\"/home/krishna/Desktop/code/wind_power_time_series/data/\"\n",
    "#input('Please enter the folder directory path :')  # Replace with the actual directory path\n",
    "#year_repo = input('Please enter the year :')\n",
    "\n",
    "# List all files in the directory\n",
    "files = os.listdir(directory)\n",
    "\n",
    "turbine1_df = pd.DataFrame()\n",
    "turbine2_df = pd.DataFrame()\n",
    "turbine3_df = pd.DataFrame()\n",
    "turbine4_df = pd.DataFrame()\n",
    "turbine5_df = pd.DataFrame()\n",
    "turbine6_df = pd.DataFrame()\n",
    "\n",
    "turbines = [turbine1_df, turbine2_df, turbine3_df,turbine4_df, turbine5_df, turbine6_df ]\n",
    "\n",
    "\n",
    "csv_1_files = [file for file in files if file.endswith('.csv') and file.startswith('Turbine_Data_Kelmarsh_1')]\n",
    "csv_2_files = [file for file in files if file.endswith('.csv') and file.startswith('Turbine_Data_Kelmarsh_2')]\n",
    "csv_3_files = [file for file in files if file.endswith('.csv') and file.startswith('Turbine_Data_Kelmarsh_3')]\n",
    "csv_4_files = [file for file in files if file.endswith('.csv') and file.startswith('Turbine_Data_Kelmarsh_4')]\n",
    "csv_5_files = [file for file in files if file.endswith('.csv') and file.startswith('Turbine_Data_Kelmarsh_5')]\n",
    "csv_6_files = [file for file in files if file.endswith('.csv') and file.startswith('Turbine_Data_Kelmarsh_6')]\n",
    "\n",
    "csv_i_files  = [csv_1_files,csv_2_files,csv_3_files,csv_4_files,csv_5_files,csv_6_files]\n"
   ]
  },
  {
   "cell_type": "code",
   "execution_count": 81,
   "metadata": {},
   "outputs": [
    {
     "name": "stdout",
     "output_type": "stream",
     "text": [
      "7793136\n",
      "7793136\n",
      "15758496\n",
      "23551632\n",
      "15715440\n",
      "39267072\n"
     ]
    }
   ],
   "source": [
    "turbine1_df = pd.DataFrame()\n",
    "for csv_1_file in csv_1_files:\n",
    "    path = r'/home/krishna/Desktop/code/wind_power_time_series/data/'\n",
    "    df = pd.read_csv(f'{path}/{csv_1_file}',skiprows=8, header=1)\n",
    "    print(df.size)\n",
    "    turbine1_df = pd.concat([turbine1_df,df], axis=0)\n",
    "    print(turbine1_df.size)\n",
    "    "
   ]
  },
  {
   "cell_type": "code",
   "execution_count": 82,
   "metadata": {},
   "outputs": [],
   "source": [
    "import data_preprocess as dpf\n",
    "turbine1_df_final = dpf.data_process(turbine1_df)\n"
   ]
  },
  {
   "cell_type": "code",
   "execution_count": 83,
   "metadata": {},
   "outputs": [],
   "source": [
    "turbine1_df_final = turbine1_df_final.dropna(subset=['Wind speed (m/s)'])\n",
    "\n",
    "turbine1_df_final['Metal particle count counter'].fillna(method='ffill', inplace=True)\n",
    "turbine1_df_final['Tower Acceleration y (mm/ss)'].fillna(method='ffill', inplace=True)\n",
    "turbine1_df_final['Tower Acceleration X (mm/ss)'].fillna(method='ffill', inplace=True)\n",
    "turbine1_df_final['blade_angle'].fillna(method='ffill', inplace=True)\n",
    "turbine1_df_final['Front bearing temperature (°C)'].fillna(method='ffill', inplace=True)\n",
    "turbine1_df_final['Rear bearing temperature (°C)'].fillna(method='ffill', inplace=True)\n",
    "turbine1_df_final['Nacelle ambient temperature (°C)'].fillna(method='ffill', inplace=True)\n",
    "\n",
    "for i in (1,50):\n",
    "    means = turbine1_df_final.rolling(window=7, min_periods=1).mean(numeric_only=True)\n",
    "\n",
    "    # replace NaN values in each column with the corresponding median value, or 0 if there are no non-NaN values\n",
    "    turbine1_df_final = turbine1_df_final.fillna(means)\n",
    "\n",
    "\n",
    "\n"
   ]
  },
  {
   "cell_type": "code",
   "execution_count": 84,
   "metadata": {},
   "outputs": [],
   "source": [
    "turbine1_df_final = turbine1_df_final.reset_index(drop = True)\n"
   ]
  },
  {
   "cell_type": "code",
   "execution_count": 85,
   "metadata": {},
   "outputs": [
    {
     "name": "stdout",
     "output_type": "stream",
     "text": [
      "Start\n"
     ]
    }
   ],
   "source": [
    "import pandas as pd\n",
    "\n",
    "\n",
    "# specify the list of features to lag\n",
    "diff_features = ['blade_angle','Nacelle ambient temperature (°C)','Tower Acceleration X (mm/ss)','Tower Acceleration y (mm/ss)']\n",
    "features_to_lag = ['Wind direction (°)','Rear bearing temperature (°C)',\n",
    "                'Rotor speed (RPM)','Generator RPM (RPM)',\n",
    "                'Front bearing temperature (°C)','Tower Acceleration X (mm/ss)','Wind speed (m/s)','Tower Acceleration y (mm/ss)','Metal particle count counter']\n",
    "print(\"Start\")\n",
    "# lag the specified features by 1, 2, 3, 4, and 5 timesteps\n",
    "for feature in features_to_lag:\n",
    "    for i in range(1, 6):\n",
    "        feature_n = f'{feature}_lagged_{i}'\n",
    "        turbine1_df_final[feature_n] = turbine1_df_final[feature].shift(i)\n",
    "\n",
    "for feature in diff_features:\n",
    "    feature_n = f'{feature}_diff'\n",
    "    turbine1_df_final[feature_n] = turbine1_df_final[feature].diff()\n",
    "               \n",
    "\n",
    "# fill missing values with the previous value\n",
    "turbine1_df_final.fillna(method='ffill', inplace=True)\n"
   ]
  },
  {
   "cell_type": "code",
   "execution_count": 86,
   "metadata": {},
   "outputs": [],
   "source": [
    "turbine1_df_final.fillna(0, inplace=True)\n",
    "\n"
   ]
  },
  {
   "cell_type": "code",
   "execution_count": 87,
   "metadata": {},
   "outputs": [
    {
     "name": "stdout",
     "output_type": "stream",
     "text": [
      "# Date and time                          0\n",
      "Wind speed (m/s)                         0\n",
      "Wind direction (°)                       0\n",
      "Nacelle position (°)                     0\n",
      "Power (kW)                               0\n",
      "                                        ..\n",
      "Metal particle count counter_lagged_5    0\n",
      "blade_angle_diff                         0\n",
      "Nacelle ambient temperature (°C)_diff    0\n",
      "Tower Acceleration X (mm/ss)_diff        0\n",
      "Tower Acceleration y (mm/ss)_diff        0\n",
      "Length: 63, dtype: int64\n"
     ]
    }
   ],
   "source": [
    "print(turbine1_df_final.isnull().sum())"
   ]
  },
  {
   "cell_type": "code",
   "execution_count": 88,
   "metadata": {},
   "outputs": [
    {
     "name": "stdout",
     "output_type": "stream",
     "text": [
      "Index(['# Date and time', 'Wind speed (m/s)', 'Wind direction (°)',\n",
      "       'Nacelle position (°)', 'Power (kW)', 'Front bearing temperature (°C)',\n",
      "       'Rear bearing temperature (°C)', 'Nacelle ambient temperature (°C)',\n",
      "       'Rotor speed (RPM)', 'Generator RPM (RPM)',\n",
      "       'Metal particle count counter', 'Tower Acceleration X (mm/ss)',\n",
      "       'Tower Acceleration y (mm/ss)', 'blade_angle',\n",
      "       'Wind direction (°)_lagged_1', 'Wind direction (°)_lagged_2',\n",
      "       'Wind direction (°)_lagged_3', 'Wind direction (°)_lagged_4',\n",
      "       'Wind direction (°)_lagged_5', 'Rear bearing temperature (°C)_lagged_1',\n",
      "       'Rear bearing temperature (°C)_lagged_2',\n",
      "       'Rear bearing temperature (°C)_lagged_3',\n",
      "       'Rear bearing temperature (°C)_lagged_4',\n",
      "       'Rear bearing temperature (°C)_lagged_5', 'Rotor speed (RPM)_lagged_1',\n",
      "       'Rotor speed (RPM)_lagged_2', 'Rotor speed (RPM)_lagged_3',\n",
      "       'Rotor speed (RPM)_lagged_4', 'Rotor speed (RPM)_lagged_5',\n",
      "       'Generator RPM (RPM)_lagged_1', 'Generator RPM (RPM)_lagged_2',\n",
      "       'Generator RPM (RPM)_lagged_3', 'Generator RPM (RPM)_lagged_4',\n",
      "       'Generator RPM (RPM)_lagged_5',\n",
      "       'Front bearing temperature (°C)_lagged_1',\n",
      "       'Front bearing temperature (°C)_lagged_2',\n",
      "       'Front bearing temperature (°C)_lagged_3',\n",
      "       'Front bearing temperature (°C)_lagged_4',\n",
      "       'Front bearing temperature (°C)_lagged_5',\n",
      "       'Tower Acceleration X (mm/ss)_lagged_1',\n",
      "       'Tower Acceleration X (mm/ss)_lagged_2',\n",
      "       'Tower Acceleration X (mm/ss)_lagged_3',\n",
      "       'Tower Acceleration X (mm/ss)_lagged_4',\n",
      "       'Tower Acceleration X (mm/ss)_lagged_5', 'Wind speed (m/s)_lagged_1',\n",
      "       'Wind speed (m/s)_lagged_2', 'Wind speed (m/s)_lagged_3',\n",
      "       'Wind speed (m/s)_lagged_4', 'Wind speed (m/s)_lagged_5',\n",
      "       'Tower Acceleration y (mm/ss)_lagged_1',\n",
      "       'Tower Acceleration y (mm/ss)_lagged_2',\n",
      "       'Tower Acceleration y (mm/ss)_lagged_3',\n",
      "       'Tower Acceleration y (mm/ss)_lagged_4',\n",
      "       'Tower Acceleration y (mm/ss)_lagged_5',\n",
      "       'Metal particle count counter_lagged_1',\n",
      "       'Metal particle count counter_lagged_2',\n",
      "       'Metal particle count counter_lagged_3',\n",
      "       'Metal particle count counter_lagged_4',\n",
      "       'Metal particle count counter_lagged_5', 'blade_angle_diff',\n",
      "       'Nacelle ambient temperature (°C)_diff',\n",
      "       'Tower Acceleration X (mm/ss)_diff',\n",
      "       'Tower Acceleration y (mm/ss)_diff'],\n",
      "      dtype='object')\n"
     ]
    }
   ],
   "source": [
    "turbine1_df_final_numeric = turbine1_df_final.select_dtypes(include='int')\n",
    "print(turbine1_df_final.columns)\n"
   ]
  },
  {
   "cell_type": "code",
   "execution_count": 89,
   "metadata": {},
   "outputs": [],
   "source": [
    "import pandas as pd\n",
    "from datetime import datetime\n",
    "\n",
    "# Assuming 'data_20_final' is your DataFrame containing the data\n",
    "turbine1_df_final['# Date and time'] = pd.to_datetime(turbine1_df_final['# Date and time'])\n",
    "turbine1_df_final['# Date and time'] = turbine1_df_final['# Date and time'].apply(lambda x: int(x.timestamp()))\n",
    "\n",
    "# Now, you can proceed with the normalization step\n"
   ]
  },
  {
   "cell_type": "code",
   "execution_count": 90,
   "metadata": {},
   "outputs": [],
   "source": [
    "turbine1_df_final = dpf.normalize_all(turbine1_df_final)\n"
   ]
  },
  {
   "cell_type": "code",
   "execution_count": 91,
   "metadata": {},
   "outputs": [],
   "source": [
    "turbine1_df_final.fillna(method='bfill', inplace=True)\n",
    "turbine1_df_final.fillna(method='bfill', inplace=True)\n",
    "turbine1_df_final.fillna(method='bfill', inplace=True)\n",
    "turbine1_df_final.fillna(method='bfill', inplace=True)\n"
   ]
  },
  {
   "cell_type": "code",
   "execution_count": 94,
   "metadata": {},
   "outputs": [
    {
     "name": "stdout",
     "output_type": "stream",
     "text": [
      "        # Date and time  Wind speed (m/s)  Wind direction (°)  \\\n",
      "0              0.801541          0.272396            0.846765   \n",
      "1              0.801549          0.256880            0.831502   \n",
      "2              0.801556          0.266310            0.831041   \n",
      "3              0.801564          0.259572            0.824027   \n",
      "4              0.801572          0.236661            0.810636   \n",
      "...                 ...               ...                 ...   \n",
      "130723         0.400184          0.159568            0.279684   \n",
      "130724         0.400192          0.189121            0.253703   \n",
      "130725         0.400200          0.220083            0.255970   \n",
      "130726         0.400207          0.239781            0.274044   \n",
      "130727         0.400215          0.194714            0.307519   \n",
      "\n",
      "        Nacelle position (°)  Power (kW)  Front bearing temperature (°C)  \\\n",
      "0                   0.870488    0.007865                        0.110101   \n",
      "1                   0.870488    0.007267                        0.108287   \n",
      "2                   0.870488    0.007874                        0.107291   \n",
      "3                   0.870488    0.007970                        0.106331   \n",
      "4                   0.870488    0.007169                        0.104197   \n",
      "...                      ...         ...                             ...   \n",
      "130723              0.206266    0.066602                        0.769079   \n",
      "130724              0.269229    0.090148                        0.781953   \n",
      "130725              0.269838    0.119495                        0.802545   \n",
      "130726              0.269838    0.142925                        0.830499   \n",
      "130727              0.269838    0.100776                        0.818691   \n",
      "\n",
      "        Rear bearing temperature (°C)  Nacelle ambient temperature (°C)  \\\n",
      "0                            0.085487                          0.111944   \n",
      "1                            0.082944                          0.101574   \n",
      "2                            0.083617                          0.083833   \n",
      "3                            0.081373                          0.074775   \n",
      "4                            0.079578                          0.076462   \n",
      "...                               ...                               ...   \n",
      "130723                       0.813994                          0.249188   \n",
      "130724                       0.822744                          0.247626   \n",
      "130725                       0.837366                          0.242379   \n",
      "130726                       0.855465                          0.243253   \n",
      "130727                       0.841405                          0.248063   \n",
      "\n",
      "        Rotor speed (RPM)  Generator RPM (RPM)  ...  \\\n",
      "0                0.000000             0.077830  ...   \n",
      "1                0.000000             0.077802  ...   \n",
      "2                0.000000             0.078689  ...   \n",
      "3                0.000000             0.078036  ...   \n",
      "4                0.000000             0.078029  ...   \n",
      "...                   ...                  ...  ...   \n",
      "130723           0.534881             0.572257  ...   \n",
      "130724           0.560780             0.596746  ...   \n",
      "130725           0.602079             0.634436  ...   \n",
      "130726           0.634814             0.664044  ...   \n",
      "130727           0.573909             0.607360  ...   \n",
      "\n",
      "        Tower Acceleration y (mm/ss)_lagged_5  \\\n",
      "0                                    0.000000   \n",
      "1                                    0.000000   \n",
      "2                                    0.000000   \n",
      "3                                    0.000000   \n",
      "4                                    0.000000   \n",
      "...                                       ...   \n",
      "130723                               0.086562   \n",
      "130724                               0.091206   \n",
      "130725                               0.115391   \n",
      "130726                               0.106322   \n",
      "130727                               0.115296   \n",
      "\n",
      "        Metal particle count counter_lagged_1  \\\n",
      "0                                    0.000000   \n",
      "1                                    0.990210   \n",
      "2                                    0.990210   \n",
      "3                                    0.990210   \n",
      "4                                    0.990210   \n",
      "...                                       ...   \n",
      "130723                               0.960839   \n",
      "130724                               0.960839   \n",
      "130725                               0.960839   \n",
      "130726                               0.960839   \n",
      "130727                               0.960839   \n",
      "\n",
      "        Metal particle count counter_lagged_2  \\\n",
      "0                                    0.000000   \n",
      "1                                    0.000000   \n",
      "2                                    0.990210   \n",
      "3                                    0.990210   \n",
      "4                                    0.990210   \n",
      "...                                       ...   \n",
      "130723                               0.960839   \n",
      "130724                               0.960839   \n",
      "130725                               0.960839   \n",
      "130726                               0.960839   \n",
      "130727                               0.960839   \n",
      "\n",
      "        Metal particle count counter_lagged_3  \\\n",
      "0                                    0.000000   \n",
      "1                                    0.000000   \n",
      "2                                    0.000000   \n",
      "3                                    0.990210   \n",
      "4                                    0.990210   \n",
      "...                                       ...   \n",
      "130723                               0.960839   \n",
      "130724                               0.960839   \n",
      "130725                               0.960839   \n",
      "130726                               0.960839   \n",
      "130727                               0.960839   \n",
      "\n",
      "        Metal particle count counter_lagged_4  \\\n",
      "0                                    0.000000   \n",
      "1                                    0.000000   \n",
      "2                                    0.000000   \n",
      "3                                    0.000000   \n",
      "4                                    0.990210   \n",
      "...                                       ...   \n",
      "130723                               0.960839   \n",
      "130724                               0.960839   \n",
      "130725                               0.960839   \n",
      "130726                               0.960839   \n",
      "130727                               0.960839   \n",
      "\n",
      "        Metal particle count counter_lagged_5  blade_angle_diff  \\\n",
      "0                                    0.000000          0.461150   \n",
      "1                                    0.000000          0.461150   \n",
      "2                                    0.000000          0.461150   \n",
      "3                                    0.000000          0.461150   \n",
      "4                                    0.000000          0.461150   \n",
      "...                                       ...               ...   \n",
      "130723                               0.960839          0.461403   \n",
      "130724                               0.960839          0.460517   \n",
      "130725                               0.960839          0.461150   \n",
      "130726                               0.960839          0.461150   \n",
      "130727                               0.960839          0.461150   \n",
      "\n",
      "        Nacelle ambient temperature (°C)_diff  \\\n",
      "0                                    0.567232   \n",
      "1                                    0.550408   \n",
      "2                                    0.538449   \n",
      "3                                    0.552536   \n",
      "4                                    0.569968   \n",
      "...                                       ...   \n",
      "130723                               0.565914   \n",
      "130724                               0.564698   \n",
      "130725                               0.558719   \n",
      "130726                               0.568650   \n",
      "130727                               0.575035   \n",
      "\n",
      "        Tower Acceleration X (mm/ss)_diff  Tower Acceleration y (mm/ss)_diff  \n",
      "0                                0.531957                           0.505181  \n",
      "1                                0.536064                           0.521929  \n",
      "2                                0.535108                           0.519786  \n",
      "3                                0.528941                           0.500331  \n",
      "4                                0.553049                           0.511246  \n",
      "...                                   ...                                ...  \n",
      "130723                           0.500782                           0.496533  \n",
      "130724                           0.548885                           0.486276  \n",
      "130725                           0.535952                           0.497850  \n",
      "130726                           0.493581                           0.505459  \n",
      "130727                           0.674392                           0.559401  \n",
      "\n",
      "[130728 rows x 63 columns]\n"
     ]
    }
   ],
   "source": [
    "print(turbine1_df_final)"
   ]
  },
  {
   "cell_type": "code",
   "execution_count": 96,
   "metadata": {},
   "outputs": [],
   "source": [
    "turbine1_df_final.reset_index(drop=True, inplace=True)\n",
    "turbine1_df.reset_index(drop=True, inplace=True)\n",
    "\n",
    "turbine1_df_final['# Date and time'] = turbine1_df['# Date and time']\n"
   ]
  },
  {
   "cell_type": "code",
   "execution_count": 97,
   "metadata": {},
   "outputs": [],
   "source": [
    "import pickle\n",
    "turbine1_df_final.to_pickle('turbine1_df_final.pkl')\n"
   ]
  },
  {
   "cell_type": "code",
   "execution_count": 98,
   "metadata": {},
   "outputs": [],
   "source": [
    "turbine1_df_final.to_csv('input_data.csv', index_label=False)\n"
   ]
  }
 ],
 "metadata": {
  "kernelspec": {
   "display_name": "dl",
   "language": "python",
   "name": "python3"
  },
  "language_info": {
   "codemirror_mode": {
    "name": "ipython",
    "version": 3
   },
   "file_extension": ".py",
   "mimetype": "text/x-python",
   "name": "python",
   "nbconvert_exporter": "python",
   "pygments_lexer": "ipython3",
   "version": "3.11.4"
  },
  "orig_nbformat": 4
 },
 "nbformat": 4,
 "nbformat_minor": 2
}
