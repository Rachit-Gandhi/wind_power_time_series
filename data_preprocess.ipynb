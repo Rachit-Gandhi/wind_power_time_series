{
 "cells": [
  {
   "cell_type": "code",
   "execution_count": 66,
   "metadata": {},
   "outputs": [],
   "source": [
    "import os\n",
    "import pandas as pd\n",
    "\n",
    "\n",
    "directory = r\"/home/krishna/Desktop/code/wind_power_time_series/data/\"\n",
    "#input('Please enter the folder directory path :')  # Replace with the actual directory path\n",
    "#year_repo = input('Please enter the year :')\n",
    "\n",
    "# List all files in the directory\n",
    "files = os.listdir(directory)\n",
    "\n",
    "turbine1_df = pd.DataFrame()\n",
    "turbine2_df = pd.DataFrame()\n",
    "turbine3_df = pd.DataFrame()\n",
    "turbine4_df = pd.DataFrame()\n",
    "turbine5_df = pd.DataFrame()\n",
    "turbine6_df = pd.DataFrame()\n",
    "\n",
    "turbines = [turbine1_df, turbine2_df, turbine3_df,turbine4_df, turbine5_df, turbine6_df ]\n",
    "\n",
    "\n",
    "csv_1_files = [file for file in files if file.endswith('.csv') and file.startswith('Turbine_Data_Kelmarsh_1')]\n",
    "csv_2_files = [file for file in files if file.endswith('.csv') and file.startswith('Turbine_Data_Kelmarsh_2')]\n",
    "csv_3_files = [file for file in files if file.endswith('.csv') and file.startswith('Turbine_Data_Kelmarsh_3')]\n",
    "csv_4_files = [file for file in files if file.endswith('.csv') and file.startswith('Turbine_Data_Kelmarsh_4')]\n",
    "csv_5_files = [file for file in files if file.endswith('.csv') and file.startswith('Turbine_Data_Kelmarsh_5')]\n",
    "csv_6_files = [file for file in files if file.endswith('.csv') and file.startswith('Turbine_Data_Kelmarsh_6')]\n",
    "\n",
    "csv_i_files  = [csv_1_files,csv_2_files,csv_3_files,csv_4_files,csv_5_files,csv_6_files]\n"
   ]
  },
  {
   "cell_type": "code",
   "execution_count": 67,
   "metadata": {},
   "outputs": [
    {
     "name": "stdout",
     "output_type": "stream",
     "text": [
      "7793136\n",
      "7793136\n",
      "15758496\n",
      "23551632\n",
      "15715440\n",
      "39267072\n"
     ]
    }
   ],
   "source": [
    "turbine1_df = pd.DataFrame()\n",
    "for csv_1_file in csv_1_files:\n",
    "    path = r'/home/krishna/Desktop/code/wind_power_time_series/data/'\n",
    "    df = pd.read_csv(f'{path}/{csv_1_file}',skiprows=8, header=1)\n",
    "    print(df.size)\n",
    "    turbine1_df = pd.concat([turbine1_df,df], axis=0)\n",
    "    print(turbine1_df.size)\n",
    "    "
   ]
  },
  {
   "cell_type": "code",
   "execution_count": 68,
   "metadata": {},
   "outputs": [],
   "source": [
    "import data_preprocess as dpf\n",
    "turbine1_df_final = dpf.data_process(turbine1_df)\n"
   ]
  },
  {
   "cell_type": "code",
   "execution_count": 69,
   "metadata": {},
   "outputs": [],
   "source": [
    "turbine1_df_final = turbine1_df_final.dropna(subset=['Wind speed (m/s)'])\n",
    "\n",
    "turbine1_df_final['Metal particle count counter'].fillna(method='ffill', inplace=True)\n",
    "turbine1_df_final['Tower Acceleration y (mm/ss)'].fillna(method='ffill', inplace=True)\n",
    "turbine1_df_final['Tower Acceleration X (mm/ss)'].fillna(method='ffill', inplace=True)\n",
    "turbine1_df_final['blade_angle'].fillna(method='ffill', inplace=True)\n",
    "turbine1_df_final['Front bearing temperature (°C)'].fillna(method='ffill', inplace=True)\n",
    "turbine1_df_final['Rear bearing temperature (°C)'].fillna(method='ffill', inplace=True)\n",
    "turbine1_df_final['Nacelle ambient temperature (°C)'].fillna(method='ffill', inplace=True)\n",
    "\n",
    "for i in (1,50):\n",
    "    means = turbine1_df_final.rolling(window=7, min_periods=1).mean(numeric_only=True)\n",
    "\n",
    "    # replace NaN values in each column with the corresponding median value, or 0 if there are no non-NaN values\n",
    "    turbine1_df_final = turbine1_df_final.fillna(means)\n",
    "\n",
    "\n",
    "\n"
   ]
  },
  {
   "cell_type": "code",
   "execution_count": 70,
   "metadata": {},
   "outputs": [],
   "source": [
    "turbine1_df_final = turbine1_df_final.reset_index(drop = True)\n"
   ]
  },
  {
   "cell_type": "code",
   "execution_count": 71,
   "metadata": {},
   "outputs": [
    {
     "name": "stdout",
     "output_type": "stream",
     "text": [
      "Start\n"
     ]
    }
   ],
   "source": [
    "import pandas as pd\n",
    "\n",
    "\n",
    "# specify the list of features to lag\n",
    "diff_features = ['blade_angle','Nacelle ambient temperature (°C)','Tower Acceleration X (mm/ss)','Tower Acceleration y (mm/ss)']\n",
    "features_to_lag = ['Wind direction (°)','Rear bearing temperature (°C)',\n",
    "                'Rotor speed (RPM)','Generator RPM (RPM)',\n",
    "                'Front bearing temperature (°C)','Tower Acceleration X (mm/ss)','Wind speed (m/s)','Tower Acceleration y (mm/ss)','Metal particle count counter']\n",
    "print(\"Start\")\n",
    "# lag the specified features by 1, 2, 3, 4, and 5 timesteps\n",
    "for feature in features_to_lag:\n",
    "    for i in range(1, 6):\n",
    "        feature_n = f'{feature}_lagged_{i}'\n",
    "        turbine1_df_final[feature_n] = turbine1_df_final[feature].shift(i)\n",
    "\n",
    "for feature in diff_features:\n",
    "    feature_n = f'{feature}_diff'\n",
    "    turbine1_df_final[feature_n] = turbine1_df_final[feature].diff()\n",
    "               \n",
    "\n",
    "# fill missing values with the previous value\n",
    "turbine1_df_final.fillna(method='ffill', inplace=True)\n"
   ]
  },
  {
   "cell_type": "code",
   "execution_count": 72,
   "metadata": {},
   "outputs": [],
   "source": [
    "turbine1_df_final.fillna(0, inplace=True)\n",
    "\n"
   ]
  },
  {
   "cell_type": "code",
   "execution_count": 73,
   "metadata": {},
   "outputs": [
    {
     "name": "stdout",
     "output_type": "stream",
     "text": [
      "# Date and time                          0\n",
      "Wind speed (m/s)                         0\n",
      "Wind direction (°)                       0\n",
      "Nacelle position (°)                     0\n",
      "Power (kW)                               0\n",
      "                                        ..\n",
      "Metal particle count counter_lagged_5    0\n",
      "blade_angle_diff                         0\n",
      "Nacelle ambient temperature (°C)_diff    0\n",
      "Tower Acceleration X (mm/ss)_diff        0\n",
      "Tower Acceleration y (mm/ss)_diff        0\n",
      "Length: 63, dtype: int64\n"
     ]
    }
   ],
   "source": [
    "print(turbine1_df_final.isnull().sum())"
   ]
  },
  {
   "cell_type": "code",
   "execution_count": 74,
   "metadata": {},
   "outputs": [
    {
     "name": "stdout",
     "output_type": "stream",
     "text": [
      "Index(['# Date and time', 'Wind speed (m/s)', 'Wind direction (°)',\n",
      "       'Nacelle position (°)', 'Power (kW)', 'Front bearing temperature (°C)',\n",
      "       'Rear bearing temperature (°C)', 'Nacelle ambient temperature (°C)',\n",
      "       'Rotor speed (RPM)', 'Generator RPM (RPM)',\n",
      "       'Metal particle count counter', 'Tower Acceleration X (mm/ss)',\n",
      "       'Tower Acceleration y (mm/ss)', 'blade_angle',\n",
      "       'Wind direction (°)_lagged_1', 'Wind direction (°)_lagged_2',\n",
      "       'Wind direction (°)_lagged_3', 'Wind direction (°)_lagged_4',\n",
      "       'Wind direction (°)_lagged_5', 'Rear bearing temperature (°C)_lagged_1',\n",
      "       'Rear bearing temperature (°C)_lagged_2',\n",
      "       'Rear bearing temperature (°C)_lagged_3',\n",
      "       'Rear bearing temperature (°C)_lagged_4',\n",
      "       'Rear bearing temperature (°C)_lagged_5', 'Rotor speed (RPM)_lagged_1',\n",
      "       'Rotor speed (RPM)_lagged_2', 'Rotor speed (RPM)_lagged_3',\n",
      "       'Rotor speed (RPM)_lagged_4', 'Rotor speed (RPM)_lagged_5',\n",
      "       'Generator RPM (RPM)_lagged_1', 'Generator RPM (RPM)_lagged_2',\n",
      "       'Generator RPM (RPM)_lagged_3', 'Generator RPM (RPM)_lagged_4',\n",
      "       'Generator RPM (RPM)_lagged_5',\n",
      "       'Front bearing temperature (°C)_lagged_1',\n",
      "       'Front bearing temperature (°C)_lagged_2',\n",
      "       'Front bearing temperature (°C)_lagged_3',\n",
      "       'Front bearing temperature (°C)_lagged_4',\n",
      "       'Front bearing temperature (°C)_lagged_5',\n",
      "       'Tower Acceleration X (mm/ss)_lagged_1',\n",
      "       'Tower Acceleration X (mm/ss)_lagged_2',\n",
      "       'Tower Acceleration X (mm/ss)_lagged_3',\n",
      "       'Tower Acceleration X (mm/ss)_lagged_4',\n",
      "       'Tower Acceleration X (mm/ss)_lagged_5', 'Wind speed (m/s)_lagged_1',\n",
      "       'Wind speed (m/s)_lagged_2', 'Wind speed (m/s)_lagged_3',\n",
      "       'Wind speed (m/s)_lagged_4', 'Wind speed (m/s)_lagged_5',\n",
      "       'Tower Acceleration y (mm/ss)_lagged_1',\n",
      "       'Tower Acceleration y (mm/ss)_lagged_2',\n",
      "       'Tower Acceleration y (mm/ss)_lagged_3',\n",
      "       'Tower Acceleration y (mm/ss)_lagged_4',\n",
      "       'Tower Acceleration y (mm/ss)_lagged_5',\n",
      "       'Metal particle count counter_lagged_1',\n",
      "       'Metal particle count counter_lagged_2',\n",
      "       'Metal particle count counter_lagged_3',\n",
      "       'Metal particle count counter_lagged_4',\n",
      "       'Metal particle count counter_lagged_5', 'blade_angle_diff',\n",
      "       'Nacelle ambient temperature (°C)_diff',\n",
      "       'Tower Acceleration X (mm/ss)_diff',\n",
      "       'Tower Acceleration y (mm/ss)_diff'],\n",
      "      dtype='object')\n"
     ]
    }
   ],
   "source": [
    "turbine1_df_final_numeric = turbine1_df_final.select_dtypes(include='int')\n",
    "print(turbine1_df_final.columns)\n"
   ]
  },
  {
   "cell_type": "code",
   "execution_count": null,
   "metadata": {},
   "outputs": [],
   "source": [
    "import pandas as pd\n",
    "from datetime import datetime\n",
    "\n",
    "# Assuming 'data_20_final' is your DataFrame containing the data\n",
    "turbine1_df_final['# Date and time'] = pd.to_datetime(turbine1_df_final['# Date and time'])\n",
    "turbine1_df_final['# Date and time'] = turbine1_df_final['# Date and time'].apply(lambda x: int(x.timestamp()))\n",
    "\n",
    "# Now, you can proceed with the normalization step\n"
   ]
  },
  {
   "cell_type": "code",
   "execution_count": null,
   "metadata": {},
   "outputs": [],
   "source": [
    "data_20_final_numeric = turbine1_df_final.select_dtypes(include='int')\n",
    "turbine1_df_final = dpf.normalize_all(turbine1_df_final)\n"
   ]
  },
  {
   "cell_type": "code",
   "execution_count": null,
   "metadata": {},
   "outputs": [],
   "source": [
    "turbine1_df_final.fillna(method='bfill', inplace=True)\n",
    "turbine1_df_final.fillna(method='bfill', inplace=True)\n",
    "turbine1_df_final.fillna(method='bfill', inplace=True)\n",
    "turbine1_df_final.fillna(method='bfill', inplace=True)\n"
   ]
  },
  {
   "cell_type": "code",
   "execution_count": null,
   "metadata": {},
   "outputs": [],
   "source": [
    "turbine1_df_final.to_csv('input_data.csv', index_label=False)\n"
   ]
  },
  {
   "cell_type": "code",
   "execution_count": null,
   "metadata": {},
   "outputs": [],
   "source": [
    "import pickle\n",
    "turbine1_df_final.to_pickle('turbine1_df_final.pkl')\n"
   ]
  }
 ],
 "metadata": {
  "kernelspec": {
   "display_name": "dl",
   "language": "python",
   "name": "python3"
  },
  "language_info": {
   "codemirror_mode": {
    "name": "ipython",
    "version": 3
   },
   "file_extension": ".py",
   "mimetype": "text/x-python",
   "name": "python",
   "nbconvert_exporter": "python",
   "pygments_lexer": "ipython3",
   "version": "3.11.4"
  },
  "orig_nbformat": 4
 },
 "nbformat": 4,
 "nbformat_minor": 2
}
