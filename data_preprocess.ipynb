{
 "cells": [
  {
   "cell_type": "code",
   "execution_count": 41,
   "metadata": {},
   "outputs": [],
   "source": [
    "import os\n",
    "import pandas as pd\n",
    "\n",
    "\n",
    "directory = r\"/home/krishna/Desktop/code/wind_power_time_series/data/\"\n",
    "#input('Please enter the folder directory path :')  # Replace with the actual directory path\n",
    "#year_repo = input('Please enter the year :')\n",
    "\n",
    "# List all files in the directory\n",
    "files = os.listdir(directory)\n",
    "\n",
    "turbine1_df = pd.DataFrame()\n",
    "turbine2_df = pd.DataFrame()\n",
    "turbine3_df = pd.DataFrame()\n",
    "turbine4_df = pd.DataFrame()\n",
    "turbine5_df = pd.DataFrame()\n",
    "turbine6_df = pd.DataFrame()\n",
    "\n",
    "turbines = [turbine1_df, turbine2_df, turbine3_df,turbine4_df, turbine5_df, turbine6_df ]\n",
    "\n",
    "\n",
    "csv_1_files = [file for file in files if file.endswith('.csv') and file.startswith('Turbine_Data_Kelmarsh_1')]\n",
    "csv_2_files = [file for file in files if file.endswith('.csv') and file.startswith('Turbine_Data_Kelmarsh_2')]\n",
    "csv_3_files = [file for file in files if file.endswith('.csv') and file.startswith('Turbine_Data_Kelmarsh_3')]\n",
    "csv_4_files = [file for file in files if file.endswith('.csv') and file.startswith('Turbine_Data_Kelmarsh_4')]\n",
    "csv_5_files = [file for file in files if file.endswith('.csv') and file.startswith('Turbine_Data_Kelmarsh_5')]\n",
    "csv_6_files = [file for file in files if file.endswith('.csv') and file.startswith('Turbine_Data_Kelmarsh_6')]\n",
    "\n",
    "csv_i_files  = [csv_1_files,csv_2_files,csv_3_files,csv_4_files,csv_5_files,csv_6_files]\n"
   ]
  },
  {
   "cell_type": "code",
   "execution_count": 42,
   "metadata": {},
   "outputs": [
    {
     "name": "stdout",
     "output_type": "stream",
     "text": [
      "7793136\n",
      "7793136\n",
      "15758496\n",
      "23551632\n",
      "15715440\n",
      "39267072\n"
     ]
    }
   ],
   "source": [
    "turbine1_df = pd.DataFrame()\n",
    "for csv_1_file in csv_1_files:\n",
    "    path = r'/home/krishna/Desktop/code/wind_power_time_series/data/'\n",
    "    df = pd.read_csv(f'{path}/{csv_1_file}',skiprows=8, header=1)\n",
    "    print(df.size)\n",
    "    turbine1_df = pd.concat([turbine1_df,df], axis=0)\n",
    "    print(turbine1_df.size)\n",
    "    "
   ]
  },
  {
   "cell_type": "code",
   "execution_count": 43,
   "metadata": {},
   "outputs": [],
   "source": [
    "import data_preprocess as dpf\n",
    "turbine1_df_final = dpf.data_process(turbine1_df)\n"
   ]
  },
  {
   "cell_type": "code",
   "execution_count": 44,
   "metadata": {},
   "outputs": [],
   "source": [
    "turbine1_df_final = turbine1_df_final.dropna(subset=['Wind speed (m/s)'])\n",
    "\n",
    "turbine1_df_final['Metal particle count counter'].fillna(method='ffill', inplace=True)\n",
    "turbine1_df_final['Tower Acceleration y (mm/ss)'].fillna(method='ffill', inplace=True)\n",
    "turbine1_df_final['Tower Acceleration X (mm/ss)'].fillna(method='ffill', inplace=True)\n",
    "turbine1_df_final['blade_angle'].fillna(method='ffill', inplace=True)\n",
    "turbine1_df_final['Front bearing temperature (°C)'].fillna(method='ffill', inplace=True)\n",
    "turbine1_df_final['Rear bearing temperature (°C)'].fillna(method='ffill', inplace=True)\n",
    "turbine1_df_final['Nacelle ambient temperature (°C)'].fillna(method='ffill', inplace=True)\n",
    "\n",
    "for i in (1,50):\n",
    "    means = turbine1_df_final.rolling(window=7, min_periods=1).mean(numeric_only=True)\n",
    "\n",
    "    # replace NaN values in each column with the corresponding median value, or 0 if there are no non-NaN values\n",
    "    turbine1_df_final = turbine1_df_final.fillna(means)\n",
    "\n",
    "\n",
    "\n"
   ]
  },
  {
   "cell_type": "code",
   "execution_count": 45,
   "metadata": {},
   "outputs": [],
   "source": [
    "turbine1_df_final = turbine1_df_final.reset_index(drop = True)\n"
   ]
  },
  {
   "cell_type": "code",
   "execution_count": 46,
   "metadata": {},
   "outputs": [
    {
     "name": "stdout",
     "output_type": "stream",
     "text": [
      "Start\n"
     ]
    }
   ],
   "source": [
    "import pandas as pd\n",
    "\n",
    "\n",
    "# specify the list of features to lag\n",
    "diff_features = ['blade_angle','Nacelle ambient temperature (°C)','Tower Acceleration X (mm/ss)','Tower Acceleration y (mm/ss)']\n",
    "features_to_lag = ['Wind direction (°)','Rear bearing temperature (°C)',\n",
    "                'Rotor speed (RPM)','Generator RPM (RPM)',\n",
    "                'Front bearing temperature (°C)','Tower Acceleration X (mm/ss)','Wind speed (m/s)','Tower Acceleration y (mm/ss)','Metal particle count counter']\n",
    "print(\"Start\")\n",
    "# lag the specified features by 1, 2, 3, 4, and 5 timesteps\n",
    "for feature in features_to_lag:\n",
    "    for i in range(1, 6):\n",
    "        feature_n = f'{feature}_lagged_{i}'\n",
    "        turbine1_df_final[feature_n] = turbine1_df_final[feature].shift(i)\n",
    "\n",
    "for feature in diff_features:\n",
    "    feature_n = f'{feature}_diff'\n",
    "    turbine1_df_final[feature_n] = turbine1_df_final[feature].diff()\n",
    "               \n",
    "\n",
    "# fill missing values with the previous value\n",
    "turbine1_df_final.fillna(method='ffill', inplace=True)\n"
   ]
  },
  {
   "cell_type": "code",
   "execution_count": 47,
   "metadata": {},
   "outputs": [],
   "source": [
    "turbine1_df_final.fillna(0, inplace=True)\n",
    "\n"
   ]
  },
  {
   "cell_type": "code",
   "execution_count": 48,
   "metadata": {},
   "outputs": [
    {
     "name": "stdout",
     "output_type": "stream",
     "text": [
      "# Date and time                          0\n",
      "Wind speed (m/s)                         0\n",
      "Wind direction (°)                       0\n",
      "Nacelle position (°)                     0\n",
      "Power (kW)                               0\n",
      "                                        ..\n",
      "Metal particle count counter_lagged_5    0\n",
      "blade_angle_diff                         0\n",
      "Nacelle ambient temperature (°C)_diff    0\n",
      "Tower Acceleration X (mm/ss)_diff        0\n",
      "Tower Acceleration y (mm/ss)_diff        0\n",
      "Length: 63, dtype: int64\n"
     ]
    }
   ],
   "source": [
    "print(turbine1_df_final.isnull().sum())"
   ]
  },
  {
   "cell_type": "code",
   "execution_count": 49,
   "metadata": {},
   "outputs": [
    {
     "name": "stdout",
     "output_type": "stream",
     "text": [
      "Index(['# Date and time', 'Wind speed (m/s)', 'Wind direction (°)',\n",
      "       'Nacelle position (°)', 'Power (kW)', 'Front bearing temperature (°C)',\n",
      "       'Rear bearing temperature (°C)', 'Nacelle ambient temperature (°C)',\n",
      "       'Rotor speed (RPM)', 'Generator RPM (RPM)',\n",
      "       'Metal particle count counter', 'Tower Acceleration X (mm/ss)',\n",
      "       'Tower Acceleration y (mm/ss)', 'blade_angle',\n",
      "       'Wind direction (°)_lagged_1', 'Wind direction (°)_lagged_2',\n",
      "       'Wind direction (°)_lagged_3', 'Wind direction (°)_lagged_4',\n",
      "       'Wind direction (°)_lagged_5', 'Rear bearing temperature (°C)_lagged_1',\n",
      "       'Rear bearing temperature (°C)_lagged_2',\n",
      "       'Rear bearing temperature (°C)_lagged_3',\n",
      "       'Rear bearing temperature (°C)_lagged_4',\n",
      "       'Rear bearing temperature (°C)_lagged_5', 'Rotor speed (RPM)_lagged_1',\n",
      "       'Rotor speed (RPM)_lagged_2', 'Rotor speed (RPM)_lagged_3',\n",
      "       'Rotor speed (RPM)_lagged_4', 'Rotor speed (RPM)_lagged_5',\n",
      "       'Generator RPM (RPM)_lagged_1', 'Generator RPM (RPM)_lagged_2',\n",
      "       'Generator RPM (RPM)_lagged_3', 'Generator RPM (RPM)_lagged_4',\n",
      "       'Generator RPM (RPM)_lagged_5',\n",
      "       'Front bearing temperature (°C)_lagged_1',\n",
      "       'Front bearing temperature (°C)_lagged_2',\n",
      "       'Front bearing temperature (°C)_lagged_3',\n",
      "       'Front bearing temperature (°C)_lagged_4',\n",
      "       'Front bearing temperature (°C)_lagged_5',\n",
      "       'Tower Acceleration X (mm/ss)_lagged_1',\n",
      "       'Tower Acceleration X (mm/ss)_lagged_2',\n",
      "       'Tower Acceleration X (mm/ss)_lagged_3',\n",
      "       'Tower Acceleration X (mm/ss)_lagged_4',\n",
      "       'Tower Acceleration X (mm/ss)_lagged_5', 'Wind speed (m/s)_lagged_1',\n",
      "       'Wind speed (m/s)_lagged_2', 'Wind speed (m/s)_lagged_3',\n",
      "       'Wind speed (m/s)_lagged_4', 'Wind speed (m/s)_lagged_5',\n",
      "       'Tower Acceleration y (mm/ss)_lagged_1',\n",
      "       'Tower Acceleration y (mm/ss)_lagged_2',\n",
      "       'Tower Acceleration y (mm/ss)_lagged_3',\n",
      "       'Tower Acceleration y (mm/ss)_lagged_4',\n",
      "       'Tower Acceleration y (mm/ss)_lagged_5',\n",
      "       'Metal particle count counter_lagged_1',\n",
      "       'Metal particle count counter_lagged_2',\n",
      "       'Metal particle count counter_lagged_3',\n",
      "       'Metal particle count counter_lagged_4',\n",
      "       'Metal particle count counter_lagged_5', 'blade_angle_diff',\n",
      "       'Nacelle ambient temperature (°C)_diff',\n",
      "       'Tower Acceleration X (mm/ss)_diff',\n",
      "       'Tower Acceleration y (mm/ss)_diff'],\n",
      "      dtype='object')\n"
     ]
    }
   ],
   "source": [
    "turbine1_df_final_numeric = turbine1_df_final.select_dtypes(include='int')\n",
    "print(turbine1_df_final.columns)\n"
   ]
  },
  {
   "cell_type": "code",
   "execution_count": 50,
   "metadata": {},
   "outputs": [
    {
     "ename": "ValueError",
     "evalue": "could not convert string to float: '2021-01-01 00:00:00'",
     "output_type": "error",
     "traceback": [
      "\u001b[0;31m---------------------------------------------------------------------------\u001b[0m",
      "\u001b[0;31mValueError\u001b[0m                                Traceback (most recent call last)",
      "Cell \u001b[0;32mIn[50], line 1\u001b[0m\n\u001b[0;32m----> 1\u001b[0m turbine1_df_final \u001b[39m=\u001b[39m dpf\u001b[39m.\u001b[39mnormalize_all(turbine1_df_final)\n",
      "File \u001b[0;32m~/Desktop/code/wind_power_time_series/data_preprocess.py:61\u001b[0m, in \u001b[0;36mnormalize_all\u001b[0;34m(data_20_final)\u001b[0m\n\u001b[1;32m     58\u001b[0m scaler \u001b[39m=\u001b[39m MinMaxScaler()\n\u001b[1;32m     60\u001b[0m \u001b[39m# Normalize the selected columns\u001b[39;00m\n\u001b[0;32m---> 61\u001b[0m data_20_final[columns_to_normalize] \u001b[39m=\u001b[39m scaler\u001b[39m.\u001b[39mfit_transform(data_20_final[columns_to_normalize])\n\u001b[1;32m     62\u001b[0m \u001b[39mreturn\u001b[39;00m(data_20_final)\n",
      "File \u001b[0;32m~/miniconda3/envs/dl/lib/python3.11/site-packages/sklearn/utils/_set_output.py:140\u001b[0m, in \u001b[0;36m_wrap_method_output.<locals>.wrapped\u001b[0;34m(self, X, *args, **kwargs)\u001b[0m\n\u001b[1;32m    138\u001b[0m \u001b[39m@wraps\u001b[39m(f)\n\u001b[1;32m    139\u001b[0m \u001b[39mdef\u001b[39;00m \u001b[39mwrapped\u001b[39m(\u001b[39mself\u001b[39m, X, \u001b[39m*\u001b[39margs, \u001b[39m*\u001b[39m\u001b[39m*\u001b[39mkwargs):\n\u001b[0;32m--> 140\u001b[0m     data_to_wrap \u001b[39m=\u001b[39m f(\u001b[39mself\u001b[39m, X, \u001b[39m*\u001b[39margs, \u001b[39m*\u001b[39m\u001b[39m*\u001b[39mkwargs)\n\u001b[1;32m    141\u001b[0m     \u001b[39mif\u001b[39;00m \u001b[39misinstance\u001b[39m(data_to_wrap, \u001b[39mtuple\u001b[39m):\n\u001b[1;32m    142\u001b[0m         \u001b[39m# only wrap the first output for cross decomposition\u001b[39;00m\n\u001b[1;32m    143\u001b[0m         return_tuple \u001b[39m=\u001b[39m (\n\u001b[1;32m    144\u001b[0m             _wrap_data_with_container(method, data_to_wrap[\u001b[39m0\u001b[39m], X, \u001b[39mself\u001b[39m),\n\u001b[1;32m    145\u001b[0m             \u001b[39m*\u001b[39mdata_to_wrap[\u001b[39m1\u001b[39m:],\n\u001b[1;32m    146\u001b[0m         )\n",
      "File \u001b[0;32m~/miniconda3/envs/dl/lib/python3.11/site-packages/sklearn/base.py:915\u001b[0m, in \u001b[0;36mTransformerMixin.fit_transform\u001b[0;34m(self, X, y, **fit_params)\u001b[0m\n\u001b[1;32m    911\u001b[0m \u001b[39m# non-optimized default implementation; override when a better\u001b[39;00m\n\u001b[1;32m    912\u001b[0m \u001b[39m# method is possible for a given clustering algorithm\u001b[39;00m\n\u001b[1;32m    913\u001b[0m \u001b[39mif\u001b[39;00m y \u001b[39mis\u001b[39;00m \u001b[39mNone\u001b[39;00m:\n\u001b[1;32m    914\u001b[0m     \u001b[39m# fit method of arity 1 (unsupervised transformation)\u001b[39;00m\n\u001b[0;32m--> 915\u001b[0m     \u001b[39mreturn\u001b[39;00m \u001b[39mself\u001b[39m\u001b[39m.\u001b[39mfit(X, \u001b[39m*\u001b[39m\u001b[39m*\u001b[39mfit_params)\u001b[39m.\u001b[39mtransform(X)\n\u001b[1;32m    916\u001b[0m \u001b[39melse\u001b[39;00m:\n\u001b[1;32m    917\u001b[0m     \u001b[39m# fit method of arity 2 (supervised transformation)\u001b[39;00m\n\u001b[1;32m    918\u001b[0m     \u001b[39mreturn\u001b[39;00m \u001b[39mself\u001b[39m\u001b[39m.\u001b[39mfit(X, y, \u001b[39m*\u001b[39m\u001b[39m*\u001b[39mfit_params)\u001b[39m.\u001b[39mtransform(X)\n",
      "File \u001b[0;32m~/miniconda3/envs/dl/lib/python3.11/site-packages/sklearn/preprocessing/_data.py:434\u001b[0m, in \u001b[0;36mMinMaxScaler.fit\u001b[0;34m(self, X, y)\u001b[0m\n\u001b[1;32m    432\u001b[0m \u001b[39m# Reset internal state before fitting\u001b[39;00m\n\u001b[1;32m    433\u001b[0m \u001b[39mself\u001b[39m\u001b[39m.\u001b[39m_reset()\n\u001b[0;32m--> 434\u001b[0m \u001b[39mreturn\u001b[39;00m \u001b[39mself\u001b[39m\u001b[39m.\u001b[39mpartial_fit(X, y)\n",
      "File \u001b[0;32m~/miniconda3/envs/dl/lib/python3.11/site-packages/sklearn/base.py:1151\u001b[0m, in \u001b[0;36m_fit_context.<locals>.decorator.<locals>.wrapper\u001b[0;34m(estimator, *args, **kwargs)\u001b[0m\n\u001b[1;32m   1144\u001b[0m     estimator\u001b[39m.\u001b[39m_validate_params()\n\u001b[1;32m   1146\u001b[0m \u001b[39mwith\u001b[39;00m config_context(\n\u001b[1;32m   1147\u001b[0m     skip_parameter_validation\u001b[39m=\u001b[39m(\n\u001b[1;32m   1148\u001b[0m         prefer_skip_nested_validation \u001b[39mor\u001b[39;00m global_skip_validation\n\u001b[1;32m   1149\u001b[0m     )\n\u001b[1;32m   1150\u001b[0m ):\n\u001b[0;32m-> 1151\u001b[0m     \u001b[39mreturn\u001b[39;00m fit_method(estimator, \u001b[39m*\u001b[39margs, \u001b[39m*\u001b[39m\u001b[39m*\u001b[39mkwargs)\n",
      "File \u001b[0;32m~/miniconda3/envs/dl/lib/python3.11/site-packages/sklearn/preprocessing/_data.py:472\u001b[0m, in \u001b[0;36mMinMaxScaler.partial_fit\u001b[0;34m(self, X, y)\u001b[0m\n\u001b[1;32m    466\u001b[0m     \u001b[39mraise\u001b[39;00m \u001b[39mTypeError\u001b[39;00m(\n\u001b[1;32m    467\u001b[0m         \u001b[39m\"\u001b[39m\u001b[39mMinMaxScaler does not support sparse input. \u001b[39m\u001b[39m\"\u001b[39m\n\u001b[1;32m    468\u001b[0m         \u001b[39m\"\u001b[39m\u001b[39mConsider using MaxAbsScaler instead.\u001b[39m\u001b[39m\"\u001b[39m\n\u001b[1;32m    469\u001b[0m     )\n\u001b[1;32m    471\u001b[0m first_pass \u001b[39m=\u001b[39m \u001b[39mnot\u001b[39;00m \u001b[39mhasattr\u001b[39m(\u001b[39mself\u001b[39m, \u001b[39m\"\u001b[39m\u001b[39mn_samples_seen_\u001b[39m\u001b[39m\"\u001b[39m)\n\u001b[0;32m--> 472\u001b[0m X \u001b[39m=\u001b[39m \u001b[39mself\u001b[39m\u001b[39m.\u001b[39m_validate_data(\n\u001b[1;32m    473\u001b[0m     X,\n\u001b[1;32m    474\u001b[0m     reset\u001b[39m=\u001b[39mfirst_pass,\n\u001b[1;32m    475\u001b[0m     dtype\u001b[39m=\u001b[39mFLOAT_DTYPES,\n\u001b[1;32m    476\u001b[0m     force_all_finite\u001b[39m=\u001b[39m\u001b[39m\"\u001b[39m\u001b[39mallow-nan\u001b[39m\u001b[39m\"\u001b[39m,\n\u001b[1;32m    477\u001b[0m )\n\u001b[1;32m    479\u001b[0m data_min \u001b[39m=\u001b[39m np\u001b[39m.\u001b[39mnanmin(X, axis\u001b[39m=\u001b[39m\u001b[39m0\u001b[39m)\n\u001b[1;32m    480\u001b[0m data_max \u001b[39m=\u001b[39m np\u001b[39m.\u001b[39mnanmax(X, axis\u001b[39m=\u001b[39m\u001b[39m0\u001b[39m)\n",
      "File \u001b[0;32m~/miniconda3/envs/dl/lib/python3.11/site-packages/sklearn/base.py:604\u001b[0m, in \u001b[0;36mBaseEstimator._validate_data\u001b[0;34m(self, X, y, reset, validate_separately, cast_to_ndarray, **check_params)\u001b[0m\n\u001b[1;32m    602\u001b[0m         out \u001b[39m=\u001b[39m X, y\n\u001b[1;32m    603\u001b[0m \u001b[39melif\u001b[39;00m \u001b[39mnot\u001b[39;00m no_val_X \u001b[39mand\u001b[39;00m no_val_y:\n\u001b[0;32m--> 604\u001b[0m     out \u001b[39m=\u001b[39m check_array(X, input_name\u001b[39m=\u001b[39m\u001b[39m\"\u001b[39m\u001b[39mX\u001b[39m\u001b[39m\"\u001b[39m, \u001b[39m*\u001b[39m\u001b[39m*\u001b[39mcheck_params)\n\u001b[1;32m    605\u001b[0m \u001b[39melif\u001b[39;00m no_val_X \u001b[39mand\u001b[39;00m \u001b[39mnot\u001b[39;00m no_val_y:\n\u001b[1;32m    606\u001b[0m     out \u001b[39m=\u001b[39m _check_y(y, \u001b[39m*\u001b[39m\u001b[39m*\u001b[39mcheck_params)\n",
      "File \u001b[0;32m~/miniconda3/envs/dl/lib/python3.11/site-packages/sklearn/utils/validation.py:917\u001b[0m, in \u001b[0;36mcheck_array\u001b[0;34m(array, accept_sparse, accept_large_sparse, dtype, order, copy, force_all_finite, ensure_2d, allow_nd, ensure_min_samples, ensure_min_features, estimator, input_name)\u001b[0m\n\u001b[1;32m    915\u001b[0m         array \u001b[39m=\u001b[39m xp\u001b[39m.\u001b[39mastype(array, dtype, copy\u001b[39m=\u001b[39m\u001b[39mFalse\u001b[39;00m)\n\u001b[1;32m    916\u001b[0m     \u001b[39melse\u001b[39;00m:\n\u001b[0;32m--> 917\u001b[0m         array \u001b[39m=\u001b[39m _asarray_with_order(array, order\u001b[39m=\u001b[39morder, dtype\u001b[39m=\u001b[39mdtype, xp\u001b[39m=\u001b[39mxp)\n\u001b[1;32m    918\u001b[0m \u001b[39mexcept\u001b[39;00m ComplexWarning \u001b[39mas\u001b[39;00m complex_warning:\n\u001b[1;32m    919\u001b[0m     \u001b[39mraise\u001b[39;00m \u001b[39mValueError\u001b[39;00m(\n\u001b[1;32m    920\u001b[0m         \u001b[39m\"\u001b[39m\u001b[39mComplex data not supported\u001b[39m\u001b[39m\\n\u001b[39;00m\u001b[39m{}\u001b[39;00m\u001b[39m\\n\u001b[39;00m\u001b[39m\"\u001b[39m\u001b[39m.\u001b[39mformat(array)\n\u001b[1;32m    921\u001b[0m     ) \u001b[39mfrom\u001b[39;00m \u001b[39mcomplex_warning\u001b[39;00m\n",
      "File \u001b[0;32m~/miniconda3/envs/dl/lib/python3.11/site-packages/sklearn/utils/_array_api.py:380\u001b[0m, in \u001b[0;36m_asarray_with_order\u001b[0;34m(array, dtype, order, copy, xp)\u001b[0m\n\u001b[1;32m    378\u001b[0m     array \u001b[39m=\u001b[39m numpy\u001b[39m.\u001b[39marray(array, order\u001b[39m=\u001b[39morder, dtype\u001b[39m=\u001b[39mdtype)\n\u001b[1;32m    379\u001b[0m \u001b[39melse\u001b[39;00m:\n\u001b[0;32m--> 380\u001b[0m     array \u001b[39m=\u001b[39m numpy\u001b[39m.\u001b[39masarray(array, order\u001b[39m=\u001b[39morder, dtype\u001b[39m=\u001b[39mdtype)\n\u001b[1;32m    382\u001b[0m \u001b[39m# At this point array is a NumPy ndarray. We convert it to an array\u001b[39;00m\n\u001b[1;32m    383\u001b[0m \u001b[39m# container that is consistent with the input's namespace.\u001b[39;00m\n\u001b[1;32m    384\u001b[0m \u001b[39mreturn\u001b[39;00m xp\u001b[39m.\u001b[39masarray(array)\n",
      "File \u001b[0;32m~/miniconda3/envs/dl/lib/python3.11/site-packages/pandas/core/generic.py:2070\u001b[0m, in \u001b[0;36mNDFrame.__array__\u001b[0;34m(self, dtype)\u001b[0m\n\u001b[1;32m   2069\u001b[0m \u001b[39mdef\u001b[39;00m \u001b[39m__array__\u001b[39m(\u001b[39mself\u001b[39m, dtype: npt\u001b[39m.\u001b[39mDTypeLike \u001b[39m|\u001b[39m \u001b[39mNone\u001b[39;00m \u001b[39m=\u001b[39m \u001b[39mNone\u001b[39;00m) \u001b[39m-\u001b[39m\u001b[39m>\u001b[39m np\u001b[39m.\u001b[39mndarray:\n\u001b[0;32m-> 2070\u001b[0m     \u001b[39mreturn\u001b[39;00m np\u001b[39m.\u001b[39masarray(\u001b[39mself\u001b[39m\u001b[39m.\u001b[39m_values, dtype\u001b[39m=\u001b[39mdtype)\n",
      "\u001b[0;31mValueError\u001b[0m: could not convert string to float: '2021-01-01 00:00:00'"
     ]
    }
   ],
   "source": [
    "turbine1_df_final = dpf.normalize_all(turbine1_df_final)\n"
   ]
  },
  {
   "cell_type": "code",
   "execution_count": null,
   "metadata": {},
   "outputs": [],
   "source": [
    "turbine1_df_final.fillna(method='bfill', inplace=True)\n",
    "turbine1_df_final.fillna(method='bfill', inplace=True)\n",
    "turbine1_df_final.fillna(method='bfill', inplace=True)\n",
    "turbine1_df_final.fillna(method='bfill', inplace=True)\n"
   ]
  },
  {
   "cell_type": "code",
   "execution_count": null,
   "metadata": {},
   "outputs": [],
   "source": [
    "turbine1_df_final.to_csv('input_data.csv', index_label=False)\n"
   ]
  },
  {
   "cell_type": "code",
   "execution_count": null,
   "metadata": {},
   "outputs": [],
   "source": [
    "import pickle\n",
    "turbine1_df_final.to_pickle('turbine1_df_final.pkl')\n"
   ]
  }
 ],
 "metadata": {
  "kernelspec": {
   "display_name": "dl",
   "language": "python",
   "name": "python3"
  },
  "language_info": {
   "codemirror_mode": {
    "name": "ipython",
    "version": 3
   },
   "file_extension": ".py",
   "mimetype": "text/x-python",
   "name": "python",
   "nbconvert_exporter": "python",
   "pygments_lexer": "ipython3",
   "version": "3.11.4"
  },
  "orig_nbformat": 4
 },
 "nbformat": 4,
 "nbformat_minor": 2
}
