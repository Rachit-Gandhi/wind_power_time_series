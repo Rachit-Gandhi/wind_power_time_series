{
 "cells": [
  {
   "cell_type": "code",
   "execution_count": 199,
   "metadata": {},
   "outputs": [],
   "source": [
    "import os\n",
    "import pandas as pd\n",
    "\n",
    "directory = r\"/home/krishna/Desktop/wind_turbine/data/\"\n",
    "#input('Please enter the folder directory path :')  # Replace with the actual directory path\n",
    "#year_repo = input('Please enter the year :')\n",
    "\n",
    "# List all files in the directory\n",
    "files = os.listdir(directory)\n",
    "\n",
    "turbine1_df = pd.DataFrame()\n",
    "turbine2_df = pd.DataFrame()\n",
    "turbine3_df = pd.DataFrame()\n",
    "turbine4_df = pd.DataFrame()\n",
    "turbine5_df = pd.DataFrame()\n",
    "turbine6_df = pd.DataFrame()\n",
    "\n",
    "turbines = [turbine1_df, turbine2_df, turbine3_df,turbine4_df, turbine5_df, turbine6_df ]\n",
    "\n",
    "\n",
    "csv_1_files = [file for file in files if file.endswith('.csv') and file.startswith('Turbine_Data_Kelmarsh_1')]\n",
    "csv_2_files = [file for file in files if file.endswith('.csv') and file.startswith('Turbine_Data_Kelmarsh_2')]\n",
    "csv_3_files = [file for file in files if file.endswith('.csv') and file.startswith('Turbine_Data_Kelmarsh_3')]\n",
    "csv_4_files = [file for file in files if file.endswith('.csv') and file.startswith('Turbine_Data_Kelmarsh_4')]\n",
    "csv_5_files = [file for file in files if file.endswith('.csv') and file.startswith('Turbine_Data_Kelmarsh_5')]\n",
    "csv_6_files = [file for file in files if file.endswith('.csv') and file.startswith('Turbine_Data_Kelmarsh_6')]\n",
    "\n",
    "csv_i_files  = [csv_1_files,csv_2_files,csv_3_files,csv_4_files,csv_5_files,csv_6_files]\n"
   ]
  },
  {
   "cell_type": "code",
   "execution_count": 200,
   "metadata": {},
   "outputs": [
    {
     "name": "stdout",
     "output_type": "stream",
     "text": [
      "7793136\n",
      "7793136\n",
      "15758496\n",
      "23551632\n",
      "15715440\n",
      "39267072\n"
     ]
    }
   ],
   "source": [
    "turbine1_df = pd.DataFrame()\n",
    "for csv_1_file in csv_1_files:\n",
    "    path = r'/home/krishna/Desktop/wind_turbine/data/'\n",
    "    df = pd.read_csv(f'{path}/{csv_1_file}',skiprows=8, header=1)\n",
    "    print(df.size)\n",
    "    turbine1_df = pd.concat([turbine1_df,df], axis=0)\n",
    "    print(turbine1_df.size)\n",
    "    "
   ]
  },
  {
   "cell_type": "code",
   "execution_count": 201,
   "metadata": {},
   "outputs": [
    {
     "name": "stdout",
     "output_type": "stream",
     "text": [
      "Index(['# Date and time', 'Wind speed (m/s)', 'Wind direction (°)',\n",
      "       'Nacelle position (°)', 'Power (kW)', 'Front bearing temperature (°C)',\n",
      "       'Rear bearing temperature (°C)', 'Nacelle ambient temperature (°C)',\n",
      "       'Rotor speed (RPM)', 'Generator RPM (RPM)',\n",
      "       'Metal particle count counter', 'Tower Acceleration X (mm/ss)',\n",
      "       'Tower Acceleration y (mm/ss)', 'blade_angle'],\n",
      "      dtype='object')\n"
     ]
    }
   ],
   "source": [
    "import data_preprocess as dpf\n",
    "turbine1_df_final = dpf.data_process(turbine1_df)\n",
    "\n",
    "print(turbine1_df_final.columns)"
   ]
  },
  {
   "cell_type": "code",
   "execution_count": 202,
   "metadata": {},
   "outputs": [],
   "source": [
    "# calculate the median of each column over the last 14 days, ignoring NaN values\n",
    "# Assuming 'df' is your DataFrame\n",
    "turbine1_df_final = turbine1_df_final.dropna(subset=['Wind speed (m/s)'])\n",
    "# Assuming 'df' is your DataFrame and the columns are ['column1', 'column2', 'column3']\n",
    "\n",
    "turbine1_df_final['Metal particle count counter'].fillna(method='ffill', inplace=True)\n",
    "turbine1_df_final['Tower Acceleration y (mm/ss)'].fillna(method='ffill', inplace=True)\n",
    "turbine1_df_final['Tower Acceleration X (mm/ss)'].fillna(method='ffill', inplace=True)\n",
    "turbine1_df_final['blade_angle'].fillna(method='ffill', inplace=True)\n",
    "turbine1_df_final['Front bearing temperature (°C)'].fillna(method='ffill', inplace=True)\n",
    "turbine1_df_final['Rear bearing temperature (°C)'].fillna(method='ffill', inplace=True)\n",
    "turbine1_df_final['Nacelle ambient temperature (°C)'].fillna(method='ffill', inplace=True)\n",
    "\n",
    "for i in (1,50):\n",
    "    means = turbine1_df_final.rolling(window=7, min_periods=1).mean(numeric_only=True)\n",
    "\n",
    "    # replace NaN values in each column with the corresponding median value, or 0 if there are no non-NaN values\n",
    "    turbine1_df_final = turbine1_df_final.fillna(means)\n",
    "    "
   ]
  },
  {
   "cell_type": "code",
   "execution_count": 203,
   "metadata": {},
   "outputs": [],
   "source": [
    "# Assuming 'df' is your DataFrame\n",
    "nan_rows = turbine1_df_final[turbine1_df_final.isna().any(axis=1)]\n",
    "\n",
    "nan_df = nan_rows\n"
   ]
  },
  {
   "cell_type": "code",
   "execution_count": 204,
   "metadata": {},
   "outputs": [],
   "source": [
    "nan_df.to_csv('nan.csv')"
   ]
  },
  {
   "cell_type": "code",
   "execution_count": 205,
   "metadata": {},
   "outputs": [
    {
     "name": "stdout",
     "output_type": "stream",
     "text": [
      "Train length: 87989\n",
      "Test length: 43339\n"
     ]
    }
   ],
   "source": [
    "\n",
    "from darts import TimeSeries\n",
    "from darts.utils.timeseries_generation import linear_timeseries\n",
    "\n",
    "frequency = '10min'\n",
    "\n",
    "# Assuming you have a pandas DataFrame with a column named 'timestamp' and a column named 'power'\n",
    "# and you want to split the data into 80% training and 20% testing\n",
    "\n",
    "# Convert your data to a Darts TimeSeries object\n",
    "series = TimeSeries.from_dataframe(turbine1_df, '# Date and time', 'Power (kW)', freq=frequency)\n",
    "\n",
    "# Split the time series into training and testing sets\n",
    "train_size = int(len(series) * 0.67)  # 67% of the data for training\n",
    "train, test = series[:train_size], series[train_size:]\n",
    "\n",
    "# Print the lengths of the train and test sets\n",
    "print(\"Train length:\", len(train))\n",
    "print(\"Test length:\", len(test))\n",
    "\n"
   ]
  }
 ],
 "metadata": {
  "kernelspec": {
   "display_name": "dl",
   "language": "python",
   "name": "python3"
  },
  "language_info": {
   "codemirror_mode": {
    "name": "ipython",
    "version": 3
   },
   "file_extension": ".py",
   "mimetype": "text/x-python",
   "name": "python",
   "nbconvert_exporter": "python",
   "pygments_lexer": "ipython3",
   "version": "3.11.4"
  },
  "orig_nbformat": 4
 },
 "nbformat": 4,
 "nbformat_minor": 2
}
