{
 "cells": [
  {
   "cell_type": "code",
   "execution_count": 1,
   "metadata": {},
   "outputs": [],
   "source": [
    "import pickle\n",
    "import pandas as pd\n",
    "import numpy as np"
   ]
  },
  {
   "cell_type": "code",
   "execution_count": 2,
   "metadata": {},
   "outputs": [],
   "source": [
    "df = pd.read_pickle('turbine1_df_final.pkl')\n",
    "\n"
   ]
  },
  {
   "cell_type": "code",
   "execution_count": 3,
   "metadata": {},
   "outputs": [],
   "source": [
    "df['# Date and time'] = pd.to_datetime(df['# Date and time'])\n",
    "# Perform cyclic encoding for month and hour\n",
    "df['month_sin'] = np.sin(2 * np.pi * df['# Date and time'].dt.month / 12)\n",
    "df['month_cos'] = np.cos(2 * np.pi * df['# Date and time'].dt.month / 12)\n",
    "\n",
    "df['hour_sin'] = np.sin(2 * np.pi * df['# Date and time'].dt.hour / 24)\n",
    "df['hour_cos'] = np.cos(2 * np.pi * df['# Date and time'].dt.hour / 24)\n",
    "\n",
    "# Drop the original 'Date and time' column\n",
    "df.drop('# Date and time', axis=1, inplace=True)"
   ]
  },
  {
   "cell_type": "code",
   "execution_count": 4,
   "metadata": {},
   "outputs": [
    {
     "name": "stdout",
     "output_type": "stream",
     "text": [
      "Training set shape: (78436, 66)\n",
      "Validation set shape: (26146, 66)\n",
      "Testing set shape: (26146, 66)\n"
     ]
    }
   ],
   "source": [
    "from sklearn.model_selection import train_test_split\n",
    "\n",
    "# Split the dataset into training, validation, and testing sets\n",
    "train_df, test_df = train_test_split(df, test_size=0.2, random_state=42, shuffle=False)\n",
    "train_df, val_df = train_test_split(train_df, test_size=0.25, random_state=42, shuffle=False)\n",
    "\n",
    "# Print the shape of each split\n",
    "print('Training set shape:', train_df.shape)\n",
    "print('Validation set shape:', val_df.shape)\n",
    "print('Testing set shape:', test_df.shape)\n",
    "test_df.reset_index(drop=True, inplace=True)\n",
    "val_df.reset_index(drop=True, inplace=True)"
   ]
  },
  {
   "cell_type": "code",
   "execution_count": 5,
   "metadata": {},
   "outputs": [],
   "source": [
    "from pytorch_tabnet.tab_model import TabNetRegressor\n",
    "\n",
    "import torch\n",
    "from sklearn.preprocessing import LabelEncoder\n",
    "from sklearn.metrics import mean_squared_error\n",
    "\n",
    "import pandas as pd\n",
    "import numpy as np\n",
    "np.random.seed(0)\n",
    "\n",
    "\n",
    "import os\n"
   ]
  },
  {
   "cell_type": "code",
   "execution_count": 6,
   "metadata": {},
   "outputs": [
    {
     "name": "stdout",
     "output_type": "stream",
     "text": [
      "RangeIndex(start=0, stop=26146, step=1)\n"
     ]
    }
   ],
   "source": [
    "train_indices = train_df.index\n",
    "valid_indices = val_df.index\n",
    "test_indices = test_df.index\n",
    "print(valid_indices)"
   ]
  },
  {
   "cell_type": "code",
   "execution_count": 7,
   "metadata": {},
   "outputs": [],
   "source": [
    "target = 'Power (kW)'\n",
    "features = [ col for col in train_df.columns if col not in target] \n",
    "\n",
    "X_train = train_df[features].values[train_indices]\n",
    "y_train = train_df[target].values[train_indices].reshape(-1, 1)\n",
    "\n",
    "X_valid = val_df[features].values[valid_indices]\n",
    "y_valid = val_df[target].values[valid_indices].reshape(-1, 1)\n",
    "\n",
    "X_test = test_df[features].values[test_indices]\n",
    "y_test = test_df[target].values[test_indices].reshape(-1, 1)\n"
   ]
  },
  {
   "cell_type": "code",
   "execution_count": 8,
   "metadata": {},
   "outputs": [],
   "source": [
    "max_epochs = 78 if not os.getenv(\"CI\", False) else 2"
   ]
  },
  {
   "cell_type": "code",
   "execution_count": 9,
   "metadata": {},
   "outputs": [],
   "source": [
    "from pytorch_tabnet.augmentations import RegressionSMOTE\n",
    "aug = RegressionSMOTE(p=0.2)\n"
   ]
  },
  {
   "cell_type": "code",
   "execution_count": 10,
   "metadata": {},
   "outputs": [
    {
     "name": "stderr",
     "output_type": "stream",
     "text": [
      "/home/krishna/miniconda3/envs/dl/lib/python3.11/site-packages/pytorch_tabnet/abstract_model.py:75: UserWarning: Device used : cuda\n",
      "  warnings.warn(f\"Device used : {self.device}\")\n"
     ]
    }
   ],
   "source": [
    "\n",
    "clf = TabNetRegressor(n_d=8, n_a=8, n_steps=8 ,gamma=1.95)\n"
   ]
  },
  {
   "cell_type": "code",
   "execution_count": 11,
   "metadata": {},
   "outputs": [
    {
     "name": "stdout",
     "output_type": "stream",
     "text": [
      "epoch 0  | loss: 1.06245 | train_rmsle: 0.04198 | train_mae: 0.24727 | train_rmse: 0.27729 | train_mse: 0.07689 | valid_rmsle: 0.03929 | valid_mae: 0.23331 | valid_rmse: 0.2616  | valid_mse: 0.06844 |  0:00:08s\n",
      "epoch 1  | loss: 0.06158 | train_rmsle: 0.0131  | train_mae: 0.12153 | train_rmse: 0.18244 | train_mse: 0.03328 | valid_rmsle: 0.01083 | valid_mae: 0.11154 | valid_rmse: 0.16019 | valid_mse: 0.02566 |  0:00:16s\n",
      "epoch 2  | loss: 0.01144 | train_rmsle: 0.01181 | train_mae: 0.12113 | train_rmse: 0.17232 | train_mse: 0.02969 | valid_rmsle: 0.00982 | valid_mae: 0.10763 | valid_rmse: 0.15358 | valid_mse: 0.02359 |  0:00:23s\n",
      "epoch 3  | loss: 0.00774 | train_rmsle: 0.00835 | train_mae: 0.09962 | train_rmse: 0.14865 | train_mse: 0.0221  | valid_rmsle: 0.00638 | valid_mae: 0.08559 | valid_rmse: 0.12564 | valid_mse: 0.01579 |  0:00:31s\n",
      "epoch 4  | loss: 0.00601 | train_rmsle: 0.00567 | train_mae: 0.07463 | train_rmse: 0.12832 | train_mse: 0.01647 | valid_rmsle: 0.00406 | valid_mae: 0.06226 | valid_rmse: 0.1062  | valid_mse: 0.01128 |  0:00:38s\n",
      "epoch 5  | loss: 0.00512 | train_rmsle: 0.00208 | train_mae: 0.04805 | train_rmse: 0.07745 | train_mse: 0.006   | valid_rmsle: 0.00195 | valid_mae: 0.04449 | valid_rmse: 0.07222 | valid_mse: 0.00522 |  0:00:46s\n",
      "epoch 6  | loss: 0.00488 | train_rmsle: 0.00112 | train_mae: 0.03602 | train_rmse: 0.05036 | train_mse: 0.00254 | valid_rmsle: 0.00147 | valid_mae: 0.0382  | valid_rmse: 0.05272 | valid_mse: 0.00278 |  0:00:54s\n",
      "epoch 7  | loss: 0.00538 | train_rmsle: 0.00259 | train_mae: 0.0452  | train_rmse: 0.08535 | train_mse: 0.00728 | valid_rmsle: 0.00189 | valid_mae: 0.03892 | valid_rmse: 0.06852 | valid_mse: 0.0047  |  0:01:02s\n",
      "epoch 8  | loss: 0.00522 | train_rmsle: 0.00114 | train_mae: 0.03324 | train_rmse: 0.05095 | train_mse: 0.0026  | valid_rmsle: 0.00269 | valid_mae: 0.04769 | valid_rmse: 0.0676  | valid_mse: 0.00457 |  0:01:10s\n",
      "epoch 9  | loss: 0.00457 | train_rmsle: 0.00109 | train_mae: 0.03384 | train_rmse: 0.05479 | train_mse: 0.003   | valid_rmsle: 0.00199 | valid_mae: 0.03688 | valid_rmse: 0.06085 | valid_mse: 0.0037  |  0:01:18s\n",
      "epoch 10 | loss: 0.00461 | train_rmsle: 0.00161 | train_mae: 0.04011 | train_rmse: 0.06436 | train_mse: 0.00414 | valid_rmsle: 0.00189 | valid_mae: 0.04279 | valid_rmse: 0.06468 | valid_mse: 0.00418 |  0:01:25s\n",
      "epoch 11 | loss: 0.00437 | train_rmsle: 0.00153 | train_mae: 0.03647 | train_rmse: 0.06229 | train_mse: 0.00388 | valid_rmsle: 0.0015  | valid_mae: 0.03666 | valid_rmse: 0.05461 | valid_mse: 0.00298 |  0:01:33s\n",
      "epoch 12 | loss: 0.00443 | train_rmsle: 0.00087 | train_mae: 0.02993 | train_rmse: 0.0471  | train_mse: 0.00222 | valid_rmsle: 0.00092 | valid_mae: 0.02864 | valid_rmse: 0.04396 | valid_mse: 0.00193 |  0:01:41s\n",
      "epoch 13 | loss: 0.00403 | train_rmsle: 0.00157 | train_mae: 0.04217 | train_rmse: 0.06555 | train_mse: 0.0043  | valid_rmsle: 0.00169 | valid_mae: 0.04105 | valid_rmse: 0.06293 | valid_mse: 0.00396 |  0:01:49s\n",
      "epoch 14 | loss: 0.00405 | train_rmsle: 0.00122 | train_mae: 0.03521 | train_rmse: 0.06556 | train_mse: 0.0043  | valid_rmsle: 0.00228 | valid_mae: 0.04711 | valid_rmse: 0.06329 | valid_mse: 0.00401 |  0:01:57s\n",
      "epoch 15 | loss: 0.00389 | train_rmsle: 0.00146 | train_mae: 0.03951 | train_rmse: 0.0649  | train_mse: 0.00421 | valid_rmsle: 0.00246 | valid_mae: 0.04799 | valid_rmse: 0.06828 | valid_mse: 0.00466 |  0:02:04s\n",
      "epoch 16 | loss: 0.00377 | train_rmsle: 0.00133 | train_mae: 0.03663 | train_rmse: 0.05982 | train_mse: 0.00358 | valid_rmsle: 0.00126 | valid_mae: 0.03085 | valid_rmse: 0.05248 | valid_mse: 0.00275 |  0:02:12s\n",
      "epoch 17 | loss: 0.0036  | train_rmsle: 0.00113 | train_mae: 0.03313 | train_rmse: 0.0549  | train_mse: 0.00301 | valid_rmsle: 0.00132 | valid_mae: 0.03317 | valid_rmse: 0.05199 | valid_mse: 0.0027  |  0:02:20s\n",
      "epoch 18 | loss: 0.00358 | train_rmsle: 0.00102 | train_mae: 0.03255 | train_rmse: 0.05167 | train_mse: 0.00267 | valid_rmsle: 0.00135 | valid_mae: 0.03307 | valid_rmse: 0.05141 | valid_mse: 0.00264 |  0:02:28s\n",
      "epoch 19 | loss: 0.0034  | train_rmsle: 0.00123 | train_mae: 0.03518 | train_rmse: 0.05749 | train_mse: 0.00331 | valid_rmsle: 0.00135 | valid_mae: 0.03434 | valid_rmse: 0.05264 | valid_mse: 0.00277 |  0:02:36s\n",
      "epoch 20 | loss: 0.00333 | train_rmsle: 0.00108 | train_mae: 0.03372 | train_rmse: 0.0509  | train_mse: 0.00259 | valid_rmsle: 0.00156 | valid_mae: 0.0355  | valid_rmse: 0.05322 | valid_mse: 0.00283 |  0:02:44s\n",
      "epoch 21 | loss: 0.00322 | train_rmsle: 0.00161 | train_mae: 0.04254 | train_rmse: 0.06613 | train_mse: 0.00437 | valid_rmsle: 0.00196 | valid_mae: 0.04069 | valid_rmse: 0.0617  | valid_mse: 0.00381 |  0:02:53s\n",
      "epoch 22 | loss: 0.00344 | train_rmsle: 0.00115 | train_mae: 0.03479 | train_rmse: 0.05357 | train_mse: 0.00287 | valid_rmsle: 0.00187 | valid_mae: 0.04118 | valid_rmse: 0.05728 | valid_mse: 0.00328 |  0:03:01s\n",
      "epoch 23 | loss: 0.00348 | train_rmsle: 0.00117 | train_mae: 0.03289 | train_rmse: 0.05531 | train_mse: 0.00306 | valid_rmsle: 0.00218 | valid_mae: 0.04413 | valid_rmse: 0.06396 | valid_mse: 0.00409 |  0:03:09s\n",
      "epoch 24 | loss: 0.00376 | train_rmsle: 0.00112 | train_mae: 0.03193 | train_rmse: 0.04893 | train_mse: 0.00239 | valid_rmsle: 0.00319 | valid_mae: 0.04997 | valid_rmse: 0.0727  | valid_mse: 0.00529 |  0:03:17s\n",
      "epoch 25 | loss: 0.00354 | train_rmsle: 0.00136 | train_mae: 0.03953 | train_rmse: 0.056   | train_mse: 0.00314 | valid_rmsle: 0.00467 | valid_mae: 0.07028 | valid_rmse: 0.09326 | valid_mse: 0.0087  |  0:03:25s\n",
      "epoch 26 | loss: 0.00358 | train_rmsle: 0.00128 | train_mae: 0.03518 | train_rmse: 0.05885 | train_mse: 0.00346 | valid_rmsle: 0.00443 | valid_mae: 0.05723 | valid_rmse: 0.08706 | valid_mse: 0.00758 |  0:03:32s\n",
      "epoch 27 | loss: 0.0035  | train_rmsle: 0.00111 | train_mae: 0.03595 | train_rmse: 0.04875 | train_mse: 0.00238 | valid_rmsle: 0.00412 | valid_mae: 0.0658  | valid_rmse: 0.08243 | valid_mse: 0.00679 |  0:03:40s\n",
      "epoch 28 | loss: 0.00317 | train_rmsle: 0.00105 | train_mae: 0.03252 | train_rmse: 0.05024 | train_mse: 0.00252 | valid_rmsle: 0.00217 | valid_mae: 0.04288 | valid_rmse: 0.05992 | valid_mse: 0.00359 |  0:03:48s\n",
      "epoch 29 | loss: 0.00299 | train_rmsle: 0.00092 | train_mae: 0.03059 | train_rmse: 0.04681 | train_mse: 0.00219 | valid_rmsle: 0.00247 | valid_mae: 0.04536 | valid_rmse: 0.06343 | valid_mse: 0.00402 |  0:03:56s\n",
      "epoch 30 | loss: 0.0029  | train_rmsle: 0.00111 | train_mae: 0.03451 | train_rmse: 0.05299 | train_mse: 0.00281 | valid_rmsle: 0.00245 | valid_mae: 0.04843 | valid_rmse: 0.06382 | valid_mse: 0.00407 |  0:04:04s\n",
      "epoch 31 | loss: 0.00277 | train_rmsle: 0.00071 | train_mae: 0.02701 | train_rmse: 0.03842 | train_mse: 0.00148 | valid_rmsle: 0.00242 | valid_mae: 0.0465  | valid_rmse: 0.06245 | valid_mse: 0.0039  |  0:04:11s\n",
      "epoch 32 | loss: 0.00272 | train_rmsle: 0.00086 | train_mae: 0.03085 | train_rmse: 0.0466  | train_mse: 0.00217 | valid_rmsle: 0.00192 | valid_mae: 0.04244 | valid_rmse: 0.05761 | valid_mse: 0.00332 |  0:04:20s\n",
      "epoch 33 | loss: 0.00277 | train_rmsle: 0.00109 | train_mae: 0.03531 | train_rmse: 0.0507  | train_mse: 0.00257 | valid_rmsle: 0.00307 | valid_mae: 0.0561  | valid_rmse: 0.07518 | valid_mse: 0.00565 |  0:04:29s\n",
      "epoch 34 | loss: 0.00255 | train_rmsle: 0.00067 | train_mae: 0.02583 | train_rmse: 0.03673 | train_mse: 0.00135 | valid_rmsle: 0.00285 | valid_mae: 0.05108 | valid_rmse: 0.06957 | valid_mse: 0.00484 |  0:04:37s\n",
      "epoch 35 | loss: 0.00247 | train_rmsle: 0.0006  | train_mae: 0.02418 | train_rmse: 0.03533 | train_mse: 0.00125 | valid_rmsle: 0.00179 | valid_mae: 0.03814 | valid_rmse: 0.05517 | valid_mse: 0.00304 |  0:04:45s\n",
      "epoch 36 | loss: 0.0024  | train_rmsle: 0.00071 | train_mae: 0.02661 | train_rmse: 0.0361  | train_mse: 0.0013  | valid_rmsle: 0.00222 | valid_mae: 0.04721 | valid_rmse: 0.06033 | valid_mse: 0.00364 |  0:04:53s\n",
      "epoch 37 | loss: 0.00262 | train_rmsle: 0.00071 | train_mae: 0.02702 | train_rmse: 0.03663 | train_mse: 0.00134 | valid_rmsle: 0.00222 | valid_mae: 0.04756 | valid_rmse: 0.06098 | valid_mse: 0.00372 |  0:05:00s\n",
      "epoch 38 | loss: 0.00285 | train_rmsle: 0.00069 | train_mae: 0.02778 | train_rmse: 0.04013 | train_mse: 0.00161 | valid_rmsle: 0.0021  | valid_mae: 0.0458  | valid_rmse: 0.05931 | valid_mse: 0.00352 |  0:05:08s\n",
      "epoch 39 | loss: 0.00308 | train_rmsle: 0.00079 | train_mae: 0.0298  | train_rmse: 0.04352 | train_mse: 0.00189 | valid_rmsle: 0.00193 | valid_mae: 0.04364 | valid_rmse: 0.055   | valid_mse: 0.00303 |  0:05:16s\n",
      "epoch 40 | loss: 0.00247 | train_rmsle: 0.00069 | train_mae: 0.02829 | train_rmse: 0.03818 | train_mse: 0.00146 | valid_rmsle: 0.00229 | valid_mae: 0.05145 | valid_rmse: 0.06221 | valid_mse: 0.00387 |  0:05:24s\n",
      "epoch 41 | loss: 0.0026  | train_rmsle: 0.0007  | train_mae: 0.02617 | train_rmse: 0.04246 | train_mse: 0.0018  | valid_rmsle: 0.0021  | valid_mae: 0.05166 | valid_rmse: 0.06466 | valid_mse: 0.00418 |  0:05:31s\n",
      "epoch 42 | loss: 0.00268 | train_rmsle: 0.00115 | train_mae: 0.03676 | train_rmse: 0.05663 | train_mse: 0.00321 | valid_rmsle: 0.00115 | valid_mae: 0.03516 | valid_rmse: 0.0468  | valid_mse: 0.00219 |  0:05:39s\n",
      "epoch 43 | loss: 0.0026  | train_rmsle: 0.00071 | train_mae: 0.0278  | train_rmse: 0.04238 | train_mse: 0.0018  | valid_rmsle: 0.00232 | valid_mae: 0.04945 | valid_rmse: 0.06165 | valid_mse: 0.0038  |  0:05:47s\n",
      "epoch 44 | loss: 0.00261 | train_rmsle: 0.00097 | train_mae: 0.03351 | train_rmse: 0.05123 | train_mse: 0.00262 | valid_rmsle: 0.00239 | valid_mae: 0.049   | valid_rmse: 0.0652  | valid_mse: 0.00425 |  0:05:55s\n",
      "epoch 45 | loss: 0.00289 | train_rmsle: 0.00066 | train_mae: 0.0271  | train_rmse: 0.04513 | train_mse: 0.00204 | valid_rmsle: 0.00132 | valid_mae: 0.03595 | valid_rmse: 0.0479  | valid_mse: 0.00229 |  0:06:03s\n",
      "epoch 46 | loss: 0.00264 | train_rmsle: 0.00073 | train_mae: 0.02845 | train_rmse: 0.04399 | train_mse: 0.00194 | valid_rmsle: 0.0015  | valid_mae: 0.03799 | valid_rmse: 0.04956 | valid_mse: 0.00246 |  0:06:11s\n",
      "epoch 47 | loss: 0.00253 | train_rmsle: 0.00062 | train_mae: 0.02621 | train_rmse: 0.04076 | train_mse: 0.00166 | valid_rmsle: 0.00165 | valid_mae: 0.03676 | valid_rmse: 0.05146 | valid_mse: 0.00265 |  0:06:19s\n",
      "epoch 48 | loss: 0.0024  | train_rmsle: 0.00087 | train_mae: 0.03144 | train_rmse: 0.04785 | train_mse: 0.00229 | valid_rmsle: 0.00172 | valid_mae: 0.04207 | valid_rmse: 0.05478 | valid_mse: 0.003   |  0:06:27s\n",
      "epoch 49 | loss: 0.00239 | train_rmsle: 0.00059 | train_mae: 0.0242  | train_rmse: 0.03563 | train_mse: 0.00127 | valid_rmsle: 0.00269 | valid_mae: 0.05306 | valid_rmse: 0.06839 | valid_mse: 0.00468 |  0:06:35s\n",
      "epoch 50 | loss: 0.0024  | train_rmsle: 0.00089 | train_mae: 0.03218 | train_rmse: 0.04749 | train_mse: 0.00225 | valid_rmsle: 0.00245 | valid_mae: 0.05052 | valid_rmse: 0.06349 | valid_mse: 0.00403 |  0:06:43s\n",
      "epoch 51 | loss: 0.00224 | train_rmsle: 0.00066 | train_mae: 0.02709 | train_rmse: 0.03867 | train_mse: 0.0015  | valid_rmsle: 0.00166 | valid_mae: 0.04029 | valid_rmse: 0.05119 | valid_mse: 0.00262 |  0:06:51s\n",
      "epoch 52 | loss: 0.00226 | train_rmsle: 0.00073 | train_mae: 0.02877 | train_rmse: 0.04135 | train_mse: 0.00171 | valid_rmsle: 0.00187 | valid_mae: 0.04265 | valid_rmse: 0.05422 | valid_mse: 0.00294 |  0:06:58s\n",
      "epoch 53 | loss: 0.0022  | train_rmsle: 0.00056 | train_mae: 0.02487 | train_rmse: 0.03698 | train_mse: 0.00137 | valid_rmsle: 0.00227 | valid_mae: 0.05172 | valid_rmse: 0.06888 | valid_mse: 0.00474 |  0:07:06s\n",
      "epoch 54 | loss: 0.0023  | train_rmsle: 0.0012  | train_mae: 0.03708 | train_rmse: 0.05797 | train_mse: 0.00336 | valid_rmsle: 0.00228 | valid_mae: 0.05169 | valid_rmse: 0.06588 | valid_mse: 0.00434 |  0:07:14s\n",
      "epoch 55 | loss: 0.00233 | train_rmsle: 0.00088 | train_mae: 0.03126 | train_rmse: 0.04766 | train_mse: 0.00227 | valid_rmsle: 0.00184 | valid_mae: 0.04561 | valid_rmse: 0.05944 | valid_mse: 0.00353 |  0:07:22s\n",
      "epoch 56 | loss: 0.00225 | train_rmsle: 0.00075 | train_mae: 0.02971 | train_rmse: 0.03975 | train_mse: 0.00158 | valid_rmsle: 0.0034  | valid_mae: 0.06772 | valid_rmse: 0.08711 | valid_mse: 0.00759 |  0:07:31s\n",
      "epoch 57 | loss: 0.00231 | train_rmsle: 0.00069 | train_mae: 0.0276  | train_rmse: 0.04339 | train_mse: 0.00188 | valid_rmsle: 0.00149 | valid_mae: 0.04084 | valid_rmse: 0.05528 | valid_mse: 0.00306 |  0:07:39s\n",
      "epoch 58 | loss: 0.00222 | train_rmsle: 0.00088 | train_mae: 0.03169 | train_rmse: 0.0485  | train_mse: 0.00235 | valid_rmsle: 0.00139 | valid_mae: 0.03938 | valid_rmse: 0.04779 | valid_mse: 0.00228 |  0:07:46s\n",
      "epoch 59 | loss: 0.00215 | train_rmsle: 0.0007  | train_mae: 0.02777 | train_rmse: 0.03971 | train_mse: 0.00158 | valid_rmsle: 0.0028  | valid_mae: 0.0561  | valid_rmse: 0.06842 | valid_mse: 0.00468 |  0:07:55s\n",
      "epoch 60 | loss: 0.00225 | train_rmsle: 0.00075 | train_mae: 0.02907 | train_rmse: 0.04032 | train_mse: 0.00163 | valid_rmsle: 0.00373 | valid_mae: 0.06652 | valid_rmse: 0.07628 | valid_mse: 0.00582 |  0:08:03s\n",
      "epoch 61 | loss: 0.00252 | train_rmsle: 0.00079 | train_mae: 0.02918 | train_rmse: 0.03901 | train_mse: 0.00152 | valid_rmsle: 0.00244 | valid_mae: 0.05296 | valid_rmse: 0.06413 | valid_mse: 0.00411 |  0:08:11s\n",
      "epoch 62 | loss: 0.00237 | train_rmsle: 0.00056 | train_mae: 0.02432 | train_rmse: 0.03479 | train_mse: 0.00121 | valid_rmsle: 0.00167 | valid_mae: 0.04169 | valid_rmse: 0.05289 | valid_mse: 0.0028  |  0:08:19s\n",
      "\n",
      "Early stopping occurred at epoch 62 with best_epoch = 12 and best_valid_mse = 0.00193\n"
     ]
    },
    {
     "name": "stderr",
     "output_type": "stream",
     "text": [
      "/home/krishna/miniconda3/envs/dl/lib/python3.11/site-packages/pytorch_tabnet/callbacks.py:172: UserWarning: Best weights from best epoch are automatically used!\n",
      "  warnings.warn(wrn_msg)\n"
     ]
    }
   ],
   "source": [
    "clf.fit(\n",
    "    X_train=X_train, y_train=y_train,\n",
    "    eval_set=[(X_train, y_train), (X_valid, y_valid)],\n",
    "    eval_name=['train', 'valid'],\n",
    "    eval_metric=['rmsle', 'mae', 'rmse', 'mse'],\n",
    "    max_epochs=max_epochs,\n",
    "    patience=50,\n",
    "    batch_size=1024, virtual_batch_size=128,\n",
    "    num_workers=0,\n",
    "    drop_last=False,\n",
    "    augmentations=aug, #aug\n",
    ") "
   ]
  },
  {
   "cell_type": "code",
   "execution_count": 12,
   "metadata": {},
   "outputs": [],
   "source": [
    "preds = clf.predict(X_test)\n",
    "\n",
    "y_true = y_test\n",
    "\n",
    "test_score = mean_squared_error(y_pred=preds, y_true=y_true)\n"
   ]
  },
  {
   "cell_type": "code",
   "execution_count": 13,
   "metadata": {},
   "outputs": [
    {
     "name": "stdout",
     "output_type": "stream",
     "text": [
      "0.0017761602307688475\n"
     ]
    }
   ],
   "source": [
    "print(test_score)"
   ]
  },
  {
   "cell_type": "code",
   "execution_count": 14,
   "metadata": {},
   "outputs": [
    {
     "data": {
      "text/plain": [
       "array([4.26892227e-06, 0.00000000e+00, 0.00000000e+00, 3.00723057e-02,\n",
       "       0.00000000e+00, 1.81987064e-06, 1.37099386e-01, 3.07597264e-01,\n",
       "       1.17412334e-05, 0.00000000e+00, 0.00000000e+00, 7.68810592e-02,\n",
       "       6.31930090e-04, 8.53033960e-03, 1.69922775e-02, 8.09343194e-03,\n",
       "       1.85524606e-08, 0.00000000e+00, 5.99931009e-03, 0.00000000e+00,\n",
       "       0.00000000e+00, 0.00000000e+00, 7.60999255e-05, 1.14790590e-06,\n",
       "       1.17366399e-01, 1.14198997e-02, 0.00000000e+00, 3.89959469e-06,\n",
       "       0.00000000e+00, 0.00000000e+00, 0.00000000e+00, 7.32325158e-05,\n",
       "       0.00000000e+00, 6.57038847e-05, 1.35262607e-02, 2.21752146e-05,\n",
       "       0.00000000e+00, 6.23984265e-02, 8.66896181e-03, 0.00000000e+00,\n",
       "       2.79329075e-03, 1.93734536e-06, 9.73141818e-04, 0.00000000e+00,\n",
       "       2.06456979e-06, 5.23236864e-02, 1.94160263e-02, 4.95664089e-03,\n",
       "       8.15198301e-04, 4.23687933e-02, 4.42582323e-03, 1.96317046e-02,\n",
       "       0.00000000e+00, 2.24109549e-03, 0.00000000e+00, 3.52501762e-03,\n",
       "       4.90427532e-03, 0.00000000e+00, 2.95825462e-03, 0.00000000e+00,\n",
       "       4.75344631e-03, 5.37095814e-03, 0.00000000e+00, 8.05441066e-04,\n",
       "       2.21958440e-02])"
      ]
     },
     "execution_count": 14,
     "metadata": {},
     "output_type": "execute_result"
    }
   ],
   "source": [
    "clf.feature_importances_"
   ]
  },
  {
   "cell_type": "code",
   "execution_count": 15,
   "metadata": {},
   "outputs": [
    {
     "data": {
      "image/png": "[encoded data removed]",
      "text/plain": [
       "<Figure size 2000x2000 with 3 Axes>"
      ]
     },
     "metadata": {},
     "output_type": "display_data"
    }
   ],
   "source": [
    "explain_matrix, masks = clf.explain(X_test)\n",
    "from matplotlib import pyplot as plt\n",
    "fig, axs = plt.subplots(1, 3, figsize=(20,20))\n",
    "\n",
    "for i in range(3):\n",
    "    axs[i].imshow(masks[i][:50])\n",
    "    axs[i].set_title(f\"mask {i}\")"
   ]
  },
  {
   "cell_type": "code",
   "execution_count": 16,
   "metadata": {},
   "outputs": [
    {
     "name": "stderr",
     "output_type": "stream",
     "text": [
      "/home/krishna/miniconda3/envs/dl/lib/python3.11/site-packages/xgboost/sklearn.py:835: UserWarning: `early_stopping_rounds` in `fit` method is deprecated for better compatibility with scikit-learn, use `early_stopping_rounds` in constructor or`set_params` instead.\n",
      "  warnings.warn(\n"
     ]
    },
    {
     "name": "stdout",
     "output_type": "stream",
     "text": [
      "[0]\tvalidation_0-rmse:0.32395\n",
      "[10]\tvalidation_0-rmse:0.11461\n",
      "[20]\tvalidation_0-rmse:0.04277\n",
      "[30]\tvalidation_0-rmse:0.02010\n",
      "[40]\tvalidation_0-rmse:0.01466\n",
      "[50]\tvalidation_0-rmse:0.01361\n",
      "[60]\tvalidation_0-rmse:0.01340\n",
      "[70]\tvalidation_0-rmse:0.01335\n",
      "[80]\tvalidation_0-rmse:0.01333\n",
      "[90]\tvalidation_0-rmse:0.01331\n",
      "[100]\tvalidation_0-rmse:0.01329\n",
      "[110]\tvalidation_0-rmse:0.01329\n",
      "[120]\tvalidation_0-rmse:0.01329\n",
      "[130]\tvalidation_0-rmse:0.01331\n",
      "[138]\tvalidation_0-rmse:0.01330\n"
     ]
    },
    {
     "data": {
      "text/html": [
       "<style>#sk-container-id-1 {color: black;}#sk-container-id-1 pre{padding: 0;}#sk-container-id-1 div.sk-toggleable {background-color: white;}#sk-container-id-1 label.sk-toggleable__label {cursor: pointer;display: block;width: 100%;margin-bottom: 0;padding: 0.3em;box-sizing: border-box;text-align: center;}#sk-container-id-1 label.sk-toggleable__label-arrow:before {content: \"▸\";float: left;margin-right: 0.25em;color: #696969;}#sk-container-id-1 label.sk-toggleable__label-arrow:hover:before {color: black;}#sk-container-id-1 div.sk-estimator:hover label.sk-toggleable__label-arrow:before {color: black;}#sk-container-id-1 div.sk-toggleable__content {max-height: 0;max-width: 0;overflow: hidden;text-align: left;background-color: #f0f8ff;}#sk-container-id-1 div.sk-toggleable__content pre {margin: 0.2em;color: black;border-radius: 0.25em;background-color: #f0f8ff;}#sk-container-id-1 input.sk-toggleable__control:checked~div.sk-toggleable__content {max-height: 200px;max-width: 100%;overflow: auto;}#sk-container-id-1 input.sk-toggleable__control:checked~label.sk-toggleable__label-arrow:before {content: \"▾\";}#sk-container-id-1 div.sk-estimator input.sk-toggleable__control:checked~label.sk-toggleable__label {background-color: #d4ebff;}#sk-container-id-1 div.sk-label input.sk-toggleable__control:checked~label.sk-toggleable__label {background-color: #d4ebff;}#sk-container-id-1 input.sk-hidden--visually {border: 0;clip: rect(1px 1px 1px 1px);clip: rect(1px, 1px, 1px, 1px);height: 1px;margin: -1px;overflow: hidden;padding: 0;position: absolute;width: 1px;}#sk-container-id-1 div.sk-estimator {font-family: monospace;background-color: #f0f8ff;border: 1px dotted black;border-radius: 0.25em;box-sizing: border-box;margin-bottom: 0.5em;}#sk-container-id-1 div.sk-estimator:hover {background-color: #d4ebff;}#sk-container-id-1 div.sk-parallel-item::after {content: \"\";width: 100%;border-bottom: 1px solid gray;flex-grow: 1;}#sk-container-id-1 div.sk-label:hover label.sk-toggleable__label {background-color: #d4ebff;}#sk-container-id-1 div.sk-serial::before {content: \"\";position: absolute;border-left: 1px solid gray;box-sizing: border-box;top: 0;bottom: 0;left: 50%;z-index: 0;}#sk-container-id-1 div.sk-serial {display: flex;flex-direction: column;align-items: center;background-color: white;padding-right: 0.2em;padding-left: 0.2em;position: relative;}#sk-container-id-1 div.sk-item {position: relative;z-index: 1;}#sk-container-id-1 div.sk-parallel {display: flex;align-items: stretch;justify-content: center;background-color: white;position: relative;}#sk-container-id-1 div.sk-item::before, #sk-container-id-1 div.sk-parallel-item::before {content: \"\";position: absolute;border-left: 1px solid gray;box-sizing: border-box;top: 0;bottom: 0;left: 50%;z-index: -1;}#sk-container-id-1 div.sk-parallel-item {display: flex;flex-direction: column;z-index: 1;position: relative;background-color: white;}#sk-container-id-1 div.sk-parallel-item:first-child::after {align-self: flex-end;width: 50%;}#sk-container-id-1 div.sk-parallel-item:last-child::after {align-self: flex-start;width: 50%;}#sk-container-id-1 div.sk-parallel-item:only-child::after {width: 0;}#sk-container-id-1 div.sk-dashed-wrapped {border: 1px dashed gray;margin: 0 0.4em 0.5em 0.4em;box-sizing: border-box;padding-bottom: 0.4em;background-color: white;}#sk-container-id-1 div.sk-label label {font-family: monospace;font-weight: bold;display: inline-block;line-height: 1.2em;}#sk-container-id-1 div.sk-label-container {text-align: center;}#sk-container-id-1 div.sk-container {/* jupyter's `normalize.less` sets `[hidden] { display: none; }` but bootstrap.min.css set `[hidden] { display: none !important; }` so we also need the `!important` here to be able to override the default hidden behavior on the sphinx rendered scikit-learn.org. See: https://github.com/scikit-learn/scikit-learn/issues/21755 */display: inline-block !important;position: relative;}#sk-container-id-1 div.sk-text-repr-fallback {display: none;}</style><div id=\"sk-container-id-1\" class=\"sk-top-container\"><div class=\"sk-text-repr-fallback\"><pre>XGBRegressor(base_score=0.5, booster=&#x27;gbtree&#x27;, callbacks=None,\n",
       "             colsample_bylevel=1, colsample_bynode=1, colsample_bytree=1,\n",
       "             early_stopping_rounds=None, enable_categorical=False,\n",
       "             eval_metric=None, feature_types=None, gamma=0, gpu_id=None,\n",
       "             grow_policy=None, importance_type=None,\n",
       "             interaction_constraints=None, learning_rate=0.1, max_bin=None,\n",
       "             max_cat_threshold=None, max_cat_to_onehot=None, max_delta_step=0,\n",
       "             max_depth=8, max_leaves=None, min_child_weight=1, missing=nan,\n",
       "             monotone_constraints=None, n_estimators=1000, n_jobs=-1,\n",
       "             nthread=None, num_parallel_tree=None, objective=&#x27;reg:linear&#x27;, ...)</pre><b>In a Jupyter environment, please rerun this cell to show the HTML representation or trust the notebook. <br />On GitHub, the HTML representation is unable to render, please try loading this page with nbviewer.org.</b></div><div class=\"sk-container\" hidden><div class=\"sk-item\"><div class=\"sk-estimator sk-toggleable\"><input class=\"sk-toggleable__control sk-hidden--visually\" id=\"sk-estimator-id-1\" type=\"checkbox\" checked><label for=\"sk-estimator-id-1\" class=\"sk-toggleable__label sk-toggleable__label-arrow\">XGBRegressor</label><div class=\"sk-toggleable__content\"><pre>XGBRegressor(base_score=0.5, booster=&#x27;gbtree&#x27;, callbacks=None,\n",
       "             colsample_bylevel=1, colsample_bynode=1, colsample_bytree=1,\n",
       "             early_stopping_rounds=None, enable_categorical=False,\n",
       "             eval_metric=None, feature_types=None, gamma=0, gpu_id=None,\n",
       "             grow_policy=None, importance_type=None,\n",
       "             interaction_constraints=None, learning_rate=0.1, max_bin=None,\n",
       "             max_cat_threshold=None, max_cat_to_onehot=None, max_delta_step=0,\n",
       "             max_depth=8, max_leaves=None, min_child_weight=1, missing=nan,\n",
       "             monotone_constraints=None, n_estimators=1000, n_jobs=-1,\n",
       "             nthread=None, num_parallel_tree=None, objective=&#x27;reg:linear&#x27;, ...)</pre></div></div></div></div></div>"
      ],
      "text/plain": [
       "XGBRegressor(base_score=0.5, booster='gbtree', callbacks=None,\n",
       "             colsample_bylevel=1, colsample_bynode=1, colsample_bytree=1,\n",
       "             early_stopping_rounds=None, enable_categorical=False,\n",
       "             eval_metric=None, feature_types=None, gamma=0, gpu_id=None,\n",
       "             grow_policy=None, importance_type=None,\n",
       "             interaction_constraints=None, learning_rate=0.1, max_bin=None,\n",
       "             max_cat_threshold=None, max_cat_to_onehot=None, max_delta_step=0,\n",
       "             max_depth=8, max_leaves=None, min_child_weight=1, missing=nan,\n",
       "             monotone_constraints=None, n_estimators=1000, n_jobs=-1,\n",
       "             nthread=None, num_parallel_tree=None, objective='reg:linear', ...)"
      ]
     },
     "execution_count": 16,
     "metadata": {},
     "output_type": "execute_result"
    }
   ],
   "source": [
    "from xgboost import XGBRegressor\n",
    "\n",
    "reg_xgb = XGBRegressor(max_depth=8,\n",
    "    learning_rate=0.1,\n",
    "    n_estimators=1000,\n",
    "    verbosity=0,\n",
    "    silent=None,\n",
    "    objective='reg:linear',\n",
    "    booster='gbtree',\n",
    "    n_jobs=-1,\n",
    "    nthread=None,\n",
    "    gamma=0,\n",
    "    min_child_weight=1,\n",
    "    max_delta_step=0,\n",
    "    subsample=0.7,\n",
    "    colsample_bytree=1,\n",
    "    colsample_bylevel=1,\n",
    "    colsample_bynode=1,\n",
    "    reg_alpha=0,\n",
    "    reg_lambda=1,\n",
    "    scale_pos_weight=1,\n",
    "    base_score=0.5,\n",
    "    random_state=0,\n",
    "    seed=None,)\n",
    "\n",
    "reg_xgb.fit(X_train, y_train,\n",
    "        eval_set=[(X_valid, y_valid)],\n",
    "        early_stopping_rounds=40,\n",
    "        verbose=10)"
   ]
  },
  {
   "cell_type": "code",
   "execution_count": 17,
   "metadata": {},
   "outputs": [
    {
     "name": "stdout",
     "output_type": "stream",
     "text": [
      "[3.78227234e-02 5.35090003e-05 1.02894781e-04 1.49786865e-04\n",
      " 1.04764847e-04 1.63700344e-04 7.86159754e-01 1.66692644e-01\n",
      " 1.62399039e-04 1.36344403e-04 1.23864607e-04 3.25831398e-03\n",
      " 1.11413574e-04 1.12267953e-04 1.12513058e-04 1.15435665e-04\n",
      " 9.74491413e-05 7.48724633e-05 7.42438278e-05 8.17979526e-05\n",
      " 9.10188464e-05 8.10626516e-05 1.62408571e-04 9.22517429e-05\n",
      " 6.92411995e-05 6.06398789e-05 6.15876997e-05 2.05707460e-04\n",
      " 9.76096126e-05 9.17855941e-05 7.44235294e-05 8.87563365e-05\n",
      " 7.44791614e-05 6.22049338e-05 6.85490304e-05 6.57211494e-05\n",
      " 6.70680165e-05 1.42811637e-04 9.89059918e-05 9.52478367e-05\n",
      " 1.08733664e-04 8.95528574e-05 1.07477274e-04 1.15086681e-04\n",
      " 8.60139335e-05 7.83390569e-05 6.42610321e-05 1.03312457e-04\n",
      " 9.24527631e-05 8.45081231e-05 7.72333588e-05 8.96328202e-05\n",
      " 2.81332632e-05 2.14036554e-04 3.18860257e-05 3.27980561e-05\n",
      " 5.04529162e-05 2.01942370e-04 7.67721576e-05 5.93836303e-05\n",
      " 6.03012268e-05 2.65900104e-04 1.67839185e-04 8.06350436e-05\n",
      " 7.12153196e-05]\n"
     ]
    }
   ],
   "source": [
    "print(reg_xgb.feature_importances_)\n"
   ]
  },
  {
   "cell_type": "code",
   "execution_count": 28,
   "metadata": {},
   "outputs": [
    {
     "data": {
      "image/png": "[encoded data removed]",
      "text/plain": [
       "<Figure size 640x480 with 1 Axes>"
      ]
     },
     "metadata": {},
     "output_type": "display_data"
    }
   ],
   "source": [
    "import matplotlib\n",
    "from matplotlib import pyplot as plt\n",
    "\n",
    "xgb_feature_importance_ = reg_xgb.feature_importances_\n",
    "# plotclf_xgb.feature_importances_\n",
    "plt.bar(range(len(xgb_feature_importance_)),xgb_feature_importance_)\n",
    "plt.show()"
   ]
  },
  {
   "cell_type": "code",
   "execution_count": 38,
   "metadata": {},
   "outputs": [
    {
     "name": "stdout",
     "output_type": "stream",
     "text": [
      "[3.78227234e-02 5.35090003e-05 1.02894781e-04 1.49786865e-04\n",
      " 1.04764847e-04 1.63700344e-04 7.86159754e-01 1.66692644e-01\n",
      " 1.62399039e-04 1.36344403e-04 1.23864607e-04 3.25831398e-03\n",
      " 1.11413574e-04 1.12267953e-04 1.12513058e-04 1.15435665e-04\n",
      " 9.74491413e-05 7.48724633e-05 7.42438278e-05 8.17979526e-05\n",
      " 9.10188464e-05 8.10626516e-05 1.62408571e-04 9.22517429e-05\n",
      " 6.92411995e-05 6.06398789e-05 6.15876997e-05 2.05707460e-04\n",
      " 9.76096126e-05 9.17855941e-05 7.44235294e-05 8.87563365e-05\n",
      " 7.44791614e-05 6.22049338e-05 6.85490304e-05 6.57211494e-05\n",
      " 6.70680165e-05 1.42811637e-04 9.89059918e-05 9.52478367e-05\n",
      " 1.08733664e-04 8.95528574e-05 1.07477274e-04 1.15086681e-04\n",
      " 8.60139335e-05 7.83390569e-05 6.42610321e-05 1.03312457e-04\n",
      " 9.24527631e-05 8.45081231e-05 7.72333588e-05 8.96328202e-05\n",
      " 2.81332632e-05 2.14036554e-04 3.18860257e-05 3.27980561e-05\n",
      " 5.04529162e-05 2.01942370e-04 7.67721576e-05 5.93836303e-05\n",
      " 6.03012268e-05 2.65900104e-04 1.67839185e-04 8.06350436e-05\n",
      " 7.12153196e-05]\n"
     ]
    }
   ],
   "source": [
    "print(reg_xgb.feature_importances_)"
   ]
  },
  {
   "cell_type": "code",
   "execution_count": 18,
   "metadata": {},
   "outputs": [
    {
     "name": "stdout",
     "output_type": "stream",
     "text": [
      "0.00017644276280005152\n",
      "0.00014436806643773912\n"
     ]
    }
   ],
   "source": [
    "preds = np.array(reg_xgb.predict(X_valid))\n",
    "valid_auc = mean_squared_error(y_pred=preds, y_true=y_valid)\n",
    "print(valid_auc)\n",
    "\n",
    "preds = np.array(reg_xgb.predict(X_test))\n",
    "test_auc = mean_squared_error(y_pred=preds, y_true=y_test)\n",
    "print(test_auc)\n"
   ]
  },
  {
   "cell_type": "code",
   "execution_count": 19,
   "metadata": {},
   "outputs": [
    {
     "name": "stdout",
     "output_type": "stream",
     "text": [
      "Successfully saved model at ./tabnet_model_test_1.zip\n"
     ]
    }
   ],
   "source": [
    "# save tabnet model\n",
    "saving_path_name = \"./tabnet_model_test_1\"\n",
    "saved_filepath = clf.save_model(saving_path_name)"
   ]
  },
  {
   "cell_type": "code",
   "execution_count": 20,
   "metadata": {},
   "outputs": [
    {
     "name": "stderr",
     "output_type": "stream",
     "text": [
      "/home/krishna/miniconda3/envs/dl/lib/python3.11/site-packages/pytorch_tabnet/abstract_model.py:75: UserWarning: Device used : cuda\n",
      "  warnings.warn(f\"Device used : {self.device}\")\n"
     ]
    }
   ],
   "source": [
    "# define new model with basic parameters and load state dict weights\n",
    "loaded_clf = TabNetRegressor()\n",
    "loaded_clf.load_model(saved_filepath)"
   ]
  },
  {
   "cell_type": "code",
   "execution_count": 21,
   "metadata": {},
   "outputs": [
    {
     "name": "stdout",
     "output_type": "stream",
     "text": [
      "FINAL TEST SCORE FOR dataset : 0.0017761602307688475\n"
     ]
    }
   ],
   "source": [
    "loaded_preds = loaded_clf.predict(X_test)\n",
    "loaded_test_mse = mean_squared_error(loaded_preds, y_test)\n",
    "\n",
    "print(f\"FINAL TEST SCORE FOR dataset : {loaded_test_mse}\")\n"
   ]
  },
  {
   "cell_type": "code",
   "execution_count": 22,
   "metadata": {},
   "outputs": [],
   "source": [
    "assert(test_score == loaded_test_mse)"
   ]
  }
 ],
 "metadata": {
  "kernelspec": {
   "display_name": "dl_conda",
   "language": "python",
   "name": "python3"
  },
  "language_info": {
   "codemirror_mode": {
    "name": "ipython",
    "version": 3
   },
   "file_extension": ".py",
   "mimetype": "text/x-python",
   "name": "python",
   "nbconvert_exporter": "python",
   "pygments_lexer": "ipython3",
   "version": "3.11.4"
  },
  "orig_nbformat": 4
 },
 "nbformat": 4,
 "nbformat_minor": 2
}
